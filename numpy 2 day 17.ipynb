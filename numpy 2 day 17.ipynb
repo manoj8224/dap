{
 "cells": [
  {
   "cell_type": "code",
   "execution_count": null,
   "id": "d6c2880b-fdb7-411b-8adb-d89cc42fcb2c",
   "metadata": {},
   "outputs": [],
   "source": []
  },
  {
   "cell_type": "code",
   "execution_count": 3,
   "id": "8b75cfdf-1456-4b36-976c-d91090342203",
   "metadata": {},
   "outputs": [],
   "source": [
    "import numpy as np"
   ]
  },
  {
   "cell_type": "code",
   "execution_count": null,
   "id": "0ebcdd59-c68f-45ce-a759-8f6a34465da5",
   "metadata": {},
   "outputs": [],
   "source": []
  },
  {
   "cell_type": "code",
   "execution_count": null,
   "id": "c62b4bc4-ed05-440c-8bf8-fc5c1d9ac09a",
   "metadata": {},
   "outputs": [],
   "source": []
  },
  {
   "cell_type": "code",
   "execution_count": 39,
   "id": "747958a4-a130-4fd8-a879-0d5de5eb1eda",
   "metadata": {},
   "outputs": [
    {
     "name": "stdout",
     "output_type": "stream",
     "text": [
      "🎯 Uniform distribution:\n",
      " [[0.53799742 0.09610836 0.22409704]\n",
      " [0.69456721 0.47778852 0.56808924]\n",
      " [0.27326383 0.82070171 0.24666514]]\n"
     ]
    }
   ],
   "source": [
    "# Uniform distribution\n",
    "uniform = np.random.rand(3, 3)\n",
    "print(\"🎯 Uniform distribution:\\n\", uniform)"
   ]
  },
  {
   "cell_type": "code",
   "execution_count": null,
   "id": "c00a05ee-c53f-49a0-be21-1da036546998",
   "metadata": {},
   "outputs": [],
   "source": []
  },
  {
   "cell_type": "code",
   "execution_count": 41,
   "id": "4690eaf8-445a-430e-bdf1-309f80de93c1",
   "metadata": {},
   "outputs": [
    {
     "name": "stdout",
     "output_type": "stream",
     "text": [
      "\n",
      "📈 Normal distribution:\n",
      " [[-0.1187919   1.71428348  1.2692846 ]\n",
      " [ 0.02802686 -0.20176361 -0.88213825]\n",
      " [ 1.27537466  0.17522774  1.1090105 ]]\n"
     ]
    }
   ],
   "source": [
    "# Normal distribution\n",
    "normal = np.random.randn(3, 3)\n",
    "print(\"\\n📈 Normal distribution:\\n\", normal)"
   ]
  },
  {
   "cell_type": "code",
   "execution_count": null,
   "id": "f03c7ff8-cbcc-4d52-b8f6-d12e1e7949e9",
   "metadata": {},
   "outputs": [],
   "source": []
  },
  {
   "cell_type": "code",
   "execution_count": null,
   "id": "25c8060c-eb49-4ff9-9fcf-51ac689e44f2",
   "metadata": {},
   "outputs": [],
   "source": []
  },
  {
   "cell_type": "code",
   "execution_count": null,
   "id": "cfbc4383-a4e0-40b3-b7e1-5ff28ed58f29",
   "metadata": {},
   "outputs": [],
   "source": []
  },
  {
   "cell_type": "code",
   "execution_count": null,
   "id": "63e95c49-4e1f-4123-8331-e886e9124422",
   "metadata": {},
   "outputs": [],
   "source": []
  },
  {
   "cell_type": "code",
   "execution_count": null,
   "id": "a9146947-1a68-426e-9230-52a292e753c8",
   "metadata": {},
   "outputs": [],
   "source": []
  },
  {
   "cell_type": "code",
   "execution_count": 5,
   "id": "e82987cd-0e0e-4f16-b419-95c991855914",
   "metadata": {},
   "outputs": [],
   "source": [
    "arr = np.array([1, 2, 3, 4, 5])"
   ]
  },
  {
   "cell_type": "code",
   "execution_count": 7,
   "id": "d85fd2dc-a966-457b-9800-c9a41c22ef77",
   "metadata": {},
   "outputs": [
    {
     "data": {
      "text/plain": [
       "(array([3, 4], dtype=int64),)"
      ]
     },
     "execution_count": 7,
     "metadata": {},
     "output_type": "execute_result"
    }
   ],
   "source": [
    "np.where(arr > 3)"
   ]
  },
  {
   "cell_type": "code",
   "execution_count": null,
   "id": "2b582a94-79f2-47e7-8d46-8927c65563e1",
   "metadata": {},
   "outputs": [],
   "source": []
  },
  {
   "cell_type": "code",
   "execution_count": 11,
   "id": "0b4a9012-1aa4-4f97-aeb9-048692f7461f",
   "metadata": {},
   "outputs": [
    {
     "data": {
      "text/plain": [
       "(array([0, 1], dtype=int64),)"
      ]
     },
     "execution_count": 11,
     "metadata": {},
     "output_type": "execute_result"
    }
   ],
   "source": [
    "np.where(arr<=2)"
   ]
  },
  {
   "cell_type": "code",
   "execution_count": 13,
   "id": "42584eb4-4ecb-4c89-8bb4-c6eedcc4d446",
   "metadata": {},
   "outputs": [
    {
     "data": {
      "text/plain": [
       "(array([], dtype=int64),)"
      ]
     },
     "execution_count": 13,
     "metadata": {},
     "output_type": "execute_result"
    }
   ],
   "source": [
    "np.where(arr>5)"
   ]
  },
  {
   "cell_type": "code",
   "execution_count": 67,
   "id": "0eb4a1ae-b448-45f4-b17b-ba77dd635f6f",
   "metadata": {},
   "outputs": [
    {
     "name": "stdout",
     "output_type": "stream",
     "text": [
      "Where > 3: (array([3, 4], dtype=int64),)\n"
     ]
    }
   ],
   "source": [
    "print(\"Where > 3:\", np.where(arr > 3))"
   ]
  },
  {
   "cell_type": "code",
   "execution_count": null,
   "id": "50195559-7f3f-400a-b348-6c5450d19828",
   "metadata": {},
   "outputs": [],
   "source": []
  },
  {
   "cell_type": "code",
   "execution_count": null,
   "id": "4bb23956-2cc4-481e-9431-006b2b3ce9e5",
   "metadata": {},
   "outputs": [],
   "source": []
  },
  {
   "cell_type": "code",
   "execution_count": null,
   "id": "f4b958c2-607d-4dd6-840d-4f2949b5ad38",
   "metadata": {},
   "outputs": [],
   "source": []
  },
  {
   "cell_type": "code",
   "execution_count": null,
   "id": "c0f50320-fdd1-44bb-ad5a-4c277f01594e",
   "metadata": {},
   "outputs": [],
   "source": []
  },
  {
   "cell_type": "code",
   "execution_count": 15,
   "id": "e6200a52-8dc1-4cb9-a4a3-ab40e8d84c4f",
   "metadata": {},
   "outputs": [],
   "source": [
    "arr = np.array([1, 2, 3, 4, 5])\n"
   ]
  },
  {
   "cell_type": "code",
   "execution_count": 17,
   "id": "c8ec9d8f-537e-431b-9404-1a42b2e69c39",
   "metadata": {},
   "outputs": [
    {
     "data": {
      "text/plain": [
       "4"
      ]
     },
     "execution_count": 17,
     "metadata": {},
     "output_type": "execute_result"
    }
   ],
   "source": [
    "np.argmax(arr)"
   ]
  },
  {
   "cell_type": "code",
   "execution_count": 19,
   "id": "4b835a37-03f2-438a-b69c-0bb40631070f",
   "metadata": {},
   "outputs": [
    {
     "data": {
      "text/plain": [
       "0"
      ]
     },
     "execution_count": 19,
     "metadata": {},
     "output_type": "execute_result"
    }
   ],
   "source": [
    "np.argmin(arr)"
   ]
  },
  {
   "cell_type": "code",
   "execution_count": null,
   "id": "c2788e44-b702-4742-a12a-e96e4b2e610a",
   "metadata": {},
   "outputs": [],
   "source": []
  },
  {
   "cell_type": "code",
   "execution_count": null,
   "id": "2470283f-5f0e-4b1c-ac8f-d4629e3302d2",
   "metadata": {},
   "outputs": [],
   "source": []
  },
  {
   "cell_type": "code",
   "execution_count": 49,
   "id": "d27d9499-470c-4fcd-9c22-4be1bdaaac42",
   "metadata": {},
   "outputs": [
    {
     "name": "stdout",
     "output_type": "stream",
     "text": [
      "Max Index: 4\n"
     ]
    }
   ],
   "source": [
    "print(\"Max Index:\", np.argmax(arr))\n"
   ]
  },
  {
   "cell_type": "code",
   "execution_count": null,
   "id": "8d749604-5530-42f2-900b-074b4ccab3d9",
   "metadata": {},
   "outputs": [],
   "source": []
  },
  {
   "cell_type": "code",
   "execution_count": 52,
   "id": "06883d2a-3a2a-4b68-9ebb-78cef329beb3",
   "metadata": {},
   "outputs": [
    {
     "name": "stdout",
     "output_type": "stream",
     "text": [
      "Min Index: 0\n"
     ]
    }
   ],
   "source": [
    "print(\"Min Index:\", np.argmin(arr))"
   ]
  },
  {
   "cell_type": "code",
   "execution_count": null,
   "id": "b1a2684b-e242-4d8a-8935-105e1a34ab59",
   "metadata": {},
   "outputs": [],
   "source": []
  },
  {
   "cell_type": "code",
   "execution_count": null,
   "id": "d408a2fa-82bd-4ad6-bd49-5efe44994919",
   "metadata": {},
   "outputs": [],
   "source": []
  },
  {
   "cell_type": "code",
   "execution_count": null,
   "id": "5b0510e4-f60f-4d04-8efd-3534313a6032",
   "metadata": {},
   "outputs": [],
   "source": []
  },
  {
   "cell_type": "code",
   "execution_count": null,
   "id": "4bbf3822-968c-494c-a075-5d7523b25388",
   "metadata": {},
   "outputs": [],
   "source": []
  },
  {
   "cell_type": "code",
   "execution_count": 21,
   "id": "79d8ab85-ba26-4552-851f-7b6021e03bfc",
   "metadata": {},
   "outputs": [],
   "source": [
    "sorted_arr = np.array([1, 3, 5 , 7 ])"
   ]
  },
  {
   "cell_type": "code",
   "execution_count": 23,
   "id": "7be7f2d5-7f0b-4599-9fc0-84e36be936db",
   "metadata": {},
   "outputs": [
    {
     "data": {
      "text/plain": [
       "3"
      ]
     },
     "execution_count": 23,
     "metadata": {},
     "output_type": "execute_result"
    }
   ],
   "source": [
    "np.searchsorted(sorted_arr, 6)"
   ]
  },
  {
   "cell_type": "code",
   "execution_count": 25,
   "id": "01c01601-593e-4b88-a33b-6de78355503e",
   "metadata": {},
   "outputs": [
    {
     "data": {
      "text/plain": [
       "4"
      ]
     },
     "execution_count": 25,
     "metadata": {},
     "output_type": "execute_result"
    }
   ],
   "source": [
    "np.searchsorted(sorted_arr, 100)"
   ]
  },
  {
   "cell_type": "code",
   "execution_count": 27,
   "id": "f4970f4a-e5bf-4d4e-9a3a-f34f575082c0",
   "metadata": {},
   "outputs": [
    {
     "data": {
      "text/plain": [
       "0"
      ]
     },
     "execution_count": 27,
     "metadata": {},
     "output_type": "execute_result"
    }
   ],
   "source": [
    "np.searchsorted(sorted_arr, 0)"
   ]
  },
  {
   "cell_type": "code",
   "execution_count": 56,
   "id": "712cfe65-1e0f-4085-92e7-17072af5406e",
   "metadata": {},
   "outputs": [
    {
     "name": "stdout",
     "output_type": "stream",
     "text": [
      "Insert 6 at index: 3\n"
     ]
    }
   ],
   "source": [
    "\n",
    "print(\"Insert 6 at index:\", np.searchsorted(sorted_arr, 6))"
   ]
  },
  {
   "cell_type": "code",
   "execution_count": null,
   "id": "b03b84ef-bb82-44f5-b19d-1dcca47c4cd7",
   "metadata": {},
   "outputs": [],
   "source": []
  },
  {
   "cell_type": "code",
   "execution_count": null,
   "id": "b2e96772-eb85-4376-beb9-6e67ed729dfc",
   "metadata": {},
   "outputs": [],
   "source": []
  },
  {
   "cell_type": "code",
   "execution_count": null,
   "id": "0fb7e989-1ae9-4549-8ad2-0d8e3c84c926",
   "metadata": {},
   "outputs": [],
   "source": []
  },
  {
   "cell_type": "code",
   "execution_count": null,
   "id": "db712bd9-3048-4c02-9b08-c3af6d94b896",
   "metadata": {},
   "outputs": [],
   "source": []
  },
  {
   "cell_type": "code",
   "execution_count": 60,
   "id": "1f4f08e3-01d2-424d-a923-ce36b946f65a",
   "metadata": {},
   "outputs": [],
   "source": [
    "arr = np.array([1, 2, 3, 4, 5])"
   ]
  },
  {
   "cell_type": "code",
   "execution_count": 62,
   "id": "cd7aa9f7-33ee-4979-ac07-7427ad5d62e7",
   "metadata": {},
   "outputs": [
    {
     "name": "stdout",
     "output_type": "stream",
     "text": [
      "Extract > 3: [4 5]\n"
     ]
    }
   ],
   "source": [
    "print(\"Extract > 3:\", np.extract(arr > 3, arr))"
   ]
  },
  {
   "cell_type": "code",
   "execution_count": null,
   "id": "85533765-aa20-48f9-aa2f-dd2e324cd6a0",
   "metadata": {},
   "outputs": [],
   "source": []
  },
  {
   "cell_type": "code",
   "execution_count": null,
   "id": "b781a2c7-f734-4905-af3b-7c402d42271c",
   "metadata": {},
   "outputs": [],
   "source": []
  },
  {
   "cell_type": "code",
   "execution_count": null,
   "id": "851d1194-c826-4bea-ae18-d8750031c668",
   "metadata": {},
   "outputs": [],
   "source": []
  },
  {
   "cell_type": "code",
   "execution_count": null,
   "id": "a13fed8a-6b36-433f-86fc-554a806588ca",
   "metadata": {},
   "outputs": [],
   "source": []
  },
  {
   "cell_type": "code",
   "execution_count": null,
   "id": "be20ca8e-0f1d-4e97-a7a4-4a077d2ca7e4",
   "metadata": {},
   "outputs": [],
   "source": []
  },
  {
   "cell_type": "code",
   "execution_count": 71,
   "id": "67c3f6fb-a206-4c00-9451-d34b430e60ef",
   "metadata": {},
   "outputs": [],
   "source": [
    "matrix = np.array([[1, 2, 3], [4, 5, 6]])\n"
   ]
  },
  {
   "cell_type": "code",
   "execution_count": null,
   "id": "2852d9cc-3d9a-4b1e-8cde-cb40e2fed128",
   "metadata": {},
   "outputs": [],
   "source": []
  },
  {
   "cell_type": "code",
   "execution_count": 74,
   "id": "ccf97b77-2f03-467d-8b57-3d6aaf76f853",
   "metadata": {},
   "outputs": [
    {
     "name": "stdout",
     "output_type": "stream",
     "text": [
      "Original:\n",
      " [[1 2 3]\n",
      " [4 5 6]]\n"
     ]
    }
   ],
   "source": [
    "print(\"Original:\\n\", matrix)\n"
   ]
  },
  {
   "cell_type": "code",
   "execution_count": null,
   "id": "58cf6776-8998-452c-abdc-cd85720b84bc",
   "metadata": {},
   "outputs": [],
   "source": []
  },
  {
   "cell_type": "code",
   "execution_count": 77,
   "id": "1c859fd5-3445-414c-8c7d-5a62204038c0",
   "metadata": {},
   "outputs": [
    {
     "name": "stdout",
     "output_type": "stream",
     "text": [
      "Transposed:\n",
      " [[1 4]\n",
      " [2 5]\n",
      " [3 6]]\n"
     ]
    }
   ],
   "source": [
    "print(\"Transposed:\\n\", np.transpose(matrix))"
   ]
  },
  {
   "cell_type": "code",
   "execution_count": null,
   "id": "f4403844-c266-4b39-80e2-c0ab63919ec0",
   "metadata": {},
   "outputs": [],
   "source": []
  },
  {
   "cell_type": "code",
   "execution_count": null,
   "id": "5efff44f-54b4-48f9-af3b-8d08e65fd0d2",
   "metadata": {},
   "outputs": [],
   "source": []
  },
  {
   "cell_type": "code",
   "execution_count": null,
   "id": "828f1194-f7f2-476e-ae6b-8f87d990fdf5",
   "metadata": {},
   "outputs": [],
   "source": []
  },
  {
   "cell_type": "code",
   "execution_count": null,
   "id": "2faba312-2a02-4849-b755-fc3a43618ff7",
   "metadata": {},
   "outputs": [],
   "source": []
  },
  {
   "cell_type": "code",
   "execution_count": null,
   "id": "f308c619-a499-4f9d-95d4-8bee94d9c6ef",
   "metadata": {},
   "outputs": [],
   "source": []
  },
  {
   "cell_type": "code",
   "execution_count": null,
   "id": "b6f91f9e-ea86-4fa6-b2fe-bd975fe0331f",
   "metadata": {},
   "outputs": [],
   "source": []
  },
  {
   "cell_type": "code",
   "execution_count": null,
   "id": "883627a8-fcbe-4742-8ea1-4a509f8f7e63",
   "metadata": {},
   "outputs": [],
   "source": []
  },
  {
   "cell_type": "code",
   "execution_count": 80,
   "id": "bba47b09-7fed-4bac-aabf-2647bafc79a0",
   "metadata": {},
   "outputs": [],
   "source": [
    "arr = np.array([1, 2, 3, 4, 5])\n"
   ]
  },
  {
   "cell_type": "code",
   "execution_count": 82,
   "id": "0d5d0471-b229-4ed7-b694-a3b2ab5c5516",
   "metadata": {},
   "outputs": [
    {
     "name": "stdout",
     "output_type": "stream",
     "text": [
      "Mean value: 3.0\n"
     ]
    }
   ],
   "source": [
    "print(\"Mean value:\", np.mean(arr))"
   ]
  },
  {
   "cell_type": "code",
   "execution_count": null,
   "id": "b8265443-b77c-4c6a-a3a4-983bca628add",
   "metadata": {},
   "outputs": [],
   "source": []
  },
  {
   "cell_type": "code",
   "execution_count": null,
   "id": "96ea55ff-fdfd-46ce-8a63-5ea5c66beac1",
   "metadata": {},
   "outputs": [],
   "source": []
  },
  {
   "cell_type": "code",
   "execution_count": null,
   "id": "366fe309-d6ad-4cda-b19e-5cd6521fdddb",
   "metadata": {},
   "outputs": [],
   "source": []
  },
  {
   "cell_type": "code",
   "execution_count": null,
   "id": "463ffa5f-7068-4058-8d46-1c8b9e0a1897",
   "metadata": {},
   "outputs": [],
   "source": [
    "## Equal parts split"
   ]
  },
  {
   "cell_type": "code",
   "execution_count": 39,
   "id": "c1bc8019-bfe5-4a83-95ac-8489785fa948",
   "metadata": {},
   "outputs": [
    {
     "data": {
      "text/plain": [
       "[array([1, 2]), array([3, 4]), array([5, 6])]"
      ]
     },
     "execution_count": 39,
     "metadata": {},
     "output_type": "execute_result"
    }
   ],
   "source": [
    "arr = np.array([1,  2, 3, 4, 5, 6])\n",
    "\n",
    "\n",
    "\n",
    "np.split(arr, 3)"
   ]
  },
  {
   "cell_type": "code",
   "execution_count": null,
   "id": "f56de043-df1c-4c19-9ef1-3bd2e7c1db59",
   "metadata": {},
   "outputs": [],
   "source": [
    "# Split at specific positions"
   ]
  },
  {
   "cell_type": "code",
   "execution_count": 41,
   "id": "fe2a9826-54b6-47a2-a918-3bae697e2538",
   "metadata": {},
   "outputs": [
    {
     "data": {
      "text/plain": [
       "[array([1]), array([2, 3, 4]), array([5, 6])]"
      ]
     },
     "execution_count": 41,
     "metadata": {},
     "output_type": "execute_result"
    }
   ],
   "source": [
    "np.split(arr, [1, 4])"
   ]
  },
  {
   "cell_type": "code",
   "execution_count": null,
   "id": "f3f0a2c8-347a-4090-9e40-5539216ba73c",
   "metadata": {},
   "outputs": [],
   "source": []
  },
  {
   "cell_type": "code",
   "execution_count": 94,
   "id": "748b8504-74a5-4418-876f-9e597fd5a4cb",
   "metadata": {},
   "outputs": [
    {
     "name": "stdout",
     "output_type": "stream",
     "text": [
      "Split at Indices: [array([1]), array([2, 3, 4]), array([5, 6])]\n"
     ]
    }
   ],
   "source": [
    "print(\"Split at Indices:\", ) # Split at specific positions "
   ]
  },
  {
   "cell_type": "code",
   "execution_count": null,
   "id": "e6d66850-2dbe-4f8e-bc33-fc991b813da8",
   "metadata": {},
   "outputs": [],
   "source": []
  },
  {
   "cell_type": "code",
   "execution_count": null,
   "id": "d22b5c97-e04f-4c6f-8da8-81b47e97d262",
   "metadata": {},
   "outputs": [],
   "source": []
  },
  {
   "cell_type": "code",
   "execution_count": null,
   "id": "9a00d66e-4668-4886-b5a6-7ab18f4e6518",
   "metadata": {},
   "outputs": [],
   "source": []
  },
  {
   "cell_type": "code",
   "execution_count": null,
   "id": "632603e4-637e-440f-aec5-eccd8d86a592",
   "metadata": {},
   "outputs": [],
   "source": []
  },
  {
   "cell_type": "code",
   "execution_count": null,
   "id": "3bbb6e52-b98f-4b95-8cc9-832002002bec",
   "metadata": {},
   "outputs": [],
   "source": []
  },
  {
   "cell_type": "code",
   "execution_count": 43,
   "id": "45acae4c-ca45-474a-a936-be56a0dc7b3c",
   "metadata": {},
   "outputs": [],
   "source": [
    "matrix = np.array([[1,| 2,| 3], \n",
    "                  -------------\n",
    "                   [4,| 5,| 6]])\n"
   ]
  },
  {
   "cell_type": "code",
   "execution_count": null,
   "id": "2a9af3d0-0444-4187-ac3c-117e3637df98",
   "metadata": {},
   "outputs": [],
   "source": []
  },
  {
   "cell_type": "code",
   "execution_count": 51,
   "id": "6749bc8f-eba2-431d-bb6d-dbea588becaa",
   "metadata": {},
   "outputs": [
    {
     "data": {
      "text/plain": [
       "[array([[1],\n",
       "        [4]]),\n",
       " array([[2],\n",
       "        [5]]),\n",
       " array([[3],\n",
       "        [6]])]"
      ]
     },
     "execution_count": 51,
     "metadata": {},
     "output_type": "execute_result"
    }
   ],
   "source": [
    "np.split(matrix, 3, axis=1)   #→ Split columns"
   ]
  },
  {
   "cell_type": "code",
   "execution_count": null,
   "id": "df558ed3-8946-4be9-a29f-820ec42c4a2f",
   "metadata": {},
   "outputs": [],
   "source": []
  },
  {
   "cell_type": "code",
   "execution_count": null,
   "id": "21895d00-2e5b-42e2-834e-e568cc43713c",
   "metadata": {},
   "outputs": [],
   "source": [
    "[[1, 2, 3],\n",
    " [4, 5, 6]]\n"
   ]
  },
  {
   "cell_type": "code",
   "execution_count": null,
   "id": "dcee42ac-c2fe-4398-b238-af151644e629",
   "metadata": {},
   "outputs": [],
   "source": [
    "[ [ [1], [4] ],\n",
    " \n",
    "  [ [2], [5] ],\n",
    " \n",
    "  [ [3], [6] ] ]\n"
   ]
  },
  {
   "cell_type": "code",
   "execution_count": null,
   "id": "1c43139c-65fd-43e3-9d30-25c63fdb9685",
   "metadata": {},
   "outputs": [],
   "source": []
  },
  {
   "cell_type": "code",
   "execution_count": null,
   "id": "db05e540-d194-42e9-8d14-3a1ae0d393b1",
   "metadata": {},
   "outputs": [],
   "source": []
  },
  {
   "cell_type": "code",
   "execution_count": 117,
   "id": "a3df751f-9349-4b81-b264-416b6851daf0",
   "metadata": {},
   "outputs": [
    {
     "data": {
      "text/plain": [
       "[array([[1, 2, 3]]), array([[4, 5, 6]])]"
      ]
     },
     "execution_count": 117,
     "metadata": {},
     "output_type": "execute_result"
    }
   ],
   "source": [
    "np.split(matrix, 2, axis=0) "
   ]
  },
  {
   "cell_type": "code",
   "execution_count": null,
   "id": "ae4ea7c6-16e9-46ff-a3f0-e0b3542cfcc4",
   "metadata": {},
   "outputs": [],
   "source": [
    "Original Matrix:\n",
    "[ [1, 2, 3],\n",
    "  [4, 5, 6] ]\n",
    "\n",
    "Split along axis=0 (rows):\n",
    "→   [1, 2, 3]\n",
    "     ↓\n",
    "     [4, 5, 6]\n",
    "\n",
    "Result:\n",
    "[\n",
    " [[1, 2, 3]],\n",
    " [[4, 5, 6]]\n",
    "]\n"
   ]
  },
  {
   "cell_type": "code",
   "execution_count": null,
   "id": "f597df62-3f7c-431f-a9fc-ac42384a8c4d",
   "metadata": {},
   "outputs": [],
   "source": []
  },
  {
   "cell_type": "code",
   "execution_count": null,
   "id": "60e7925a-5ffe-467e-b4e3-b78abef3eff3",
   "metadata": {},
   "outputs": [],
   "source": []
  },
  {
   "cell_type": "code",
   "execution_count": null,
   "id": "a2f90472-b345-4dce-aecd-81b0abf6e05f",
   "metadata": {},
   "outputs": [],
   "source": []
  },
  {
   "cell_type": "code",
   "execution_count": null,
   "id": "9365d307-21ca-4f51-a143-d7d98d978481",
   "metadata": {},
   "outputs": [],
   "source": []
  },
  {
   "cell_type": "code",
   "execution_count": 53,
   "id": "5c10722f-d66b-43f4-84ac-c215b679f74e",
   "metadata": {},
   "outputs": [],
   "source": [
    "arr = np.array([3, 1, 4, 2])\n"
   ]
  },
  {
   "cell_type": "code",
   "execution_count": 55,
   "id": "85a24ca1-6b8b-4f6a-82a6-b6b8478cfd38",
   "metadata": {},
   "outputs": [
    {
     "name": "stdout",
     "output_type": "stream",
     "text": [
      "Sorted Copy: [1 2 3 4]\n"
     ]
    }
   ],
   "source": [
    "print(\"Sorted Copy:\", np.sort(arr))"
   ]
  },
  {
   "cell_type": "code",
   "execution_count": 57,
   "id": "680d6853-b9ba-4623-9be8-d73a508ff89a",
   "metadata": {},
   "outputs": [
    {
     "data": {
      "text/plain": [
       "array([3, 1, 4, 2])"
      ]
     },
     "execution_count": 57,
     "metadata": {},
     "output_type": "execute_result"
    }
   ],
   "source": [
    "arr"
   ]
  },
  {
   "cell_type": "code",
   "execution_count": null,
   "id": "56b9dbb0-a9d1-4534-93e6-8cebe6e43a1d",
   "metadata": {},
   "outputs": [],
   "source": []
  },
  {
   "cell_type": "code",
   "execution_count": 59,
   "id": "24d26771-793e-463f-bb3b-a11ed46ef6d8",
   "metadata": {},
   "outputs": [],
   "source": [
    "arr.sort()\n"
   ]
  },
  {
   "cell_type": "code",
   "execution_count": 61,
   "id": "47f02137-60e5-43b2-8fbc-7ee25555dbb8",
   "metadata": {},
   "outputs": [
    {
     "data": {
      "text/plain": [
       "array([1, 2, 3, 4])"
      ]
     },
     "execution_count": 61,
     "metadata": {},
     "output_type": "execute_result"
    }
   ],
   "source": [
    "arr"
   ]
  },
  {
   "cell_type": "code",
   "execution_count": 138,
   "id": "a58aceea-5d7d-4055-83de-c42d22b8952d",
   "metadata": {},
   "outputs": [],
   "source": [
    "matrix = np.array([[3, 1, 2],\n",
    "                   [6, 5, 4]])"
   ]
  },
  {
   "cell_type": "code",
   "execution_count": 144,
   "id": "6db8d0ed-21a3-44cd-bc12-04ad488c578a",
   "metadata": {},
   "outputs": [
    {
     "name": "stdout",
     "output_type": "stream",
     "text": [
      "Sorted Rows:\n",
      " [[1 2 3]\n",
      " [4 5 6]]\n"
     ]
    }
   ],
   "source": [
    "\n",
    "print(\"Sorted Rows:\\n\", np.sort(matrix, axis=1))"
   ]
  },
  {
   "cell_type": "code",
   "execution_count": 148,
   "id": "8fb43cb2-4815-4029-a775-f7f1d9e78c08",
   "metadata": {},
   "outputs": [
    {
     "name": "stdout",
     "output_type": "stream",
     "text": [
      "Sorted columns:\n",
      " [[3 1 2]\n",
      " [6 5 4]]\n"
     ]
    }
   ],
   "source": [
    "print(\"Sorted columns:\\n\", np.sort(matrix, axis=0))"
   ]
  },
  {
   "cell_type": "code",
   "execution_count": null,
   "id": "4e47a432-edbd-491e-b09d-1afb1f4ecae4",
   "metadata": {},
   "outputs": [],
   "source": []
  },
  {
   "cell_type": "code",
   "execution_count": null,
   "id": "6b6ae8c8-8629-46f3-982f-1be70b74a382",
   "metadata": {},
   "outputs": [],
   "source": []
  },
  {
   "cell_type": "code",
   "execution_count": null,
   "id": "45127466-a3da-4811-bd61-0b9743e0089b",
   "metadata": {},
   "outputs": [],
   "source": []
  },
  {
   "cell_type": "code",
   "execution_count": null,
   "id": "efe81cc5-bbc0-4550-8d18-889512c5ccbb",
   "metadata": {},
   "outputs": [],
   "source": []
  },
  {
   "cell_type": "code",
   "execution_count": null,
   "id": "fd398e75-3cc9-418a-be3b-5963c90474ff",
   "metadata": {},
   "outputs": [],
   "source": []
  },
  {
   "cell_type": "code",
   "execution_count": null,
   "id": "af033366-7ee1-49eb-824d-4b1d323750ac",
   "metadata": {},
   "outputs": [],
   "source": [
    "## Concatenates arrays along a specified axis"
   ]
  },
  {
   "cell_type": "code",
   "execution_count": 151,
   "id": "3fd54800-f77c-4a64-a5eb-f1af956f8168",
   "metadata": {},
   "outputs": [],
   "source": [
    "arr1 = np.array([[1, 2], [3, 4]])\n",
    "arr2 = np.array([[5, 6]])\n"
   ]
  },
  {
   "cell_type": "code",
   "execution_count": null,
   "id": "5dda5809-f007-4454-ac76-26fbf13ed3d3",
   "metadata": {},
   "outputs": [],
   "source": []
  },
  {
   "cell_type": "code",
   "execution_count": null,
   "id": "e2df4321-3de4-42c2-8596-4652fb31e0e2",
   "metadata": {},
   "outputs": [],
   "source": []
  },
  {
   "cell_type": "code",
   "execution_count": null,
   "id": "effafb87-4a9d-4eda-a29f-ffaa260b5fff",
   "metadata": {},
   "outputs": [],
   "source": []
  },
  {
   "cell_type": "code",
   "execution_count": 154,
   "id": "6821c4f9-7afc-467d-990b-9ff4907a2186",
   "metadata": {},
   "outputs": [
    {
     "name": "stdout",
     "output_type": "stream",
     "text": [
      "Vertical Join:\n",
      " [[1 2]\n",
      " [3 4]\n",
      " [5 6]]\n"
     ]
    }
   ],
   "source": [
    "print(\"Vertical Join:\\n\", np.concatenate((arr1, arr2), axis=0))"
   ]
  },
  {
   "cell_type": "code",
   "execution_count": null,
   "id": "ca20c4e9-dd8a-4f2b-9d64-98fbd3f7c753",
   "metadata": {},
   "outputs": [],
   "source": []
  },
  {
   "cell_type": "code",
   "execution_count": null,
   "id": "614e7bfa-81cf-40af-9055-4f196b66fb98",
   "metadata": {},
   "outputs": [],
   "source": []
  },
  {
   "cell_type": "code",
   "execution_count": null,
   "id": "d256eb62-2b7e-44c0-b7af-c0bca1c640ae",
   "metadata": {},
   "outputs": [],
   "source": []
  },
  {
   "cell_type": "code",
   "execution_count": null,
   "id": "6bd0eb4e-6395-408a-b5e6-a4cb77a66a64",
   "metadata": {},
   "outputs": [],
   "source": []
  },
  {
   "cell_type": "code",
   "execution_count": 156,
   "id": "8e83d47c-9804-4559-b792-00d37cbc7f55",
   "metadata": {},
   "outputs": [],
   "source": [
    "a = np.array([1, 2])\n",
    "b = np.array([3, 4])\n"
   ]
  },
  {
   "cell_type": "code",
   "execution_count": 158,
   "id": "b0017a4c-6f8f-49d4-a3fc-41bc76e0c614",
   "metadata": {},
   "outputs": [
    {
     "name": "stdout",
     "output_type": "stream",
     "text": [
      "Horizontal Join:\n",
      " [1 2 3 4]\n"
     ]
    }
   ],
   "source": [
    "print(\"Horizontal Join:\\n\", np.hstack((a, b)))"
   ]
  },
  {
   "cell_type": "code",
   "execution_count": null,
   "id": "eb20d1af-ed20-4b9e-8cbd-09b926bfa9d2",
   "metadata": {},
   "outputs": [],
   "source": []
  },
  {
   "cell_type": "code",
   "execution_count": null,
   "id": "96980bd2-78bf-4614-93e7-6c96806a30e0",
   "metadata": {},
   "outputs": [],
   "source": []
  },
  {
   "cell_type": "code",
   "execution_count": 165,
   "id": "fdbe60de-44ab-4956-bab4-52c06dc87b95",
   "metadata": {},
   "outputs": [],
   "source": [
    "arr3 = np.array([1, 2, 3])\n",
    "arr4 = np.array([4, 5, 6])\n"
   ]
  },
  {
   "cell_type": "code",
   "execution_count": null,
   "id": "f233e216-66c5-49e6-b430-bb79490a4873",
   "metadata": {},
   "outputs": [],
   "source": []
  },
  {
   "cell_type": "code",
   "execution_count": 168,
   "id": "a415dd8c-9ff2-41b7-845a-3283cac06895",
   "metadata": {},
   "outputs": [
    {
     "name": "stdout",
     "output_type": "stream",
     "text": [
      "Vertical Stack:\n",
      " [[1 2 3]\n",
      " [4 5 6]]\n"
     ]
    }
   ],
   "source": [
    "print(\"Vertical Stack:\\n\", np.vstack((arr3, arr4)))"
   ]
  },
  {
   "cell_type": "code",
   "execution_count": null,
   "id": "1de3012a-ed85-4cf0-b7fc-209591c578fa",
   "metadata": {},
   "outputs": [],
   "source": []
  },
  {
   "cell_type": "code",
   "execution_count": null,
   "id": "a0378e8d-50e4-4324-8521-4e44b14407da",
   "metadata": {},
   "outputs": [],
   "source": [
    "### Stacks arrays vertically (row-wise)"
   ]
  },
  {
   "cell_type": "code",
   "execution_count": null,
   "id": "93c73ac7-546b-425f-a6a4-51f5dba388b6",
   "metadata": {},
   "outputs": [],
   "source": []
  },
  {
   "cell_type": "code",
   "execution_count": null,
   "id": "7c8999ec-dca0-41b3-9598-f803f4e4ab4a",
   "metadata": {},
   "outputs": [],
   "source": []
  },
  {
   "cell_type": "code",
   "execution_count": null,
   "id": "b8a75138-193e-40c2-97a9-7f72a855389a",
   "metadata": {},
   "outputs": [],
   "source": []
  },
  {
   "cell_type": "code",
   "execution_count": null,
   "id": "d0e5b76e-ec1a-4bc1-ad39-26b084889391",
   "metadata": {},
   "outputs": [],
   "source": []
  },
  {
   "cell_type": "code",
   "execution_count": 170,
   "id": "b65436c0-abdf-4242-9fb3-3f2f9bfc7590",
   "metadata": {},
   "outputs": [],
   "source": [
    "arr = np.array([1, 2, 3, 4, 5, 6])"
   ]
  },
  {
   "cell_type": "code",
   "execution_count": null,
   "id": "912c2b87-e66f-43ee-9bbe-c8b161cae532",
   "metadata": {},
   "outputs": [],
   "source": []
  },
  {
   "cell_type": "code",
   "execution_count": 172,
   "id": "e31dfaca-ec19-4bee-b419-966bc60f8c70",
   "metadata": {},
   "outputs": [
    {
     "name": "stdout",
     "output_type": "stream",
     "text": [
      "Filtered > 3: [4 5 6]\n"
     ]
    }
   ],
   "source": [
    "# Filter values > 3\n",
    "print(\"Filtered > 3:\", arr[arr > 3])"
   ]
  },
  {
   "cell_type": "code",
   "execution_count": null,
   "id": "5535f5a7-649e-4e89-89cb-34b2b2ad6660",
   "metadata": {},
   "outputs": [],
   "source": []
  },
  {
   "cell_type": "code",
   "execution_count": null,
   "id": "d958e1b1-ec61-435e-9738-c3f712fedd88",
   "metadata": {},
   "outputs": [],
   "source": []
  },
  {
   "cell_type": "code",
   "execution_count": null,
   "id": "bd74d53a-e756-4b97-a0d8-8771af0cf141",
   "metadata": {},
   "outputs": [],
   "source": []
  },
  {
   "cell_type": "code",
   "execution_count": 174,
   "id": "006829a2-2f58-4d33-960c-662a1bc2d065",
   "metadata": {},
   "outputs": [
    {
     "name": "stdout",
     "output_type": "stream",
     "text": [
      "Between 2 and 6: [3 4 5]\n"
     ]
    }
   ],
   "source": [
    "# Filter values between 2 and 6\n",
    "print(\"Between 2 and 6:\", arr[(arr > 2) & (arr < 6)])"
   ]
  },
  {
   "cell_type": "code",
   "execution_count": null,
   "id": "c56568fd-b481-4009-8337-e93d6cb5ca88",
   "metadata": {},
   "outputs": [],
   "source": []
  },
  {
   "cell_type": "code",
   "execution_count": null,
   "id": "bafcdacb-0c6c-4227-8bf1-797fab42f79c",
   "metadata": {},
   "outputs": [],
   "source": []
  },
  {
   "cell_type": "code",
   "execution_count": null,
   "id": "e591729c-20e8-4a44-aa8a-8076387673e2",
   "metadata": {},
   "outputs": [],
   "source": []
  },
  {
   "cell_type": "code",
   "execution_count": null,
   "id": "ac8170c6-95cd-42dd-a6d6-bb5f59c39a9b",
   "metadata": {},
   "outputs": [],
   "source": []
  },
  {
   "cell_type": "code",
   "execution_count": null,
   "id": "56ba6440-2305-4553-b22f-e68061ff4a7f",
   "metadata": {},
   "outputs": [],
   "source": []
  },
  {
   "cell_type": "code",
   "execution_count": null,
   "id": "4fb0da97-c339-43c1-9eb4-f9e8c474e04a",
   "metadata": {},
   "outputs": [],
   "source": []
  },
  {
   "cell_type": "code",
   "execution_count": null,
   "id": "42db0a2d-bbe1-423b-99b5-4530258cabb3",
   "metadata": {},
   "outputs": [],
   "source": []
  },
  {
   "cell_type": "code",
   "execution_count": null,
   "id": "41059e1f-ad36-42f6-a91a-1f08a1cbee71",
   "metadata": {},
   "outputs": [],
   "source": []
  },
  {
   "cell_type": "code",
   "execution_count": null,
   "id": "a1a9af39-02ee-44d2-bd52-8dad0997abf8",
   "metadata": {},
   "outputs": [],
   "source": []
  },
  {
   "cell_type": "code",
   "execution_count": null,
   "id": "e9a07ed4-cd30-4962-b97b-ccc5f9efad00",
   "metadata": {},
   "outputs": [],
   "source": []
  },
  {
   "cell_type": "code",
   "execution_count": null,
   "id": "77f1f59f-2925-4176-8a08-0969c06d96dd",
   "metadata": {},
   "outputs": [],
   "source": []
  },
  {
   "cell_type": "code",
   "execution_count": null,
   "id": "6032d5b2-b870-495f-9f29-c8a08f90e1fe",
   "metadata": {},
   "outputs": [],
   "source": []
  },
  {
   "cell_type": "code",
   "execution_count": null,
   "id": "478826d5-6bf5-489c-a817-1ec2ab9756b3",
   "metadata": {},
   "outputs": [],
   "source": []
  },
  {
   "cell_type": "code",
   "execution_count": 22,
   "id": "a501e1c7-0bf2-4138-bbea-85516e7eb526",
   "metadata": {},
   "outputs": [],
   "source": [
    "import numpy as np\n",
    "\n",
    "arr = np.array([1, 2, 3, 4, 5, 6])\n",
    "\n",
    "\n",
    "\n",
    "\n",
    "# Create a boolean mask\n",
    "mask = arr > 3"
   ]
  },
  {
   "cell_type": "code",
   "execution_count": 24,
   "id": "d834e617-c527-4e4a-b4ff-71367c76d07c",
   "metadata": {},
   "outputs": [
    {
     "data": {
      "text/plain": [
       "array([False, False, False,  True,  True,  True])"
      ]
     },
     "execution_count": 24,
     "metadata": {},
     "output_type": "execute_result"
    }
   ],
   "source": [
    "mask"
   ]
  },
  {
   "cell_type": "code",
   "execution_count": null,
   "id": "a6e67fe9-5da6-4b95-9264-617a167bc5b0",
   "metadata": {},
   "outputs": [],
   "source": []
  },
  {
   "cell_type": "code",
   "execution_count": null,
   "id": "3fbbc48a-0cf2-4a88-b010-d7fa943ab1ff",
   "metadata": {},
   "outputs": [],
   "source": []
  },
  {
   "cell_type": "code",
   "execution_count": null,
   "id": "7a85c997-8d20-4889-81f7-b832d970f3b1",
   "metadata": {},
   "outputs": [],
   "source": []
  },
  {
   "cell_type": "code",
   "execution_count": null,
   "id": "6c3074aa-23f3-47e3-85eb-57c963d238dd",
   "metadata": {},
   "outputs": [],
   "source": []
  },
  {
   "cell_type": "code",
   "execution_count": 26,
   "id": "de70eed9-26d1-4c80-bc39-c259f4aa5ced",
   "metadata": {},
   "outputs": [
    {
     "name": "stdout",
     "output_type": "stream",
     "text": [
      "Filtered elements (greater than 3): [4 5 6]\n"
     ]
    }
   ],
   "source": [
    "# Apply the mask to filter the array\n",
    "filtered = arr[mask]\n",
    "\n",
    "print(\"Filtered elements (greater than 3):\", filtered)\n"
   ]
  },
  {
   "cell_type": "code",
   "execution_count": null,
   "id": "5f315417-0b52-4ec8-a6af-8a1bc3edbf82",
   "metadata": {},
   "outputs": [],
   "source": []
  },
  {
   "cell_type": "code",
   "execution_count": null,
   "id": "f6084507-509c-4569-a20f-20cbea2aa803",
   "metadata": {},
   "outputs": [],
   "source": []
  },
  {
   "cell_type": "code",
   "execution_count": null,
   "id": "2b5dc7ed-b2b0-4469-b9a6-93b8ffbb4148",
   "metadata": {},
   "outputs": [],
   "source": []
  },
  {
   "cell_type": "code",
   "execution_count": null,
   "id": "6ca03b1f-f870-42e3-937c-f329af8e11c1",
   "metadata": {},
   "outputs": [],
   "source": []
  },
  {
   "cell_type": "code",
   "execution_count": null,
   "id": "df5b2263-14a3-4941-9b92-eaf57ba0a4cb",
   "metadata": {},
   "outputs": [],
   "source": []
  },
  {
   "cell_type": "code",
   "execution_count": null,
   "id": "114a90dc-6772-472d-92fc-3ad26263c12d",
   "metadata": {},
   "outputs": [],
   "source": [
    "arr = np.array([1, 2, 3, 4, 5, 6])"
   ]
  },
  {
   "cell_type": "code",
   "execution_count": null,
   "id": "67eac448-0ae6-4376-b260-f4bfbfa84458",
   "metadata": {},
   "outputs": [],
   "source": []
  },
  {
   "cell_type": "code",
   "execution_count": null,
   "id": "3fcf531d-ca0d-41bc-865b-c7359bf08842",
   "metadata": {},
   "outputs": [],
   "source": []
  },
  {
   "cell_type": "code",
   "execution_count": 36,
   "id": "d9a6dab3-6a81-4720-8106-96a43040dbe6",
   "metadata": {},
   "outputs": [
    {
     "data": {
      "text/plain": [
       "array([False, False,  True,  True,  True, False])"
      ]
     },
     "execution_count": 36,
     "metadata": {},
     "output_type": "execute_result"
    }
   ],
   "source": [
    "(arr > 2) & (arr < 6)"
   ]
  },
  {
   "cell_type": "code",
   "execution_count": 34,
   "id": "3461a223-1e78-4e17-91be-83517dcd837a",
   "metadata": {},
   "outputs": [
    {
     "data": {
      "text/plain": [
       "array([3, 4, 5])"
      ]
     },
     "execution_count": 34,
     "metadata": {},
     "output_type": "execute_result"
    }
   ],
   "source": [
    "\n",
    "arr[(arr > 2) & (arr < 6)]"
   ]
  },
  {
   "cell_type": "code",
   "execution_count": null,
   "id": "9c108bd5-565c-45b8-864e-84c84d3be734",
   "metadata": {},
   "outputs": [],
   "source": []
  },
  {
   "cell_type": "code",
   "execution_count": 41,
   "id": "a28f5a27-3833-473b-9bd3-d977a8d2f934",
   "metadata": {},
   "outputs": [
    {
     "data": {
      "text/plain": [
       "array([1, 2, 3, 6])"
      ]
     },
     "execution_count": 41,
     "metadata": {},
     "output_type": "execute_result"
    }
   ],
   "source": [
    "arr[(arr <= 3) | (arr > 5)]"
   ]
  },
  {
   "cell_type": "code",
   "execution_count": 47,
   "id": "ee9b8644-e000-4bf7-aed0-38b40c414af1",
   "metadata": {},
   "outputs": [
    {
     "data": {
      "text/plain": [
       "array([1, 2, 3, 6])"
      ]
     },
     "execution_count": 47,
     "metadata": {},
     "output_type": "execute_result"
    }
   ],
   "source": [
    "# Elements less than or equal to 3 OR greater than 5\n",
    "\n",
    "\n",
    "arr[(arr <= 3) | (arr > 5)]\n",
    "\n",
    "\n"
   ]
  },
  {
   "cell_type": "code",
   "execution_count": null,
   "id": "ebd88aac-1829-4bf4-9d37-172e81c7b9e5",
   "metadata": {},
   "outputs": [],
   "source": []
  },
  {
   "cell_type": "code",
   "execution_count": null,
   "id": "e89deded-081d-4d43-9330-63658c8c4c6d",
   "metadata": {},
   "outputs": [],
   "source": []
  },
  {
   "cell_type": "code",
   "execution_count": null,
   "id": "40651335-2985-4a35-b657-36a47a9f3106",
   "metadata": {},
   "outputs": [],
   "source": []
  },
  {
   "cell_type": "code",
   "execution_count": null,
   "id": "ac8b0f4e-711d-4548-aaf4-cea1129c8023",
   "metadata": {},
   "outputs": [],
   "source": []
  },
  {
   "cell_type": "code",
   "execution_count": 51,
   "id": "9188ca35-7198-4e35-9837-a1ead2a762b4",
   "metadata": {},
   "outputs": [
    {
     "name": "stdout",
     "output_type": "stream",
     "text": [
      "Values > 20: [25 30 35]\n"
     ]
    }
   ],
   "source": [
    "matrix = np.array([\n",
    "    [10, 15, 20],\n",
    "    [25, 30, 35]\n",
    "])\n",
    "\n",
    "# Get elements greater than 20\n",
    "print(\"Values > 20:\", matrix[matrix > 20])\n"
   ]
  },
  {
   "cell_type": "code",
   "execution_count": null,
   "id": "39c1b6fb-1acf-4665-a60a-59fa38606964",
   "metadata": {},
   "outputs": [],
   "source": []
  },
  {
   "cell_type": "code",
   "execution_count": null,
   "id": "2742f413-793e-4708-a3f9-40d878c7024e",
   "metadata": {},
   "outputs": [],
   "source": []
  },
  {
   "cell_type": "code",
   "execution_count": null,
   "id": "834e443b-e896-401d-ad93-be3678d1504e",
   "metadata": {},
   "outputs": [],
   "source": []
  },
  {
   "cell_type": "code",
   "execution_count": null,
   "id": "bc05314d-70e9-49df-b527-95256360b6e9",
   "metadata": {},
   "outputs": [],
   "source": []
  },
  {
   "cell_type": "code",
   "execution_count": 56,
   "id": "6363c5ad-6009-4041-b093-782c7b3af246",
   "metadata": {},
   "outputs": [],
   "source": [
    "scores = np.array([85, 92, 78, 88, 95, 72, 89, 94, 68, 90])"
   ]
  },
  {
   "cell_type": "code",
   "execution_count": null,
   "id": "c57f7af0-3c92-42ab-b6ef-f751f7604477",
   "metadata": {},
   "outputs": [],
   "source": []
  },
  {
   "cell_type": "code",
   "execution_count": null,
   "id": "f132a422-dece-4739-a7ac-9aabdefb5a13",
   "metadata": {},
   "outputs": [],
   "source": []
  },
  {
   "cell_type": "code",
   "execution_count": 58,
   "id": "6869e081-38c4-44c3-92f0-8858642fd88e",
   "metadata": {},
   "outputs": [],
   "source": [
    "# Find students who scored more than 90\n",
    "high_scores = scores[scores > 90]"
   ]
  },
  {
   "cell_type": "code",
   "execution_count": null,
   "id": "01462b00-085d-4b95-a302-6653324a28ce",
   "metadata": {},
   "outputs": [],
   "source": []
  },
  {
   "cell_type": "code",
   "execution_count": null,
   "id": "b239dcf7-d552-45a8-8f47-e348c36c6772",
   "metadata": {},
   "outputs": [],
   "source": []
  },
  {
   "cell_type": "code",
   "execution_count": 60,
   "id": "95010b82-bc63-431f-88ce-4f4bbf8beb65",
   "metadata": {},
   "outputs": [
    {
     "name": "stdout",
     "output_type": "stream",
     "text": [
      "Students scoring > 90: [92 95 94]\n"
     ]
    }
   ],
   "source": [
    "print(\"Students scoring > 90:\", high_scores)"
   ]
  },
  {
   "cell_type": "code",
   "execution_count": null,
   "id": "5e8cecfb-e795-42a9-803a-cd1fd6a118f1",
   "metadata": {},
   "outputs": [],
   "source": []
  },
  {
   "cell_type": "code",
   "execution_count": null,
   "id": "bd00f5c6-06de-4cd5-b032-518c8eda658f",
   "metadata": {},
   "outputs": [],
   "source": []
  },
  {
   "cell_type": "code",
   "execution_count": 70,
   "id": "8fabfddd-8ef1-46b0-b2fb-d32ea8f8480a",
   "metadata": {},
   "outputs": [
    {
     "data": {
      "text/plain": [
       "13"
      ]
     },
     "execution_count": 70,
     "metadata": {},
     "output_type": "execute_result"
    }
   ],
   "source": [
    "np.random.randint(0,15)"
   ]
  },
  {
   "cell_type": "code",
   "execution_count": null,
   "id": "2b67a3b5-4c70-4979-8440-f530e826768c",
   "metadata": {},
   "outputs": [],
   "source": []
  },
  {
   "cell_type": "code",
   "execution_count": null,
   "id": "f7099f02-2c57-4321-9e16-03f21582417f",
   "metadata": {},
   "outputs": [],
   "source": []
  },
  {
   "cell_type": "code",
   "execution_count": null,
   "id": "096782a3-9a84-46cf-aa7e-c197f8908ba9",
   "metadata": {},
   "outputs": [],
   "source": []
  },
  {
   "cell_type": "code",
   "execution_count": null,
   "id": "31bbfe0a-e8ef-4a8b-a560-c5dbca6d82b4",
   "metadata": {},
   "outputs": [],
   "source": []
  },
  {
   "cell_type": "code",
   "execution_count": null,
   "id": "0ab95f0b-0479-4750-aa59-1553ac7c3eeb",
   "metadata": {},
   "outputs": [],
   "source": []
  },
  {
   "cell_type": "code",
   "execution_count": null,
   "id": "8d9abb60-cc9f-41b7-a825-2256accb6b7b",
   "metadata": {},
   "outputs": [],
   "source": []
  },
  {
   "cell_type": "code",
   "execution_count": null,
   "id": "431cd3f2-2589-4131-9af1-2e03d8209585",
   "metadata": {},
   "outputs": [],
   "source": []
  },
  {
   "cell_type": "code",
   "execution_count": null,
   "id": "ed486737-f201-482b-a389-0bc9799c6c4f",
   "metadata": {},
   "outputs": [],
   "source": []
  },
  {
   "cell_type": "code",
   "execution_count": null,
   "id": "14b9790a-6d03-4b2d-8ef2-c65fecdb6460",
   "metadata": {},
   "outputs": [],
   "source": []
  },
  {
   "cell_type": "markdown",
   "id": "27610b62-041f-4f41-bc27-be10efc0adf8",
   "metadata": {},
   "source": [
    "3. Given an array of product prices, filter the ones above ₹500:\n",
    "   `prices = [250, 499, 520, 310, 800, 999, 450, 720]`\n",
    "\n"
   ]
  },
  {
   "cell_type": "code",
   "execution_count": 87,
   "id": "4a1a4bd0-e3b1-46f3-a95f-007045ef4b46",
   "metadata": {},
   "outputs": [],
   "source": [
    "prices = np.array([250, 499, 520, 310, 800, 999, 450, 720])\n"
   ]
  },
  {
   "cell_type": "code",
   "execution_count": 91,
   "id": "4305accf-a202-4bbd-8695-0ca96a5fd887",
   "metadata": {},
   "outputs": [
    {
     "data": {
      "text/plain": [
       "array([250, 520, 310, 800, 450, 720])"
      ]
     },
     "execution_count": 91,
     "metadata": {},
     "output_type": "execute_result"
    }
   ],
   "source": [
    "prices[prices%2==0]"
   ]
  },
  {
   "cell_type": "code",
   "execution_count": 89,
   "id": "67e61d8b-3951-4960-ac92-2620139f3128",
   "metadata": {},
   "outputs": [
    {
     "data": {
      "text/plain": [
       "array([520, 800, 999, 720])"
      ]
     },
     "execution_count": 89,
     "metadata": {},
     "output_type": "execute_result"
    }
   ],
   "source": [
    "prices[prices>500]"
   ]
  },
  {
   "cell_type": "markdown",
   "id": "596bee4d-5513-4352-9de6-0d59fbdc4388",
   "metadata": {},
   "source": [
    "By mastering filtering with NumPy, you can quickly extract meaningful data from larger datasets — a vital step in data analysis and machine learning pipelines!\n"
   ]
  },
  {
   "cell_type": "code",
   "execution_count": null,
   "id": "76feb8cd-bc51-414b-a20d-98201fe04de8",
   "metadata": {},
   "outputs": [],
   "source": []
  },
  {
   "cell_type": "code",
   "execution_count": null,
   "id": "f8f9e9b8-9aa8-4b81-a0a6-3682511d2200",
   "metadata": {},
   "outputs": [],
   "source": []
  },
  {
   "cell_type": "code",
   "execution_count": null,
   "id": "1dd1f209-49ed-48af-8cb1-269e31db5eaa",
   "metadata": {},
   "outputs": [],
   "source": []
  },
  {
   "cell_type": "code",
   "execution_count": null,
   "id": "1973a973-2394-4c77-9a36-e9a646696aa3",
   "metadata": {},
   "outputs": [],
   "source": []
  },
  {
   "cell_type": "code",
   "execution_count": null,
   "id": "722c61d3-2159-4bbb-bb96-e9de6d783b31",
   "metadata": {},
   "outputs": [],
   "source": []
  },
  {
   "cell_type": "code",
   "execution_count": null,
   "id": "34f62da9-02c7-4c5c-9647-076fe4b5d8b1",
   "metadata": {},
   "outputs": [],
   "source": []
  },
  {
   "cell_type": "code",
   "execution_count": null,
   "id": "0be9a3e2-def1-473f-9880-09337aecddc2",
   "metadata": {},
   "outputs": [],
   "source": []
  },
  {
   "cell_type": "code",
   "execution_count": null,
   "id": "b8ffb2c9-7cb3-44f5-8cb7-21e32f1b4210",
   "metadata": {},
   "outputs": [],
   "source": []
  },
  {
   "cell_type": "code",
   "execution_count": null,
   "id": "53d1ec3c-5e9a-4e5e-a55a-8d23461c6b38",
   "metadata": {},
   "outputs": [],
   "source": []
  },
  {
   "cell_type": "code",
   "execution_count": null,
   "id": "cc3ab936-f65c-4b53-9bff-e4579a28caca",
   "metadata": {},
   "outputs": [],
   "source": []
  },
  {
   "cell_type": "code",
   "execution_count": null,
   "id": "eeded663-46ee-4a4d-8ce4-0144df062b21",
   "metadata": {},
   "outputs": [],
   "source": []
  }
 ],
 "metadata": {
  "kernelspec": {
   "display_name": "Python 3 (ipykernel)",
   "language": "python",
   "name": "python3"
  },
  "language_info": {
   "codemirror_mode": {
    "name": "ipython",
    "version": 3
   },
   "file_extension": ".py",
   "mimetype": "text/x-python",
   "name": "python",
   "nbconvert_exporter": "python",
   "pygments_lexer": "ipython3",
   "version": "3.12.7"
  }
 },
 "nbformat": 4,
 "nbformat_minor": 5
}
