{
 "cells": [
  {
   "cell_type": "code",
   "execution_count": 5,
   "id": "4496e585-926e-4595-859a-8ded61fbe63b",
   "metadata": {},
   "outputs": [
    {
     "name": "stdout",
     "output_type": "stream",
     "text": [
      "current number is : 10\n",
      "current number is : 8\n",
      "current number is : 6\n",
      "current number is : 4\n",
      "current number is : 2\n"
     ]
    }
   ],
   "source": [
    "number=10\n",
    "while number>0:\n",
    "    print (\"current number is :\",number)\n",
    "    number-=2"
   ]
  },
  {
   "cell_type": "code",
   "execution_count": 7,
   "id": "424fa37f-3a79-40ed-94b3-6264fbb70c31",
   "metadata": {},
   "outputs": [
    {
     "name": "stdout",
     "output_type": "stream",
     "text": [
      "x is : 3\n",
      "x is : 2\n",
      "x is : 1\n",
      "the value is 0\n"
     ]
    }
   ],
   "source": [
    "x=3\n",
    "while x>0:\n",
    "    print(\"x is :\",x)\n",
    "    x-=1\n",
    "else:\n",
    "    print(\"the value is 0\")"
   ]
  },
  {
   "cell_type": "code",
   "execution_count": 8,
   "id": "8e768a85-766b-420a-bcf8-b1852151afcf",
   "metadata": {},
   "outputs": [
    {
     "name": "stdout",
     "output_type": "stream",
     "text": [
      "h\n",
      "e\n",
      "l\n",
      "l\n",
      "o\n",
      " \n",
      "w\n",
      "o\n",
      "r\n",
      "l\n",
      "d\n"
     ]
    }
   ],
   "source": [
    "string=\"hello world\"\n",
    "for i in string :\n",
    "    print(i)"
   ]
  },
  {
   "cell_type": "code",
   "execution_count": 9,
   "id": "e5ed2a8c-6b12-44ec-bbeb-7fdaf176e9b6",
   "metadata": {},
   "outputs": [],
   "source": [
    "test=\"python programming\""
   ]
  },
  {
   "cell_type": "code",
   "execution_count": 10,
   "id": "c3c5d865-0e7c-44a6-beda-5894a6167192",
   "metadata": {},
   "outputs": [
    {
     "data": {
      "text/plain": [
       "'p'"
      ]
     },
     "execution_count": 10,
     "metadata": {},
     "output_type": "execute_result"
    }
   ],
   "source": [
    "test[0]"
   ]
  },
  {
   "cell_type": "code",
   "execution_count": 11,
   "id": "7b5a1b8e-8821-45fc-b7f6-56e128a72e2c",
   "metadata": {},
   "outputs": [
    {
     "data": {
      "text/plain": [
       "'python '"
      ]
     },
     "execution_count": 11,
     "metadata": {},
     "output_type": "execute_result"
    }
   ],
   "source": [
    "test[0:7]"
   ]
  },
  {
   "cell_type": "code",
   "execution_count": 12,
   "id": "ccb374e7-f022-4f25-a34a-25accbc641f2",
   "metadata": {},
   "outputs": [
    {
     "data": {
      "text/plain": [
       "'python programm'"
      ]
     },
     "execution_count": 12,
     "metadata": {},
     "output_type": "execute_result"
    }
   ],
   "source": [
    "test[0:15]"
   ]
  },
  {
   "cell_type": "code",
   "execution_count": 17,
   "id": "5058b28e-19ec-4232-b5de-9b56d7b0d93d",
   "metadata": {},
   "outputs": [
    {
     "name": "stdout",
     "output_type": "stream",
     "text": [
      "number of vowels: 3\n"
     ]
    }
   ],
   "source": [
    "text=\"Programming\"\n",
    "vowels=\"aeiou\"\n",
    "count=0\n",
    "\n",
    "for char in text:\n",
    "    if char.lower() in vowels:\n",
    "        count+=1\n",
    "print(\"number of vowels:\",count)\n"
   ]
  },
  {
   "cell_type": "code",
   "execution_count": null,
   "id": "c25f158d-7c6d-46b3-8164-e2f8e3ffec00",
   "metadata": {},
   "outputs": [],
   "source": []
  }
 ],
 "metadata": {
  "kernelspec": {
   "display_name": "Python 3 (ipykernel)",
   "language": "python",
   "name": "python3"
  },
  "language_info": {
   "codemirror_mode": {
    "name": "ipython",
    "version": 3
   },
   "file_extension": ".py",
   "mimetype": "text/x-python",
   "name": "python",
   "nbconvert_exporter": "python",
   "pygments_lexer": "ipython3",
   "version": "3.12.7"
  }
 },
 "nbformat": 4,
 "nbformat_minor": 5
}
