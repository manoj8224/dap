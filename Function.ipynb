{
 "cells": [
  {
   "cell_type": "code",
   "execution_count": 12,
   "id": "dde19ea2-5300-4532-b2f9-f281ddcacb6d",
   "metadata": {},
   "outputs": [
    {
     "name": "stdout",
     "output_type": "stream",
     "text": [
      "30\n"
     ]
    }
   ],
   "source": [
    "add_two()"
   ]
  },
  {
   "cell_type": "code",
   "execution_count": 14,
   "id": "204cc38e-dba0-4c57-8f50-f330b91f0984",
   "metadata": {},
   "outputs": [
    {
     "name": "stdout",
     "output_type": "stream",
     "text": [
      "30\n"
     ]
    }
   ],
   "source": [
    "add_two()"
   ]
  },
  {
   "cell_type": "code",
   "execution_count": 15,
   "id": "45ba92a8-1b99-48d3-8c92-5d57f3bddd57",
   "metadata": {},
   "outputs": [
    {
     "name": "stdout",
     "output_type": "stream",
     "text": [
      "30\n"
     ]
    }
   ],
   "source": [
    "add_two()"
   ]
  },
  {
   "cell_type": "code",
   "execution_count": 16,
   "id": "42136bcb-f931-4538-90cf-10ce6c6a3bee",
   "metadata": {},
   "outputs": [],
   "source": [
    "l.append(20)"
   ]
  },
  {
   "cell_type": "code",
   "execution_count": 2,
   "id": "812e08ee-5f29-4e84-ad8b-2d7784d22b7c",
   "metadata": {},
   "outputs": [],
   "source": [
    "l = [1, 2, 3, 4, 5, 6, 7, 8, 10, 100, 50, 20]"
   ]
  },
  {
   "cell_type": "code",
   "execution_count": null,
   "id": "481cc397-819f-43c7-b0ae-6ad7810d29b9",
   "metadata": {},
   "outputs": [],
   "source": [
    "l."
   ]
  },
  {
   "cell_type": "markdown",
   "id": "f37e1e2c",
   "metadata": {},
   "source": [
    "**Example:**\n",
    "\n",
    "```python\n",
    "def greet():\n",
    "    print(\"Hello, world!\")\n",
    "```"
   ]
  },
  {
   "cell_type": "code",
   "execution_count": 38,
   "id": "ae53e5a2",
   "metadata": {},
   "outputs": [
    {
     "name": "stdout",
     "output_type": "stream",
     "text": [
      "greater\n"
     ]
    }
   ],
   "source": [
    "if 3>2:\n",
    "    print(\"greater\")"
   ]
  },
  {
   "cell_type": "code",
   "execution_count": 18,
   "id": "ef68ce1f",
   "metadata": {},
   "outputs": [
    {
     "name": "stdin",
     "output_type": "stream",
     "text": [
      "enter your name raj\n"
     ]
    },
    {
     "name": "stdout",
     "output_type": "stream",
     "text": [
      "hello raj welcome to the party\n"
     ]
    }
   ],
   "source": [
    "def greet():\n",
    "    name = input(\"enter your name\")\n",
    "    print(f\"hello {name} welcome to the party\")\n",
    "greet()"
   ]
  },
  {
   "cell_type": "code",
   "execution_count": 19,
   "id": "c48ffe78",
   "metadata": {},
   "outputs": [
    {
     "name": "stdin",
     "output_type": "stream",
     "text": [
      "enter your name ram\n"
     ]
    },
    {
     "name": "stdout",
     "output_type": "stream",
     "text": [
      "hello ram welcome to the party\n"
     ]
    }
   ],
   "source": [
    "greet()"
   ]
  },
  {
   "cell_type": "code",
   "execution_count": null,
   "id": "44d3b5a1-510d-4eda-a54c-be27fc41d157",
   "metadata": {},
   "outputs": [],
   "source": []
  },
  {
   "cell_type": "code",
   "execution_count": null,
   "id": "6832f2a1-e214-470f-a7de-73bc43498905",
   "metadata": {},
   "outputs": [],
   "source": []
  },
  {
   "cell_type": "code",
   "execution_count": null,
   "id": "41bc2c23",
   "metadata": {},
   "outputs": [],
   "source": [
    "def greet()"
   ]
  },
  {
   "cell_type": "code",
   "execution_count": 37,
   "id": "a3b3df33",
   "metadata": {},
   "outputs": [
    {
     "name": "stdout",
     "output_type": "stream",
     "text": [
      "hello world \n"
     ]
    }
   ],
   "source": [
    "def greet():\n",
    "    print(\"hello world \")\n",
    "    \n",
    "greet()"
   ]
  },
  {
   "cell_type": "code",
   "execution_count": 39,
   "id": "8899a084",
   "metadata": {},
   "outputs": [
    {
     "name": "stdout",
     "output_type": "stream",
     "text": [
      "hello world \n"
     ]
    }
   ],
   "source": [
    "greet()"
   ]
  },
  {
   "cell_type": "code",
   "execution_count": 6,
   "id": "c7f7360c",
   "metadata": {},
   "outputs": [],
   "source": [
    "def greet():\n",
    "    print(\"Hello, world!\")\n"
   ]
  },
  {
   "cell_type": "code",
   "execution_count": 42,
   "id": "7a8e0032",
   "metadata": {},
   "outputs": [
    {
     "name": "stdout",
     "output_type": "stream",
     "text": [
      "hello world \n"
     ]
    }
   ],
   "source": [
    "greet()\n"
   ]
  },
  {
   "cell_type": "code",
   "execution_count": 43,
   "id": "e783a366",
   "metadata": {},
   "outputs": [],
   "source": [
    "def greet_user():\n",
    "    name = input(\"Please enter your name: \")\n",
    "    print(f\"Hello, {name}! Nice to meet you.\")\n",
    "    "
   ]
  },
  {
   "cell_type": "code",
   "execution_count": 12,
   "id": "66178f0f",
   "metadata": {},
   "outputs": [
    {
     "name": "stdout",
     "output_type": "stream",
     "text": [
      "Please enter your name: yy\n",
      "Hello, yy! Nice to meet you.\n"
     ]
    }
   ],
   "source": [
    "def greet_user():\n",
    "    # Take user input\n",
    "    name = input(\"Please enter your name: \")\n",
    "    # Print a greeting message\n",
    "    print(f\"Hello, {name}! Nice to meet you.\")\n",
    "\n",
    "# Call the function\n",
    "greet_user()\n"
   ]
  },
  {
   "cell_type": "code",
   "execution_count": null,
   "id": "f0147ce0",
   "metadata": {},
   "outputs": [],
   "source": [
    "print()\n",
    "type()\n",
    "len()\n",
    "any()\n",
    "all()\n"
   ]
  },
  {
   "cell_type": "code",
   "execution_count": 53,
   "id": "88ce4522",
   "metadata": {},
   "outputs": [],
   "source": [
    "x = 30"
   ]
  },
  {
   "cell_type": "code",
   "execution_count": 55,
   "id": "f858e2af",
   "metadata": {},
   "outputs": [
    {
     "name": "stdout",
     "output_type": "stream",
     "text": [
      "30\n"
     ]
    }
   ],
   "source": [
    "#Divide Large task into many small task, helpful for debuging code\n",
    "# Seprate Function for Addition\n",
    "def add():\n",
    "\tx = 10\n",
    "\ty = 20\n",
    "\tc = x + y                #so that you caome to know where the error has occured\n",
    "\tprint(c)\n",
    "\t\n",
    "add()"
   ]
  },
  {
   "cell_type": "code",
   "execution_count": 13,
   "id": "dd26847e",
   "metadata": {},
   "outputs": [
    {
     "name": "stdout",
     "output_type": "stream",
     "text": [
      "10\n"
     ]
    }
   ],
   "source": [
    "# Seprate Function for Subtraction\n",
    "def sub():\n",
    "\tx = 10\n",
    "\ty = 20\n",
    "\tc = y - x\n",
    "\tprint(c)\n",
    "\t\n",
    "sub()\n",
    "\n",
    "\t "
   ]
  },
  {
   "cell_type": "code",
   "execution_count": 14,
   "id": "24731101",
   "metadata": {},
   "outputs": [],
   "source": [
    "# Function without Argument and Parameter\n",
    "\n",
    "#Defining a Function without Parameter\n",
    "def add():\n",
    "\tx = 10\n",
    "\ty = 20\n",
    "\tc = x + y\n",
    "\tprint(c)\n",
    "\t"
   ]
  },
  {
   "cell_type": "code",
   "execution_count": 22,
   "id": "bd402bc8",
   "metadata": {},
   "outputs": [
    {
     "name": "stdout",
     "output_type": "stream",
     "text": [
      "30\n"
     ]
    }
   ],
   "source": [
    "def func1():\n",
    "    a = 10\n",
    "    b = 20\n",
    "    c = a+b\n",
    "    print(c)\n",
    "func1()"
   ]
  },
  {
   "cell_type": "code",
   "execution_count": null,
   "id": "278aea15",
   "metadata": {},
   "outputs": [],
   "source": []
  },
  {
   "cell_type": "code",
   "execution_count": null,
   "id": "1c7d2a4e-588f-4233-8eff-193d6204bb1b",
   "metadata": {},
   "outputs": [],
   "source": []
  },
  {
   "cell_type": "code",
   "execution_count": null,
   "id": "f06644a8-2594-49a5-9e8a-be310533ca83",
   "metadata": {},
   "outputs": [],
   "source": []
  },
  {
   "cell_type": "markdown",
   "id": "64dabf44-0a1e-47de-9b10-daf87c3aa33b",
   "metadata": {},
   "source": [
    "#### Example:\n",
    "```python\n",
    "def calculator():\n",
    "    operation = input(\"Enter operation (+, -, *, /): \")\n",
    "    num1 = int(input(\"Enter the first number: \"))\n",
    "    num2 = int(input(\"Enter the second number: \"))\n",
    "\n",
    "    if operation == \"+\":\n",
    "        print(f\"The sum is: {num1 + num2}\")\n",
    "    elif operation == \"-\":\n",
    "        print(f\"The difference is: {num1 - num2}\")\n",
    "    elif operation == \"*\":\n",
    "        print(f\"The product is: {num1 * num2}\")\n",
    "    elif operation == \"/\":\n",
    "        if num2 != 0:\n",
    "            print(f\"The quotient is: {num1 / num2}\")\n",
    "        else:\n",
    "            print(\"Error: Division by zero is not allowed.\")\n",
    "    else:\n",
    "        print(\"Invalid operation!\")\n",
    "```"
   ]
  },
  {
   "cell_type": "markdown",
   "id": "b07818d7-392c-4887-bcea-dfe1849cec50",
   "metadata": {},
   "source": [
    "#### Example:\n",
    "```python\n",
    "def check_even_odd():\n",
    "    num = int(input(\"Enter a number: \"))\n",
    "    if num % 2 == 0:\n",
    "        print(f\"{num} is an even number.\")\n",
    "    else:\n",
    "        print(f\"{num} is an odd number.\")\n",
    "```"
   ]
  },
  {
   "cell_type": "code",
   "execution_count": null,
   "id": "aed305be-19d8-46dd-a538-169875bdbd48",
   "metadata": {},
   "outputs": [],
   "source": []
  },
  {
   "cell_type": "code",
   "execution_count": null,
   "id": "e24140d6-77f4-4f85-b7db-b5dc186193c3",
   "metadata": {},
   "outputs": [],
   "source": []
  },
  {
   "cell_type": "code",
   "execution_count": null,
   "id": "d9fa825c-46d0-40a1-8c4a-77612f4bcbe8",
   "metadata": {},
   "outputs": [],
   "source": []
  },
  {
   "cell_type": "code",
   "execution_count": null,
   "id": "60aeaecd-2442-4ff8-acbc-6392f7ddff87",
   "metadata": {},
   "outputs": [],
   "source": []
  },
  {
   "cell_type": "code",
   "execution_count": null,
   "id": "49b4e953-375e-4100-b771-9d1bab3e9548",
   "metadata": {},
   "outputs": [],
   "source": []
  },
  {
   "cell_type": "code",
   "execution_count": null,
   "id": "2f73f69c-3a7d-4209-8bef-861caed77c9f",
   "metadata": {},
   "outputs": [],
   "source": []
  },
  {
   "cell_type": "markdown",
   "id": "33b55361-0adf-4fb2-8cf5-7d19130f3509",
   "metadata": {},
   "source": [
    "#### Example:\n",
    "```python\n",
    "def find_max():\n",
    "    num1 = int(input(\"Enter the first number: \"))\n",
    "    num2 = int(input(\"Enter the second number: \"))\n",
    "\n",
    "    if num1 > num2:\n",
    "        print(f\"The larger number is: {num1}\")\n",
    "    elif num1 < num2:\n",
    "        print(f\"The larger number is: {num2}\")\n",
    "    else:\n",
    "        print(\"Both numbers are equal.\")\n",
    "```"
   ]
  },
  {
   "cell_type": "code",
   "execution_count": null,
   "id": "472e9076-6806-47cd-984d-13965cc4408b",
   "metadata": {},
   "outputs": [],
   "source": []
  },
  {
   "cell_type": "code",
   "execution_count": null,
   "id": "6fdf1956-3288-4a2f-b26c-0ba41552919f",
   "metadata": {},
   "outputs": [],
   "source": []
  },
  {
   "cell_type": "code",
   "execution_count": null,
   "id": "c0338a6b-7f6a-4e28-b540-04305c8453f7",
   "metadata": {},
   "outputs": [],
   "source": []
  },
  {
   "cell_type": "markdown",
   "id": "dc7e61eb",
   "metadata": {},
   "source": [
    "#### Example: Basic Use of `return`"
   ]
  },
  {
   "cell_type": "code",
   "execution_count": 39,
   "id": "d7c9c706",
   "metadata": {},
   "outputs": [],
   "source": [
    "def func3():\n",
    "    a= 10\n",
    "    b = 20\n",
    "    c = a+b     \n",
    "    return c\n",
    "   \n",
    "    \n",
    "    \n"
   ]
  },
  {
   "cell_type": "code",
   "execution_count": 41,
   "id": "9f5fffda",
   "metadata": {},
   "outputs": [],
   "source": [
    "var = func3()"
   ]
  },
  {
   "cell_type": "code",
   "execution_count": 42,
   "id": "bc2d9bef-db7a-42fe-8f95-1b9da0d3659d",
   "metadata": {},
   "outputs": [
    {
     "data": {
      "text/plain": [
       "30"
      ]
     },
     "execution_count": 42,
     "metadata": {},
     "output_type": "execute_result"
    }
   ],
   "source": [
    "var"
   ]
  },
  {
   "cell_type": "code",
   "execution_count": 44,
   "id": "8cb0cfb9-5034-4c3d-b815-e5fdf9e49568",
   "metadata": {},
   "outputs": [],
   "source": [
    "def func4():\n",
    "    a= 10\n",
    "    b = 20\n",
    "    c = a+b     \n",
    "    print(c)"
   ]
  },
  {
   "cell_type": "code",
   "execution_count": 48,
   "id": "e441523e-bcdd-428b-82db-f767552bd6af",
   "metadata": {},
   "outputs": [
    {
     "name": "stdout",
     "output_type": "stream",
     "text": [
      "30\n"
     ]
    }
   ],
   "source": [
    "var1 = func4()"
   ]
  },
  {
   "cell_type": "code",
   "execution_count": 49,
   "id": "d7eeee62",
   "metadata": {},
   "outputs": [],
   "source": [
    "var1"
   ]
  },
  {
   "cell_type": "code",
   "execution_count": null,
   "id": "05154e44-8964-4f3a-a50f-e9f7519a5dc9",
   "metadata": {},
   "outputs": [],
   "source": []
  },
  {
   "cell_type": "code",
   "execution_count": null,
   "id": "e4a65233-d029-4324-a6e0-a1b220e6bc17",
   "metadata": {},
   "outputs": [],
   "source": []
  },
  {
   "cell_type": "code",
   "execution_count": null,
   "id": "0d1d22b7-06f7-4188-97e4-8c24416e1216",
   "metadata": {},
   "outputs": [],
   "source": []
  },
  {
   "cell_type": "code",
   "execution_count": 1,
   "id": "16878e6a",
   "metadata": {},
   "outputs": [
    {
     "name": "stdout",
     "output_type": "stream",
     "text": [
      "The sum is: 8\n"
     ]
    }
   ],
   "source": [
    "\n",
    "def add(a, b):\n",
    "    result = a + b  # Sum the two numbers\n",
    "    return result   # Return the sum\n",
    "\n",
    "# Calling the function\n",
    "sum_value = add(3, 5)\n",
    "\n",
    "print(f\"The sum is: {sum_value}\")\n"
   ]
  },
  {
   "cell_type": "code",
   "execution_count": null,
   "id": "4fd5a96d-2717-44db-81b6-1d6926e326cd",
   "metadata": {},
   "outputs": [],
   "source": [
    "The `return` statement in Python is versatile and can return a wide variety of data types and values from a function. Here’s a detailed look at what a `return` statement can return:\n",
    "\n",
    "### 1. **Single Value**\n",
    "   - The most basic use of `return` is to send a single value back to the caller.\n",
    "   - This value can be of any data type: integer, float, string, list, etc.\n",
    "  "
   ]
  },
  {
   "cell_type": "markdown",
   "id": "19aa1d95",
   "metadata": {},
   "source": [
    " \n",
    "   **Example:**\n",
    "   "
   ]
  },
  {
   "cell_type": "code",
   "execution_count": 89,
   "id": "31199dc0",
   "metadata": {},
   "outputs": [],
   "source": [
    "return x * x  # Returns an integer\n",
    "\n",
    "result = square(4)\n",
    "\n"
   ]
  },
  {
   "cell_type": "code",
   "execution_count": 90,
   "id": "c15f5261",
   "metadata": {},
   "outputs": [
    {
     "data": {
      "text/plain": [
       "16"
      ]
     },
     "execution_count": 90,
     "metadata": {},
     "output_type": "execute_result"
    }
   ],
   "source": [
    "result"
   ]
  },
  {
   "cell_type": "markdown",
   "id": "0de8eede",
   "metadata": {},
   "source": [
    "### 2. **Multiple Values**\n",
    "   - A function can return multiple values by separating them with commas. These values are returned as a tuple.\n",
    "   \n",
    "   **Example:**\n",
    "   "
   ]
  },
  {
   "cell_type": "code",
   "execution_count": 61,
   "id": "f367cb3c-1539-44b0-b753-c19278647cf1",
   "metadata": {},
   "outputs": [],
   "source": [
    "def get_min_max(numbers):\n",
    "    return min(numbers), max(numbers)  # Returns a tuple of two values"
   ]
  },
  {
   "cell_type": "code",
   "execution_count": 62,
   "id": "cd193ac3-c7de-493c-a7f5-f5f4e1705394",
   "metadata": {},
   "outputs": [],
   "source": [
    "min_number,max_numbers = get_min_max([1, 2, 3, 4, 5])"
   ]
  },
  {
   "cell_type": "code",
   "execution_count": 63,
   "id": "d7b26888-9652-4188-a05e-8f12cfd536ac",
   "metadata": {},
   "outputs": [
    {
     "data": {
      "text/plain": [
       "1"
      ]
     },
     "execution_count": 63,
     "metadata": {},
     "output_type": "execute_result"
    }
   ],
   "source": [
    "min_number"
   ]
  },
  {
   "cell_type": "code",
   "execution_count": 64,
   "id": "d06b91a3-3775-4689-9c50-67dbadc9b0e6",
   "metadata": {},
   "outputs": [
    {
     "data": {
      "text/plain": [
       "5"
      ]
     },
     "execution_count": 64,
     "metadata": {},
     "output_type": "execute_result"
    }
   ],
   "source": [
    "max_numbers"
   ]
  },
  {
   "cell_type": "code",
   "execution_count": 72,
   "id": "de785718-c1f6-4522-b370-c8753013176a",
   "metadata": {},
   "outputs": [],
   "source": [
    "def a(number):\n",
    "    return min(number),max(number)\n",
    "    "
   ]
  },
  {
   "cell_type": "code",
   "execution_count": 73,
   "id": "5d10f73b-e1e6-437d-bff4-70a3cb127123",
   "metadata": {},
   "outputs": [],
   "source": [
    "d,e = a([1,2,3,4,5,6])"
   ]
  },
  {
   "cell_type": "code",
   "execution_count": 74,
   "id": "0c789c85-b964-495a-8329-f43a5d9123d3",
   "metadata": {},
   "outputs": [
    {
     "data": {
      "text/plain": [
       "1"
      ]
     },
     "execution_count": 74,
     "metadata": {},
     "output_type": "execute_result"
    }
   ],
   "source": [
    "d"
   ]
  },
  {
   "cell_type": "code",
   "execution_count": 75,
   "id": "f8ec8379-e626-4690-9b9f-efd541370fae",
   "metadata": {},
   "outputs": [
    {
     "data": {
      "text/plain": [
       "6"
      ]
     },
     "execution_count": 75,
     "metadata": {},
     "output_type": "execute_result"
    }
   ],
   "source": [
    "e"
   ]
  },
  {
   "cell_type": "code",
   "execution_count": null,
   "id": "a94ef514-d8a2-4f2e-9bc1-544eb19cbfde",
   "metadata": {},
   "outputs": [],
   "source": []
  },
  {
   "cell_type": "code",
   "execution_count": null,
   "id": "ebdaa9ef-ad58-4f8f-9cb4-55bc8e3844ef",
   "metadata": {},
   "outputs": [],
   "source": []
  },
  {
   "cell_type": "code",
   "execution_count": 76,
   "id": "80c6d41c-717f-4766-bc57-ad7fa1d920a3",
   "metadata": {},
   "outputs": [],
   "source": []
  },
  {
   "cell_type": "code",
   "execution_count": null,
   "id": "174544ad-cf71-433f-a44d-6c38bcef23ec",
   "metadata": {},
   "outputs": [],
   "source": []
  },
  {
   "cell_type": "code",
   "execution_count": 81,
   "id": "7ea2ead4-fa4d-4ed8-ab06-758b542f6515",
   "metadata": {},
   "outputs": [],
   "source": [
    "def func(a):\n",
    "    #print(a)\n",
    "    return min(a)\n",
    "    "
   ]
  },
  {
   "cell_type": "code",
   "execution_count": 83,
   "id": "e6d94ee0-3b95-47db-93b9-738b0685983b",
   "metadata": {},
   "outputs": [],
   "source": [
    "minum = func([1,2,3,4,5])"
   ]
  },
  {
   "cell_type": "code",
   "execution_count": 84,
   "id": "95eb188a-c345-4139-850b-554e848fc74e",
   "metadata": {},
   "outputs": [
    {
     "data": {
      "text/plain": [
       "1"
      ]
     },
     "execution_count": 84,
     "metadata": {},
     "output_type": "execute_result"
    }
   ],
   "source": [
    "minum"
   ]
  },
  {
   "cell_type": "code",
   "execution_count": null,
   "id": "7e731268-65e2-4290-a6c7-a0583b29d9e8",
   "metadata": {},
   "outputs": [],
   "source": []
  },
  {
   "cell_type": "code",
   "execution_count": null,
   "id": "3d906551-fa1d-4f6d-a8f8-3ebb48c924ff",
   "metadata": {},
   "outputs": [],
   "source": []
  },
  {
   "cell_type": "code",
   "execution_count": 68,
   "id": "8e7cddb7-9d3b-49bc-a1d9-6a772d89d6fb",
   "metadata": {},
   "outputs": [],
   "source": [
    "a = [1,2,3,4,5,6]"
   ]
  },
  {
   "cell_type": "code",
   "execution_count": 69,
   "id": "bc75b585-6cd0-4be9-ae28-d0ff3ab320dc",
   "metadata": {},
   "outputs": [
    {
     "data": {
      "text/plain": [
       "1"
      ]
     },
     "execution_count": 69,
     "metadata": {},
     "output_type": "execute_result"
    }
   ],
   "source": [
    "min(a)"
   ]
  },
  {
   "cell_type": "code",
   "execution_count": 70,
   "id": "4fcb8a22-f4b4-418f-8f18-922270eea6c1",
   "metadata": {},
   "outputs": [
    {
     "data": {
      "text/plain": [
       "6"
      ]
     },
     "execution_count": 70,
     "metadata": {},
     "output_type": "execute_result"
    }
   ],
   "source": [
    "max(a)"
   ]
  },
  {
   "cell_type": "code",
   "execution_count": 57,
   "id": "a352e54f-95f6-460a-9f5f-4c38566dd8cb",
   "metadata": {},
   "outputs": [],
   "source": [
    "numbers = [1,2,3,4,5]"
   ]
  },
  {
   "cell_type": "code",
   "execution_count": 58,
   "id": "bb5adbd8-0394-4de6-8626-6eabe2ea7530",
   "metadata": {},
   "outputs": [
    {
     "data": {
      "text/plain": [
       "1"
      ]
     },
     "execution_count": 58,
     "metadata": {},
     "output_type": "execute_result"
    }
   ],
   "source": [
    "min(numbers)"
   ]
  },
  {
   "cell_type": "code",
   "execution_count": 59,
   "id": "ba5a3f58-d6fa-4523-b53d-44bcafa20148",
   "metadata": {},
   "outputs": [
    {
     "data": {
      "text/plain": [
       "5"
      ]
     },
     "execution_count": 59,
     "metadata": {},
     "output_type": "execute_result"
    }
   ],
   "source": [
    "max(numbers)"
   ]
  },
  {
   "cell_type": "code",
   "execution_count": null,
   "id": "18f6ffe4-38b4-4e70-b167-9df7a0697f8d",
   "metadata": {},
   "outputs": [],
   "source": []
  },
  {
   "cell_type": "code",
   "execution_count": null,
   "id": "a9be38f2-4c52-4f90-a93b-482becb0621d",
   "metadata": {},
   "outputs": [],
   "source": []
  },
  {
   "cell_type": "code",
   "execution_count": null,
   "id": "6e2f49fa-3335-43ca-a2f7-5c9a8fe1db3c",
   "metadata": {},
   "outputs": [],
   "source": [
    "min_value, max_value = get_min_max([1, 2, 3, 4, 5])\n",
    "print(min_value, max_value)  # Output: 1 5"
   ]
  },
  {
   "cell_type": "markdown",
   "id": "e821b1c8",
   "metadata": {},
   "source": [
    "### 3. **Collections (Lists, Tuples, Sets, Dictionaries)**\n",
    "   - The `return` statement can return collections like lists, tuples, sets, and dictionaries.\n",
    "   \n",
    "   **Example:**\n",
    "   "
   ]
  },
  {
   "cell_type": "code",
   "execution_count": 1,
   "id": "ddf17f6b",
   "metadata": {},
   "outputs": [
    {
     "name": "stdout",
     "output_type": "stream",
     "text": [
      "[1, 2, 3, 4]\n"
     ]
    }
   ],
   "source": [
    "def create_list():\n",
    "    return [1, 2, 3, 4]  # Returns a list\n",
    "\n",
    "my_list = create_list()\n",
    "print(my_list)  # Output: [1, 2, 3, 4]\n"
   ]
  },
  {
   "cell_type": "markdown",
   "id": "c6c29b1d",
   "metadata": {},
   "source": [
    "### Summary\n",
    "- **Versatility**: The `return` statement can return anything from simple values like integers to complex objects or functions.\n",
    "- **Flexibility**: It can return nothing (`None`), a single value, multiple values, or any Python collection or object.\n",
    "- **Usage**: Understanding how to use `return` effectively is key to writing modular, reusable, and readable Python code."
   ]
  },
  {
   "cell_type": "code",
   "execution_count": null,
   "id": "fd2b742b",
   "metadata": {},
   "outputs": [],
   "source": []
  },
  {
   "cell_type": "markdown",
   "id": "39f6c75a-ca18-4521-bbae-49909cd34532",
   "metadata": {},
   "source": [
    ".\n",
    "\n",
    "---\n",
    "\n",
    "### 1. **Add Two Numbers**\n",
    "Write a function that takes no input but asks the user for two numbers, adds them, and **returns** the sum."
   ]
  },
  {
   "cell_type": "code",
   "execution_count": null,
   "id": "3e0ee6c4-f027-4311-8f18-28c3441439ae",
   "metadata": {},
   "outputs": [],
   "source": []
  },
  {
   "cell_type": "code",
   "execution_count": null,
   "id": "b4de3d12-e7e5-40af-9c51-fa6111d1f42a",
   "metadata": {},
   "outputs": [],
   "source": []
  },
  {
   "cell_type": "code",
   "execution_count": null,
   "id": "147d6b55-4ba0-4cc8-ad2e-f41fdb57ee00",
   "metadata": {},
   "outputs": [],
   "source": []
  },
  {
   "cell_type": "markdown",
   "id": "c618f8bf-43c5-43aa-8f32-660dc2ddde26",
   "metadata": {},
   "source": [
    "#### Example:\n",
    "```python\n",
    "def add_two_numbers():\n",
    "    num1 = int(input(\"Enter the first number: \"))\n",
    "    num2 = int(input(\"Enter the second number: \"))\n",
    "    return num1 + num2\n",
    "\n",
    "# Usage:\n",
    "result = add_two_numbers()\n",
    "print(f\"The sum is: {result}\")\n",
    "```\n",
    "\n",
    "---\n",
    "\n",
    "### 2. **Square of a Number**\n",
    "Create a function that takes a number from the user and **returns** its square."
   ]
  },
  {
   "cell_type": "code",
   "execution_count": null,
   "id": "887bc05e-5fcf-4f98-a7d2-2e61d127e326",
   "metadata": {},
   "outputs": [],
   "source": []
  },
  {
   "cell_type": "code",
   "execution_count": null,
   "id": "da53a52b-25ba-41bb-aea4-a50c74ead10e",
   "metadata": {},
   "outputs": [],
   "source": []
  },
  {
   "cell_type": "code",
   "execution_count": null,
   "id": "aa1a62c7-8c35-4c90-a7c6-e36ea12b862e",
   "metadata": {},
   "outputs": [],
   "source": []
  },
  {
   "cell_type": "code",
   "execution_count": null,
   "id": "de896d25-6f32-49af-816b-4249fc3e3912",
   "metadata": {},
   "outputs": [],
   "source": []
  },
  {
   "cell_type": "markdown",
   "id": "430c0cd9-beec-4799-a90f-5c79054d5666",
   "metadata": {},
   "source": [
    "#### Example:\n",
    "```python\n",
    "def square_number():\n",
    "    num = int(input(\"Enter a number: \"))\n",
    "    return num ** 2\n",
    "\n",
    "# Usage:\n",
    "result = square_number()\n",
    "print(f\"The square is: {result}\")\n",
    "```\n",
    "\n",
    "---"
   ]
  },
  {
   "cell_type": "markdown",
   "id": "4a44ca4c-5b0d-4b7f-8d52-79de6f113f67",
   "metadata": {},
   "source": [
    "### 3. **Find the Maximum of Two Numbers**\n",
    "Write a function that asks for two numbers from the user and **returns** the larger number."
   ]
  },
  {
   "cell_type": "code",
   "execution_count": null,
   "id": "b8ddab61-a12d-4269-8e1e-5362177b31f3",
   "metadata": {},
   "outputs": [],
   "source": []
  },
  {
   "cell_type": "code",
   "execution_count": null,
   "id": "b734c87f-0cbe-4ced-99a9-510361709f3f",
   "metadata": {},
   "outputs": [],
   "source": []
  },
  {
   "cell_type": "code",
   "execution_count": null,
   "id": "3ebea68a-c2e7-4212-a179-fa25c1bd207c",
   "metadata": {},
   "outputs": [],
   "source": []
  },
  {
   "cell_type": "markdown",
   "id": "56630c07-8c5e-497b-b419-13d3b419451e",
   "metadata": {},
   "source": [
    "#### Example:\n",
    "```python\n",
    "def find_max():\n",
    "    num1 = int(input(\"Enter the first number: \"))\n",
    "    num2 = int(input(\"Enter the second number: \"))\n",
    "    return num1 if num1 > num2 else num2\n",
    "\n",
    "# Usage:\n",
    "result = find_max()\n",
    "print(f\"The larger number is: {result}\")\n",
    "```\n",
    "\n",
    "---\n",
    "\n",
    "### 4. **Check if a Number is Even**\n",
    "Write a function that checks if a number entered by the user is even and **returns** `True` if it is, otherwise `False`.\n",
    "\n",
    "#### Example:\n",
    "```python\n",
    "def is_even():\n",
    "    num = int(input(\"Enter a number: \"))\n",
    "    return num % 2 == 0\n",
    "\n",
    "# Usage:\n",
    "result = is_even()\n",
    "if result:\n",
    "    print(\"The number is even.\")\n",
    "else:\n",
    "    print(\"The number is odd.\")\n",
    "```\n",
    "\n",
    "---\n",
    "\n",
    "### 5. **Calculate the Factorial of a Number**\n",
    "Write a function that calculates the factorial of a number entered by the user and **returns** the result.\n",
    "\n",
    "#### Example:\n",
    "```python\n",
    "def factorial():\n",
    "    num = int(input(\"Enter a number: \"))\n",
    "    fact = 1\n",
    "    for i in range(1, num + 1):\n",
    "        fact *= i\n",
    "    return fact\n",
    "\n",
    "# Usage:\n",
    "result = factorial()\n",
    "print(f\"The factorial is: {result}\")\n",
    "```\n",
    "\n",
    "---\n",
    "\n",
    "### 6. **Sum of N Numbers**\n",
    "Write a function that takes a number `n` from the user and **returns** the sum of the first `n` natural numbers.\n",
    "\n",
    "#### Example:\n",
    "```python\n",
    "def sum_of_n():\n",
    "    n = int(input(\"Enter a number: \"))\n",
    "    return n * (n + 1) // 2\n",
    "\n",
    "# Usage:\n",
    "result = sum_of_n()\n",
    "print(f\"The sum of the first {result} natural numbers is: {result}\")\n",
    "```\n",
    "\n",
    "---\n",
    "\n",
    "### 7. **Convert Celsius to Fahrenheit**\n",
    "Write a function that converts a temperature in Celsius (input by the user) to Fahrenheit and **returns** the result.\n",
    "\n",
    "#### Example:\n",
    "```python\n",
    "def celsius_to_fahrenheit():\n",
    "    celsius = float(input(\"Enter temperature in Celsius: \"))\n",
    "    return (celsius * 9/5) + 32\n",
    "\n",
    "# Usage:\n",
    "result = celsius_to_fahrenheit()\n",
    "print(f\"The temperature in Fahrenheit is: {result}\")\n",
    "```\n",
    "\n",
    "---\n",
    "\n",
    "### 8. **Find the Length of a String**\n",
    "Write a function that takes a string from the user and **returns** its length."
   ]
  },
  {
   "cell_type": "code",
   "execution_count": null,
   "id": "deeb9509-eb64-4bf2-aa4f-42bcf4df7b05",
   "metadata": {},
   "outputs": [],
   "source": []
  },
  {
   "cell_type": "code",
   "execution_count": null,
   "id": "eecc9e9e-8131-4832-be98-b99879a02e65",
   "metadata": {},
   "outputs": [],
   "source": []
  },
  {
   "cell_type": "code",
   "execution_count": null,
   "id": "38dd3f12-2be3-460e-9f51-c991a8e2e6d8",
   "metadata": {},
   "outputs": [],
   "source": []
  },
  {
   "cell_type": "markdown",
   "id": "c816a2f7-a826-410e-9584-ca0efaa33598",
   "metadata": {},
   "source": [
    "#### Example:\n",
    "```python\n",
    "def string_length():\n",
    "    text = input(\"Enter a string: \")\n",
    "    return len(text)\n",
    "\n",
    "# Usage:\n",
    "result = string_length()\n",
    "print(f\"The length of the string is: {result}\")\n",
    "```\n",
    "\n",
    "---\n",
    "\n",
    "### 9. **Check Palindrome**\n",
    "Write a function that checks if a string is a palindrome and **returns** `True` if it is, otherwise `False`.\n",
    "\n",
    "#### Example:\n",
    "```python\n",
    "def is_palindrome():\n",
    "    text = input(\"Enter a string: \")\n",
    "    return text == text[::-1]\n",
    "\n",
    "# Usage:\n",
    "result = is_palindrome()\n",
    "if result:\n",
    "    print(\"The string is a palindrome.\")\n",
    "else:\n",
    "    print(\"The string is not a palindrome.\")\n",
    "```\n",
    "\n",
    "---\n",
    "\n",
    "### 10. **Simple Interest Calculator**\n",
    "Write a function that calculates simple interest (`SI = P * R * T / 100`) and **returns** the result.\n",
    "\n",
    "#### Example:\n",
    "```python\n",
    "def calculate_simple_interest():\n",
    "    principal = float(input(\"Enter principal amount: \"))\n",
    "    rate = float(input(\"Enter rate of interest: \"))\n",
    "    time = float(input(\"Enter time in years: \"))\n",
    "    return (principal * rate * time) / 100\n",
    "\n",
    "# Usage:\n",
    "result = calculate_simple_interest()\n",
    "print(f\"The simple interest is: {result}\")\n",
    "```\n",
    "\n",
    "---\n",
    "\n",
    "These exercises give students hands-on practice with using the `return` statement effectively. Let me know if you need more!"
   ]
  },
  {
   "cell_type": "code",
   "execution_count": null,
   "id": "8dd0a429-e309-4465-a05e-0617da1d6132",
   "metadata": {},
   "outputs": [],
   "source": []
  },
  {
   "cell_type": "code",
   "execution_count": null,
   "id": "0c8b19bf-5da2-48ff-80f4-d69224e643c3",
   "metadata": {},
   "outputs": [],
   "source": []
  },
  {
   "cell_type": "code",
   "execution_count": null,
   "id": "4316c625-7708-49df-a050-009af0c002da",
   "metadata": {},
   "outputs": [],
   "source": []
  },
  {
   "cell_type": "code",
   "execution_count": null,
   "id": "c7e50bbf-c745-4972-9d6e-dc0acffff1b8",
   "metadata": {},
   "outputs": [],
   "source": []
  },
  {
   "cell_type": "code",
   "execution_count": null,
   "id": "3baeade2-5998-45de-8355-9bc426bf1898",
   "metadata": {},
   "outputs": [],
   "source": []
  },
  {
   "cell_type": "code",
   "execution_count": null,
   "id": "84485d00-aed3-496e-ae7d-d15ba5703e77",
   "metadata": {},
   "outputs": [],
   "source": []
  },
  {
   "cell_type": "markdown",
   "id": "1ecc75ef",
   "metadata": {},
   "source": [
    "## Different Types of Arguments "
   ]
  },
  {
   "cell_type": "markdown",
   "id": "61804deb",
   "metadata": {},
   "source": [
    "### 1 Default Arguments\n",
    "in Python allow you to specify a default value for one or more parameters in a function. This means that if the function is called without providing a value for a parameter with a default, the function will use the default value."
   ]
  },
  {
   "cell_type": "markdown",
   "id": "bca64ac4",
   "metadata": {},
   "source": [
    "### Key Characteristics:\n",
    "1. **Position in Parameters**:\n",
    "   - Parameters with default values must be placed after parameters without defaults.\n",
    "   - This is because Python matches arguments to parameters based on their position, and any parameter without a default value must be explicitly provided when the function is called.\n",
    "   - If default parameters come before non-default parameters, Python would not know which arguments correspond to which parameters.\n",
    "\n",
    "2. **Flexibility**:\n",
    "   - You can omit arguments when calling the function, and the function will still work by using the default values.\n",
    "   - Default arguments make your function flexible for multiple use cases.\n",
    "\n",
    "3. **Evaluation**:\n",
    "   - Default argument values are evaluated once when the function is defined, not each time the function is called. Be cautious when using mutable default arguments like lists or dictionaries.\n",
    "\n",
    "### Syntax:\n",
    "```python\n",
    "def function_name(param1, param2=value):\n",
    "    # Function body\n",
    "```"
   ]
  },
  {
   "cell_type": "markdown",
   "id": "91e8bd48",
   "metadata": {},
   "source": [
    "### Example:"
   ]
  },
  {
   "cell_type": "code",
   "execution_count": 97,
   "id": "c3818609-29b4-4032-9f76-f1fd1c69b4ba",
   "metadata": {},
   "outputs": [],
   "source": [
    "def func(age,name = \"Alice\"):\n",
    "    print(f\"my name is {name} and the age is {age}\")"
   ]
  },
  {
   "cell_type": "code",
   "execution_count": 98,
   "id": "ddcaa496-8cdd-4bf0-85cf-6866e918145e",
   "metadata": {},
   "outputs": [
    {
     "name": "stdout",
     "output_type": "stream",
     "text": [
      "my name is Alice and the age is 30\n"
     ]
    }
   ],
   "source": [
    "func(30)"
   ]
  },
  {
   "cell_type": "code",
   "execution_count": 99,
   "id": "ed40c944-caa9-4ec2-89a3-a22caa2652c0",
   "metadata": {},
   "outputs": [
    {
     "name": "stdout",
     "output_type": "stream",
     "text": [
      "my name is Raj and the age is 50\n"
     ]
    }
   ],
   "source": [
    "func(50,\"Raj\")"
   ]
  },
  {
   "cell_type": "code",
   "execution_count": null,
   "id": "b9e3ffdb-9abc-4220-9a1f-e6c3c511ee20",
   "metadata": {},
   "outputs": [],
   "source": []
  },
  {
   "cell_type": "code",
   "execution_count": null,
   "id": "8a399715-c463-4ffa-a191-62882eec8d72",
   "metadata": {},
   "outputs": [],
   "source": []
  },
  {
   "cell_type": "code",
   "execution_count": null,
   "id": "6e760693-3a87-4093-978c-ad69702b3a1e",
   "metadata": {},
   "outputs": [],
   "source": []
  },
  {
   "cell_type": "code",
   "execution_count": null,
   "id": "a08618bd-fc3a-4a70-9e19-856a8c16ea74",
   "metadata": {},
   "outputs": [],
   "source": []
  },
  {
   "cell_type": "code",
   "execution_count": 112,
   "id": "5cc4a1fc",
   "metadata": {},
   "outputs": [],
   "source": [
    "def func9(a= 10,b= 20):\n",
    "    print(a,b)"
   ]
  },
  {
   "cell_type": "code",
   "execution_count": 115,
   "id": "66350e16",
   "metadata": {},
   "outputs": [
    {
     "name": "stdout",
     "output_type": "stream",
     "text": [
      "80 90\n"
     ]
    }
   ],
   "source": [
    "func9()"
   ]
  },
  {
   "cell_type": "code",
   "execution_count": 116,
   "id": "be72e82f",
   "metadata": {},
   "outputs": [
    {
     "name": "stdout",
     "output_type": "stream",
     "text": [
      "80 90\n"
     ]
    }
   ],
   "source": [
    "func9(80,90)"
   ]
  },
  {
   "cell_type": "code",
   "execution_count": null,
   "id": "b974025b",
   "metadata": {},
   "outputs": [],
   "source": []
  },
  {
   "cell_type": "code",
   "execution_count": null,
   "id": "3f14391b",
   "metadata": {},
   "outputs": [],
   "source": []
  },
  {
   "cell_type": "code",
   "execution_count": 8,
   "id": "88d8c44a",
   "metadata": {},
   "outputs": [
    {
     "name": "stdout",
     "output_type": "stream",
     "text": [
      "Hello, Guest!\n",
      "Hello, Alice!\n"
     ]
    }
   ],
   "source": [
    "def greet(name=\"Guest\"):\n",
    "    print(f\"Hello, {name}!\")\n",
    "\n",
    "# Function calls\n",
    "greet()              # Output: Hello, Guest!\n",
    "greet(\"Alice\")       # Output: Hello, Alice!\n"
   ]
  },
  {
   "cell_type": "markdown",
   "id": "11c2c046",
   "metadata": {},
   "source": [
    "### Rules for Default Arguments:\n",
    "- **Order Matters**: Non-default arguments must be placed before default ones.\n",
    "  "
   ]
  },
  {
   "cell_type": "code",
   "execution_count": 100,
   "id": "8c17d1aa",
   "metadata": {},
   "outputs": [
    {
     "name": "stdout",
     "output_type": "stream",
     "text": [
      "10 500\n"
     ]
    }
   ],
   "source": [
    "def func10(a,b=100):\n",
    "    print(a,b)\n",
    "func10(10,500)\n",
    "    "
   ]
  },
  {
   "cell_type": "code",
   "execution_count": null,
   "id": "d03a6ab1",
   "metadata": {},
   "outputs": [],
   "source": []
  },
  {
   "cell_type": "code",
   "execution_count": null,
   "id": "003fc962",
   "metadata": {},
   "outputs": [],
   "source": []
  },
  {
   "cell_type": "code",
   "execution_count": null,
   "id": "5e9cb3ab",
   "metadata": {},
   "outputs": [],
   "source": []
  },
  {
   "cell_type": "code",
   "execution_count": 6,
   "id": "8fa34b20",
   "metadata": {},
   "outputs": [],
   "source": [
    "# Correct order\n",
    "def example(a, b=10):\n",
    "    print(a, b)\n",
    "\n",
    "# Incorrect order (will raise a SyntaxError)\n",
    "# def example(b=10, a):\n"
   ]
  },
  {
   "cell_type": "code",
   "execution_count": 8,
   "id": "d6b834eb",
   "metadata": {},
   "outputs": [
    {
     "name": "stdout",
     "output_type": "stream",
     "text": [
      "1 10\n"
     ]
    }
   ],
   "source": [
    "example(1)"
   ]
  },
  {
   "cell_type": "code",
   "execution_count": 9,
   "id": "b7cb719f",
   "metadata": {},
   "outputs": [
    {
     "ename": "SyntaxError",
     "evalue": "non-default argument follows default argument (1116675398.py, line 2)",
     "output_type": "error",
     "traceback": [
      "\u001b[1;36m  Cell \u001b[1;32mIn[9], line 2\u001b[1;36m\u001b[0m\n\u001b[1;33m    def example(a = 20, b):\u001b[0m\n\u001b[1;37m                        ^\u001b[0m\n\u001b[1;31mSyntaxError\u001b[0m\u001b[1;31m:\u001b[0m non-default argument follows default argument\n"
     ]
    }
   ],
   "source": [
    "# Correct order\n",
    "def example(a = 20, b):\n",
    "    print(a, b)"
   ]
  },
  {
   "cell_type": "markdown",
   "id": "8433a373",
   "metadata": {},
   "source": [
    "- **Combining Default and Non-Default Arguments**: You can combine default and non-default arguments in a function call."
   ]
  },
  {
   "cell_type": "code",
   "execution_count": 15,
   "id": "c6284cd4",
   "metadata": {},
   "outputs": [
    {
     "name": "stdout",
     "output_type": "stream",
     "text": [
      "My name is John and I am 30 years old.\n"
     ]
    }
   ],
   "source": [
    "def introduction(name, age=30):\n",
    "    print(f\"My name is {name} and I am {age} years old.\")\n",
    "\n",
    "introduction(\"John\")    "
   ]
  },
  {
   "cell_type": "code",
   "execution_count": 16,
   "id": "fb8018c8",
   "metadata": {},
   "outputs": [
    {
     "name": "stdout",
     "output_type": "stream",
     "text": [
      "My name is Alice and I am 25 years old.\n"
     ]
    }
   ],
   "source": [
    "introduction(\"Alice\", 25)          # Output: My name is Alice and I am 25 years old."
   ]
  },
  {
   "cell_type": "code",
   "execution_count": null,
   "id": "5a4b1042",
   "metadata": {},
   "outputs": [],
   "source": []
  },
  {
   "cell_type": "code",
   "execution_count": null,
   "id": "c866377c",
   "metadata": {},
   "outputs": [],
   "source": []
  },
  {
   "cell_type": "markdown",
   "id": "5d685a66",
   "metadata": {},
   "source": [
    "### Practical Use Case:\n",
    "\n",
    "Default arguments are useful when you want to make certain parameters optional or provide sensible defaults for missing values.\n",
    "\n",
    "For example, in a function that calculates the area of a rectangle, the default length could be 1, assuming it’s a square if only the width is provided:"
   ]
  },
  {
   "cell_type": "code",
   "execution_count": 12,
   "id": "d3ae1faf",
   "metadata": {},
   "outputs": [
    {
     "data": {
      "text/plain": [
       "5"
      ]
     },
     "execution_count": 12,
     "metadata": {},
     "output_type": "execute_result"
    }
   ],
   "source": [
    "def calculate_area(width, length=1):\n",
    "    return width * length\n",
    "\n",
    "# Function calls\n",
    "calculate_area(5)"
   ]
  },
  {
   "cell_type": "code",
   "execution_count": 13,
   "id": "6148304a",
   "metadata": {},
   "outputs": [
    {
     "data": {
      "text/plain": [
       "20"
      ]
     },
     "execution_count": 13,
     "metadata": {},
     "output_type": "execute_result"
    }
   ],
   "source": [
    "calculate_area(5, 4)  # Output: 20"
   ]
  },
  {
   "cell_type": "markdown",
   "id": "7361bf50",
   "metadata": {},
   "source": [
    "### Conclusion:\n",
    "Default arguments provide flexibility in function design by allowing some parameters to have default values, simplifying function calls when certain parameters are commonly set to the same value. However, care should be taken when using mutable objects as default values."
   ]
  },
  {
   "cell_type": "code",
   "execution_count": null,
   "id": "52bddd11",
   "metadata": {},
   "outputs": [],
   "source": []
  },
  {
   "cell_type": "code",
   "execution_count": null,
   "id": "3152c6f8",
   "metadata": {},
   "outputs": [],
   "source": [
    "def func (a,b)"
   ]
  },
  {
   "cell_type": "code",
   "execution_count": null,
   "id": "a62a690a",
   "metadata": {},
   "outputs": [],
   "source": []
  },
  {
   "cell_type": "markdown",
   "id": "7b1bd562-bf81-468c-ad70-c05b39b24668",
   "metadata": {},
   "source": [
    "Here are **5 simple exercises** to practice using default arguments in Python:\n",
    "\n",
    "---\n",
    "\n",
    "### 1. **Greet a User**\n",
    "Write a function that greets a user. If no name is provided, it should default to \"Guest\".\n",
    "\n",
    "#### Example:\n",
    "```python\n",
    "def greet(name=\"Guest\"):\n",
    "    print(f\"Hello, {name}! Welcome to Python!\")\n",
    "\n",
    "# Usage:\n",
    "greet()  # Output: Hello, Guest! Welcome to Python!\n",
    "greet(\"Alice\")  # Output: Hello, Alice! Welcome to Python!\n",
    "```\n",
    "\n",
    "---\n",
    "\n",
    "### 2. **Calculate the Area of a Rectangle**\n",
    "Write a function to calculate the area of a rectangle. If no values are provided, default to `length=1` and `breadth=1`.\n",
    "\n",
    "#### Example:\n",
    "```python\n",
    "def rectangle_area(length=1, breadth=1):\n",
    "    return length * breadth\n",
    "\n",
    "# Usage:\n",
    "print(rectangle_area())  # Output: 1\n",
    "print(rectangle_area(5))  # Output: 5\n",
    "print(rectangle_area(5, 3))  # Output: 15\n",
    "```\n",
    "\n",
    "---\n",
    "\n",
    "### 3. **Display a Multiplication Table**\n",
    "Write a function that prints the multiplication table of a number. By default, it should generate the table for `2`.\n",
    "\n",
    "#### Example:\n",
    "```python\n",
    "def multiplication_table(number=2):\n",
    "    for i in range(1, 11):\n",
    "        print(f\"{number} x {i} = {number * i}\")\n",
    "\n",
    "# Usage:\n",
    "multiplication_table()  # Prints the table for 2\n",
    "multiplication_table(5)  # Prints the table for 5\n",
    "```\n",
    "\n",
    "---\n",
    "\n",
    "### 4. **Simple Interest Calculator**\n",
    "Write a function to calculate simple interest. If the rate is not provided, it should default to 5%.\n",
    "\n",
    "#### Example:\n",
    "```python\n",
    "def calculate_simple_interest(principal, time, rate=5):\n",
    "    return (principal * rate * time) / 100\n",
    "\n",
    "# Usage:\n",
    "print(calculate_simple_interest(1000, 2))  # Output: 100.0 (default rate of 5%)\n",
    "print(calculate_simple_interest(1000, 2, 10))  # Output: 200.0 (rate provided as 10%)\n",
    "```\n",
    "\n",
    "---\n",
    "\n",
    "### 5. **Convert Temperature**\n",
    "Write a function to convert a temperature from Celsius to Fahrenheit. By default, the temperature should be 0°C.\n",
    "\n",
    "#### Example:\n",
    "```python\n",
    "def celsius_to_fahrenheit(celsius=0):\n",
    "    return (celsius * 9/5) + 32\n",
    "\n",
    "# Usage:\n",
    "print(celsius_to_fahrenheit())  # Output: 32.0 (default 0°C)\n",
    "print(celsius_to_fahrenheit(25))  # Output: 77.0\n",
    "```\n",
    "\n",
    "---\n",
    "\n"
   ]
  },
  {
   "cell_type": "code",
   "execution_count": null,
   "id": "58a66a8b-e10c-4a72-805e-fdf9014d9fca",
   "metadata": {},
   "outputs": [],
   "source": []
  },
  {
   "cell_type": "code",
   "execution_count": null,
   "id": "464bea30-488e-429b-8e9a-da01a0e07d3e",
   "metadata": {},
   "outputs": [],
   "source": []
  },
  {
   "cell_type": "code",
   "execution_count": null,
   "id": "89d97169",
   "metadata": {},
   "outputs": [],
   "source": []
  },
  {
   "cell_type": "markdown",
   "id": "2a5fcdc7",
   "metadata": {},
   "source": [
    "### 2 Positional arguments\n",
    "are arguments passed to a function in the order in which they are defined in the function's signature. When calling a function, the values provided as arguments are assigned to the corresponding parameters based on their position in the function definition."
   ]
  },
  {
   "cell_type": "markdown",
   "id": "731392a2",
   "metadata": {},
   "source": [
    "### Key Characteristics of Positional Arguments:\n",
    "\n",
    "1. **Order Matters**:\n",
    "   - The position of each argument in the function call must match the position of the corresponding parameter in the function definition. If the order is incorrect, the function may produce unintended results or throw an error.\n",
    "   \n",
    "2. **Required Arguments**:\n",
    "   - Unless default values are provided for certain parameters, positional arguments are mandatory. You must pass values for each parameter, or the function call will fail with a `TypeError` indicating missing arguments.\n",
    "\n",
    "3. **Positional Matching**:\n",
    "   - Positional arguments are matched from left to right with the parameters in the function definition. This means that the first argument goes to the first parameter, the second argument to the second parameter, and so on."
   ]
  },
  {
   "cell_type": "markdown",
   "id": "72798b44",
   "metadata": {},
   "source": [
    "### Syntax:\n",
    "```python\n",
    "def function_name(param1, param2, param3):\n",
    "    # Function body\n",
    "```"
   ]
  },
  {
   "cell_type": "markdown",
   "id": "8dd69035",
   "metadata": {},
   "source": [
    "### Example:"
   ]
  },
  {
   "cell_type": "code",
   "execution_count": 101,
   "id": "c9f9470f",
   "metadata": {},
   "outputs": [],
   "source": [
    "def func4(name,ag e):\n",
    "    print(f\" Hello my name is {name} my age is {age}\")\n",
    "          "
   ]
  },
  {
   "cell_type": "code",
   "execution_count": 102,
   "id": "1f19aebf",
   "metadata": {},
   "outputs": [
    {
     "name": "stdout",
     "output_type": "stream",
     "text": [
      " Hello my name is raj my age is 30\n"
     ]
    }
   ],
   "source": [
    "func4(\"raj\",30)"
   ]
  },
  {
   "cell_type": "code",
   "execution_count": 103,
   "id": "109a5f9d",
   "metadata": {},
   "outputs": [
    {
     "name": "stdout",
     "output_type": "stream",
     "text": [
      " Hello my name is 30 my age is TAJ\n"
     ]
    }
   ],
   "source": [
    "func4(30,\"TAJ\")"
   ]
  },
  {
   "cell_type": "code",
   "execution_count": null,
   "id": "938958f3",
   "metadata": {},
   "outputs": [],
   "source": []
  },
  {
   "cell_type": "code",
   "execution_count": null,
   "id": "0bcee359",
   "metadata": {},
   "outputs": [],
   "source": []
  },
  {
   "cell_type": "code",
   "execution_count": 17,
   "id": "5ecdfc7f",
   "metadata": {},
   "outputs": [
    {
     "name": "stdout",
     "output_type": "stream",
     "text": [
      "Hello, my name is Alice and I am 25 years old.\n"
     ]
    }
   ],
   "source": [
    "def greet(name, age):\n",
    "    print(f\"Hello, my name is {name} and I am {age} years old.\")\n",
    "\n",
    "# Function call using positional arguments\n",
    "greet(\"Alice\", 25)  # Output: Hello, my name is Alice and I am 25 years old.\n"
   ]
  },
  {
   "cell_type": "markdown",
   "id": "74191fee",
   "metadata": {},
   "source": [
    "In this example, `\"Alice\"` is passed to the `name` parameter and `25` is passed to the `age` parameter, based on their position in the function call."
   ]
  },
  {
   "cell_type": "markdown",
   "id": "04f8f7fc",
   "metadata": {},
   "source": [
    "### Multiple Positional Arguments:"
   ]
  },
  {
   "cell_type": "markdown",
   "id": "09d42149",
   "metadata": {},
   "source": [
    "A function can have multiple positional arguments, and the caller must provide values for all of them."
   ]
  },
  {
   "cell_type": "code",
   "execution_count": 99,
   "id": "2c51c020",
   "metadata": {},
   "outputs": [],
   "source": [
    "def addition(a,b,c,d):\n",
    "    e =a+b+c+d\n",
    "    print(e)"
   ]
  },
  {
   "cell_type": "code",
   "execution_count": 100,
   "id": "8e75bfa3",
   "metadata": {},
   "outputs": [
    {
     "name": "stdout",
     "output_type": "stream",
     "text": [
      "100\n"
     ]
    }
   ],
   "source": [
    "addition(10,20,30,40)"
   ]
  },
  {
   "cell_type": "code",
   "execution_count": 101,
   "id": "a76628d7",
   "metadata": {},
   "outputs": [],
   "source": [
    "def subt(a,b,c,d):\n",
    "    e =a -b -c-d\n",
    "    print(e)"
   ]
  },
  {
   "cell_type": "code",
   "execution_count": 102,
   "id": "a8934408",
   "metadata": {},
   "outputs": [
    {
     "name": "stdout",
     "output_type": "stream",
     "text": [
      "-80\n"
     ]
    }
   ],
   "source": [
    "subt(10,20,30,40)"
   ]
  },
  {
   "cell_type": "code",
   "execution_count": 14,
   "id": "b0d19e20",
   "metadata": {},
   "outputs": [],
   "source": [
    "\n",
    "def add(a, b, c):\n",
    "    return a + b + c\n",
    "\n",
    "# Function call using positional arguments\n",
    "result = add(2, 3, 4)  # Output: 9\n"
   ]
  },
  {
   "cell_type": "code",
   "execution_count": 15,
   "id": "dbaffcfa",
   "metadata": {},
   "outputs": [
    {
     "data": {
      "text/plain": [
       "9"
      ]
     },
     "execution_count": 15,
     "metadata": {},
     "output_type": "execute_result"
    }
   ],
   "source": [
    "result"
   ]
  },
  {
   "cell_type": "markdown",
   "id": "ef9bce9a",
   "metadata": {},
   "source": [
    "Here, the values `2`, `3`, and `4` are assigned to `a`, `b`, and `c`, respectively, in the function call."
   ]
  },
  {
   "cell_type": "markdown",
   "id": "eee4d71f",
   "metadata": {},
   "source": [
    "### Incorrect Order of Positional Arguments:\n",
    "\n",
    "If you pass the arguments in the wrong order, the function may behave unexpectedly:"
   ]
  },
  {
   "cell_type": "code",
   "execution_count": 16,
   "id": "b20518c8",
   "metadata": {},
   "outputs": [
    {
     "name": "stdout",
     "output_type": "stream",
     "text": [
      "Name: 25, Age: Alice\n"
     ]
    }
   ],
   "source": [
    "\n",
    "def display_info(name, age):\n",
    "    print(f\"Name: {name}, Age: {age}\")\n",
    "\n",
    "# Incorrect order of arguments\n",
    "display_info(25, \"Alice\")  # Output: Name: 25, Age: Alice (incorrect)\n"
   ]
  },
  {
   "cell_type": "markdown",
   "id": "893a4f3f",
   "metadata": {},
   "source": [
    "In this case, `25` is assigned to `name` and `\"Alice\"` is assigned to `age`, which produces an incorrect result."
   ]
  },
  {
   "cell_type": "markdown",
   "id": "e85fd9c1",
   "metadata": {},
   "source": [
    "### Passing Positional Arguments Example:"
   ]
  },
  {
   "cell_type": "code",
   "execution_count": null,
   "id": "cf2f28d5",
   "metadata": {},
   "outputs": [],
   "source": []
  },
  {
   "cell_type": "code",
   "execution_count": 18,
   "id": "350ac3ca",
   "metadata": {},
   "outputs": [],
   "source": [
    "def calculate_area(length, width):\n",
    "    return length * width\n",
    "\n",
    "# Correct positional arguments\n",
    "area = calculate_area(10, 5)   # Output: 50"
   ]
  },
  {
   "cell_type": "code",
   "execution_count": 20,
   "id": "8435abc0",
   "metadata": {},
   "outputs": [
    {
     "data": {
      "text/plain": [
       "50"
      ]
     },
     "execution_count": 20,
     "metadata": {},
     "output_type": "execute_result"
    }
   ],
   "source": [
    "area"
   ]
  },
  {
   "cell_type": "code",
   "execution_count": 19,
   "id": "38393efa",
   "metadata": {},
   "outputs": [],
   "source": [
    "# Incorrect positional arguments (order switched)\n",
    "area = calculate_area(5, 10)   # Still output: 50, but interpreted as width=5, length=10"
   ]
  },
  {
   "cell_type": "code",
   "execution_count": 21,
   "id": "9f1cde1b",
   "metadata": {},
   "outputs": [
    {
     "data": {
      "text/plain": [
       "50"
      ]
     },
     "execution_count": 21,
     "metadata": {},
     "output_type": "execute_result"
    }
   ],
   "source": [
    "area"
   ]
  },
  {
   "cell_type": "markdown",
   "id": "ced3a1ab",
   "metadata": {},
   "source": [
    "### Rules for Positional Arguments:\n",
    "\n",
    "- You must pass all required positional arguments unless the function defines default values for some of the parameters.\n",
    "- Positional arguments cannot come after keyword arguments in a function call (i.e., positional arguments must come first).\n",
    "  "
   ]
  },
  {
   "cell_type": "code",
   "execution_count": 104,
   "id": "430642cf",
   "metadata": {},
   "outputs": [
    {
     "name": "stdout",
     "output_type": "stream",
     "text": [
      "10\n"
     ]
    }
   ],
   "source": [
    "def func5(a,b,c):\n",
    "    print(a)\n",
    "func5(10,20,30)"
   ]
  },
  {
   "cell_type": "code",
   "execution_count": 4,
   "id": "34158835",
   "metadata": {},
   "outputs": [
    {
     "name": "stdout",
     "output_type": "stream",
     "text": [
      "1 2\n"
     ]
    }
   ],
   "source": [
    "def func(a, b):\n",
    "    print(a, b)\n",
    "\n",
    "func(1, 2)  # Valid\n",
    " \n"
   ]
  },
  {
   "cell_type": "code",
   "execution_count": null,
   "id": "58bd1d55-0c54-45bf-bc04-17069fb6082a",
   "metadata": {},
   "outputs": [],
   "source": []
  },
  {
   "cell_type": "code",
   "execution_count": null,
   "id": "4766ab44-b167-4981-8827-50af4c350346",
   "metadata": {},
   "outputs": [],
   "source": []
  },
  {
   "cell_type": "code",
   "execution_count": null,
   "id": "c3000408-5fc8-4e49-b0f2-75013de9bcc9",
   "metadata": {},
   "outputs": [],
   "source": []
  },
  {
   "cell_type": "code",
   "execution_count": null,
   "id": "6a4cdb23-cebd-418d-90cb-6fa031b8e7e7",
   "metadata": {},
   "outputs": [],
   "source": []
  },
  {
   "cell_type": "code",
   "execution_count": null,
   "id": "77be5022-b4c4-4cc2-8d0d-e5dc0f52c7bb",
   "metadata": {},
   "outputs": [],
   "source": []
  },
  {
   "cell_type": "code",
   "execution_count": null,
   "id": "639cc0ec-5149-4ab2-9d4c-a8b5f3d6da93",
   "metadata": {},
   "outputs": [],
   "source": []
  },
  {
   "cell_type": "markdown",
   "id": "41694738",
   "metadata": {},
   "source": [
    "### Mixing Positional and Keyword Arguments:\n",
    "\n",
    "You can combine positional and keyword arguments in a function call, but positional arguments must always come before keyword arguments."
   ]
  },
  {
   "cell_type": "code",
   "execution_count": 19,
   "id": "a3fac15e",
   "metadata": {},
   "outputs": [
    {
     "name": "stdout",
     "output_type": "stream",
     "text": [
      "Name: Alice, Age: 25\n"
     ]
    }
   ],
   "source": [
    "def display_info(name, age):\n",
    "    print(f\"Name: {name}, Age: {age}\")\n",
    "\n",
    "# Combining positional and keyword arguments\n",
    "display_info(\"Alice\", age=25)  # Output: Name: Alice, Age: 25\n"
   ]
  },
  {
   "cell_type": "markdown",
   "id": "015dd198-bf1e-4db3-9118-7bb026750be1",
   "metadata": {},
   "source": [
    "## Key word Argument"
   ]
  },
  {
   "cell_type": "code",
   "execution_count": 107,
   "id": "0362eac6-a3eb-4c57-8bf6-d85716dcf483",
   "metadata": {},
   "outputs": [],
   "source": [
    "def func(a,b,c):\n",
    "    print(a,b,c)\n",
    "    "
   ]
  },
  {
   "cell_type": "code",
   "execution_count": 108,
   "id": "69e24d34-34b9-409f-8d6a-159bc3a6f2a6",
   "metadata": {},
   "outputs": [
    {
     "name": "stdout",
     "output_type": "stream",
     "text": [
      "10 20 30\n"
     ]
    }
   ],
   "source": [
    "func(a = 10,b= 20,c =30)"
   ]
  },
  {
   "cell_type": "code",
   "execution_count": null,
   "id": "24747b03-eb55-4cb3-a144-5394b8cb784e",
   "metadata": {},
   "outputs": [],
   "source": []
  },
  {
   "cell_type": "code",
   "execution_count": 109,
   "id": "b456aa10-8971-46a6-83ef-c418dddd552d",
   "metadata": {},
   "outputs": [
    {
     "name": "stdout",
     "output_type": "stream",
     "text": [
      "20 10 30\n"
     ]
    }
   ],
   "source": [
    "func(b = 10,a= 20,c =30)"
   ]
  },
  {
   "cell_type": "code",
   "execution_count": null,
   "id": "28d05ffd-e79b-470d-b4d8-7aa424cc07f0",
   "metadata": {},
   "outputs": [],
   "source": []
  },
  {
   "cell_type": "code",
   "execution_count": null,
   "id": "a60eeb16-dca6-494f-b4f7-71e13941b208",
   "metadata": {},
   "outputs": [],
   "source": []
  },
  {
   "cell_type": "markdown",
   "id": "42b2ff59",
   "metadata": {},
   "source": [
    "### Use Cases for Positional Arguments:\n",
    "\n",
    "1. **Simpler and Intuitive Function Calls**:\n",
    "   Positional arguments are typically used for simple functions where the order of arguments is intuitive, and there’s no need for the caller to specify which argument matches which parameter.\n",
    "\n",
    "2. **Common in Short Utility Functions**:\n",
    "   Positional arguments are often used in functions that perform straightforward operations, such as mathematical calculations or data manipulations, where the order of arguments is predictable and natural."
   ]
  },
  {
   "cell_type": "markdown",
   "id": "7e83fe32",
   "metadata": {},
   "source": [
    "### Conclusion:\n",
    "\n",
    "Positional arguments are the most common and straightforward way to pass arguments to a function. However, since their order matters, it's essential to pass them in the correct sequence to avoid unexpected results. They are especially useful when the function has a small number of parameters with obvious ordering."
   ]
  },
  {
   "cell_type": "code",
   "execution_count": null,
   "id": "ddec2286",
   "metadata": {},
   "outputs": [],
   "source": []
  },
  {
   "cell_type": "code",
   "execution_count": null,
   "id": "8cb9ccc3-9d84-4b43-b095-6165fdadd364",
   "metadata": {},
   "outputs": [],
   "source": []
  },
  {
   "cell_type": "markdown",
   "id": "8cd0517d-7957-4ca9-8268-ec4e463d6d08",
   "metadata": {},
   "source": [
    "---\n",
    "\n",
    "### 1. **Add Two Numbers**\n",
    "Write a function that takes two numbers as positional arguments and returns their sum.\n",
    "\n",
    "#### Example:\n",
    "```python\n",
    "def add_numbers(a, b):\n",
    "    return a + b\n",
    "\n",
    "# Usage:\n",
    "print(add_numbers(3, 5))  # Output: 8\n",
    "```\n",
    "\n",
    "---\n",
    "\n",
    "### 2. **Calculate the Area of a Rectangle**\n",
    "Write a function that takes the length and breadth of a rectangle as positional arguments and returns its area.\n",
    "\n",
    "#### Example:\n",
    "```python\n",
    "def rectangle_area(length, breadth):\n",
    "    return length * breadth\n",
    "\n",
    "# Usage:\n",
    "print(rectangle_area(5, 3))  # Output: 15\n",
    "```\n",
    "\n",
    "---\n",
    "\n",
    "### 3. **Display Full Name**\n",
    "Write a function that takes a first name and a last name as positional arguments and prints the full name."
   ]
  },
  {
   "cell_type": "markdown",
   "id": "6587e970-6a24-4cb6-a13c-69109a5a7dec",
   "metadata": {},
   "source": [
    "#### Example:\n",
    "```python\n",
    "def display_name(first_name, last_name):\n",
    "    print(f\"Full Name: {first_name} {last_name}\")\n",
    "\n",
    "# Usage:\n",
    "display_name(\"John\", \"Doe\")  # Output: Full Name: John Doe\n",
    "```\n",
    "\n",
    "---\n",
    "\n",
    "### 4. **Calculate the Volume of a Box**\n",
    "Write a function that takes three positional arguments: length, width, and height, and calculates the volume of a box.\n",
    "\n",
    "#### Example:\n",
    "```python\n",
    "def box_volume(length, width, height):\n",
    "    return length * width * height\n",
    "\n",
    "# Usage:\n",
    "print(box_volume(2, 3, 4))  # Output: 24\n",
    "```\n",
    "\n",
    "---\n",
    "\n",
    "### 5. **Find the Maximum of Three Numbers**\n",
    "Write a function that takes three numbers as positional arguments and returns the largest number.\n",
    "\n",
    "#### Example:\n",
    "```python\n",
    "def find_max(a, b, c):\n",
    "    return max(a, b, c)\n",
    "\n",
    "# Usage:\n",
    "print(find_max(3, 7, 5))  # Output: 7\n",
    "```\n",
    "\n",
    "---"
   ]
  },
  {
   "cell_type": "code",
   "execution_count": null,
   "id": "3093d1b6-0c7a-45b4-9753-7de66f7ced1b",
   "metadata": {},
   "outputs": [],
   "source": []
  },
  {
   "cell_type": "code",
   "execution_count": null,
   "id": "497844ab-604f-4683-bece-275f38afb70d",
   "metadata": {},
   "outputs": [],
   "source": []
  },
  {
   "cell_type": "code",
   "execution_count": null,
   "id": "cdb77106-e040-4df8-b123-2a3e4c587bb2",
   "metadata": {},
   "outputs": [],
   "source": []
  },
  {
   "cell_type": "code",
   "execution_count": null,
   "id": "5d807c17-4f4b-4246-9987-33868d30c892",
   "metadata": {},
   "outputs": [],
   "source": []
  },
  {
   "cell_type": "markdown",
   "id": "df377a5d",
   "metadata": {},
   "source": [
    "### 3 Keyword arguments\n",
    "also known as named arguments, allow you to pass arguments to a function by explicitly associating each value with a parameter by name, rather than relying on their position. This makes the function call more readable and allows flexibility in the order of arguments.\n",
    "\n",
    "### Key Characteristics of Keyword Arguments:\n",
    "\n",
    "1. **Explicit Assignment**:\n",
    "   - Keyword arguments use the parameter name to assign a value, rather than relying on the position of the argument. This helps clarify the purpose of each argument when calling a function.\n",
    "   \n",
    "2. **Flexible Ordering**:\n",
    "   - Unlike positional arguments, the order of keyword arguments in a function call does not need to match the order of parameters in the function definition. You can pass arguments in any order as long as the correct parameter names are used.\n",
    "   \n",
    "3. **Optional Parameters**:\n",
    "   - Keyword arguments can be used to make some parameters optional by assigning default values in the function definition. If the caller does not provide a value for these parameters, the default value will be used.\n",
    "   \n",
    "4. **Clarity in Code**:\n",
    "   - Keyword arguments improve code readability because the parameter names clearly indicate what each value represents in the function call."
   ]
  },
  {
   "cell_type": "markdown",
   "id": "06eb0826",
   "metadata": {},
   "source": [
    "### Syntax:\n",
    "```python\n",
    "def function_name(param1, param2):\n",
    "    # Function body\n",
    "    pass\n",
    "\n",
    "# Function call with keyword arguments\n",
    "function_name(param1=value1, param2=value2)\n",
    "```"
   ]
  },
  {
   "cell_type": "code",
   "execution_count": 114,
   "id": "c12ea234-7d30-4d14-9d59-e4e2f5284d16",
   "metadata": {},
   "outputs": [
    {
     "name": "stdout",
     "output_type": "stream",
     "text": [
      "36\n"
     ]
    }
   ],
   "source": [
    "def func(a= 10):\n",
    "    print(a)\n",
    "func(a= 36)\n",
    "    "
   ]
  },
  {
   "cell_type": "code",
   "execution_count": null,
   "id": "11831b91-0803-4c8d-a97a-962e4eb42779",
   "metadata": {},
   "outputs": [],
   "source": []
  },
  {
   "cell_type": "code",
   "execution_count": null,
   "id": "4f72edc1-0073-4afe-b551-ca5b1f165b8c",
   "metadata": {},
   "outputs": [],
   "source": []
  },
  {
   "cell_type": "markdown",
   "id": "9c962b12",
   "metadata": {},
   "source": [
    "### Example:"
   ]
  },
  {
   "cell_type": "code",
   "execution_count": 105,
   "id": "145c51bf",
   "metadata": {},
   "outputs": [],
   "source": [
    "def func6(name,age,gender):\n",
    "    print(f\"hello my name is {name} my age is {age} my gender is {gender}\")"
   ]
  },
  {
   "cell_type": "code",
   "execution_count": 106,
   "id": "ae8f68e6",
   "metadata": {},
   "outputs": [
    {
     "name": "stdout",
     "output_type": "stream",
     "text": [
      "hello my name is raj my age is 30 my gender is male\n"
     ]
    }
   ],
   "source": [
    "func6(name = \"raj\",age = 30,gender = \"male\")"
   ]
  },
  {
   "cell_type": "code",
   "execution_count": 107,
   "id": "acda92d8",
   "metadata": {},
   "outputs": [
    {
     "name": "stdout",
     "output_type": "stream",
     "text": [
      "hello my name is raj my age is 30 my gender is male\n"
     ]
    }
   ],
   "source": [
    "func6(\"raj\",30,\"male\")"
   ]
  },
  {
   "cell_type": "code",
   "execution_count": 108,
   "id": "d5ef24be",
   "metadata": {},
   "outputs": [
    {
     "name": "stdout",
     "output_type": "stream",
     "text": [
      "hello my name is pooja my age is 25 my gender is female\n"
     ]
    }
   ],
   "source": [
    "func6(gender = \"female\",name = \"pooja\",age = 25)"
   ]
  },
  {
   "cell_type": "code",
   "execution_count": null,
   "id": "5600bd4c",
   "metadata": {},
   "outputs": [],
   "source": []
  },
  {
   "cell_type": "code",
   "execution_count": 110,
   "id": "1d94827f",
   "metadata": {},
   "outputs": [],
   "source": [
    "def func7(a,b,c,d):\n",
    "    print(a,b,c,d)\n",
    "    "
   ]
  },
  {
   "cell_type": "code",
   "execution_count": 111,
   "id": "13793d8b",
   "metadata": {},
   "outputs": [
    {
     "name": "stdout",
     "output_type": "stream",
     "text": [
      "10 20 80 90\n"
     ]
    }
   ],
   "source": [
    "func7(10,20,d=90,c= 80)"
   ]
  },
  {
   "cell_type": "code",
   "execution_count": null,
   "id": "fa718f4d",
   "metadata": {},
   "outputs": [],
   "source": []
  },
  {
   "cell_type": "code",
   "execution_count": null,
   "id": "d605633e",
   "metadata": {},
   "outputs": [],
   "source": []
  },
  {
   "cell_type": "code",
   "execution_count": null,
   "id": "8906a8ae",
   "metadata": {},
   "outputs": [],
   "source": []
  },
  {
   "cell_type": "code",
   "execution_count": 22,
   "id": "52fee898",
   "metadata": {},
   "outputs": [
    {
     "name": "stdout",
     "output_type": "stream",
     "text": [
      "Hello, Alice!\n"
     ]
    }
   ],
   "source": [
    "def greet(name, message):\n",
    "    print(f\"{message}, {name}!\")\n",
    "\n",
    "# Function call with keyword arguments\n",
    "greet(name=\"Alice\", message=\"Hello\")  # Output: Hello, Alice!\n"
   ]
  },
  {
   "cell_type": "markdown",
   "id": "866b84a9",
   "metadata": {},
   "source": [
    "In this example, the arguments are passed by explicitly naming the parameters (`name` and `message`), making the function call more descriptive and flexible."
   ]
  },
  {
   "cell_type": "markdown",
   "id": "cc7a12d8",
   "metadata": {},
   "source": [
    "### Order of Keyword Arguments:\n",
    "\n",
    "Unlike positional arguments, keyword arguments can be passed in any order. For example:"
   ]
  },
  {
   "cell_type": "code",
   "execution_count": 23,
   "id": "15e70ba3",
   "metadata": {},
   "outputs": [
    {
     "name": "stdout",
     "output_type": "stream",
     "text": [
      "Name: Alice, Age: 25, City: New York\n"
     ]
    }
   ],
   "source": [
    "def display_info(name, age, city):\n",
    "    print(f\"Name: {name}, Age: {age}, City: {city}\")\n",
    "\n",
    "# Keyword arguments in any order\n",
    "display_info(age=25, city=\"New York\", name=\"Alice\")\n",
    "# Output: Name: Alice, Age: 25, City: New York\n"
   ]
  },
  {
   "cell_type": "markdown",
   "id": "3b7b200f",
   "metadata": {},
   "source": [
    "Here, the function parameters `name`, `age`, and `city` are explicitly specified, allowing them to be passed in any order."
   ]
  },
  {
   "cell_type": "markdown",
   "id": "b95233b8",
   "metadata": {},
   "source": [
    "### Combining Positional and Keyword Arguments:"
   ]
  },
  {
   "cell_type": "markdown",
   "id": "f8adbd40",
   "metadata": {},
   "source": [
    "You can mix positional and keyword arguments in the same function call. However, **positional arguments must come before keyword arguments**. Once you use a keyword argument, all subsequent arguments must also be keyword arguments."
   ]
  },
  {
   "cell_type": "code",
   "execution_count": 24,
   "id": "ccc28811",
   "metadata": {},
   "outputs": [
    {
     "name": "stdout",
     "output_type": "stream",
     "text": [
      "Name: Alice, Age: 25, City: New York\n"
     ]
    }
   ],
   "source": [
    "def display_info(name, age, city):\n",
    "    print(f\"Name: {name}, Age: {age}, City: {city}\")\n",
    "\n",
    "# Correct: Positional followed by keyword arguments\n",
    "display_info(\"Alice\", age=25, city=\"New York\")  # Output: Name: Alice, Age: 25, City: New York\n",
    "\n",
    "# Incorrect: Keyword argument followed by positional argument\n",
    "# display_info(age=25, \"Alice\", city=\"New York\")  # Raises SyntaxError\n"
   ]
  },
  {
   "cell_type": "markdown",
   "id": "a0a6d006",
   "metadata": {},
   "source": [
    "### Default Values in Keyword Arguments:\n",
    "\n",
    "One of the most common use cases for keyword arguments is providing default values for parameters. This allows the caller to omit certain arguments, with the function using default values for those that aren't provided."
   ]
  },
  {
   "cell_type": "code",
   "execution_count": 26,
   "id": "ce49b8b5",
   "metadata": {},
   "outputs": [
    {
     "name": "stdout",
     "output_type": "stream",
     "text": [
      "Hello, Alice!\n"
     ]
    }
   ],
   "source": [
    "def greet(name, message=\"Hello\"):\n",
    "    print(f\"{message}, {name}!\")\n",
    "\n",
    "# Function call with and without default argument\n",
    "greet(\"Alice\")            # Output: Hello, Alice!"
   ]
  },
  {
   "cell_type": "code",
   "execution_count": 27,
   "id": "4b79f186",
   "metadata": {},
   "outputs": [
    {
     "name": "stdout",
     "output_type": "stream",
     "text": [
      "Hi, Bob!\n"
     ]
    }
   ],
   "source": [
    "greet(\"Bob\", message=\"Hi\")  # Output: Hi, Bob!"
   ]
  },
  {
   "cell_type": "markdown",
   "id": "46e98d7b",
   "metadata": {},
   "source": [
    "In this example, `message` has a default value of `\"Hello\"`, so if the caller doesn't provide a `message`, the function uses the default."
   ]
  },
  {
   "cell_type": "markdown",
   "id": "640a5ae5",
   "metadata": {},
   "source": [
    "### Positional vs Keyword Arguments:\n",
    "\n",
    "While positional arguments are simpler, keyword arguments provide more flexibility and clarity. Here’s a comparison:\n",
    "\n",
    "- **Positional Arguments**: The values must be passed in the same order as the parameters in the function definition.\n",
    "- **Keyword Arguments**: The values can be passed in any order by associating them with the parameter names."
   ]
  },
  {
   "cell_type": "markdown",
   "id": "cba9706d",
   "metadata": {},
   "source": [
    "### Advantages of Keyword Arguments:\n",
    "\n",
    "1. **Improved Readability**:\n",
    "   - By explicitly naming parameters, keyword arguments make function calls clearer and easier to understand, especially when there are many arguments.\n",
    "   \n",
    "2. **Flexibility**:\n",
    "   - The ability to pass arguments in any order can be convenient in complex function calls. It also allows you to skip optional parameters by using their default values.\n",
    "\n",
    "3. **Optional Arguments**:\n",
    "   - Default values can make some parameters optional, making the function more flexible and reducing the need to pass arguments every time.\n",
    "\n",
    "4. **Prevents Errors**:\n",
    "   - Since keyword arguments explicitly match parameter names, they reduce the chance of errors due to incorrect argument order."
   ]
  },
  {
   "cell_type": "markdown",
   "id": "3d5bb81e",
   "metadata": {},
   "source": [
    "### Example with Default Arguments:"
   ]
  },
  {
   "cell_type": "code",
   "execution_count": 28,
   "id": "42c15c02",
   "metadata": {},
   "outputs": [
    {
     "name": "stdout",
     "output_type": "stream",
     "text": [
      "Booking a flight from New York to London in Economy class with a Standard meal.\n"
     ]
    }
   ],
   "source": [
    "def book_flight(departure, destination, seat_class=\"Economy\", meal_pref=\"Standard\"):\n",
    "    print(f\"Booking a flight from {departure} to {destination} in {seat_class} class with a {meal_pref} meal.\")\n",
    "\n",
    "# Default keyword arguments can be used\n",
    "book_flight(departure=\"New York\", destination=\"London\")\n",
    "# Output: Booking a flight from New York to London in Economy class with a Standard meal."
   ]
  },
  {
   "cell_type": "code",
   "execution_count": 29,
   "id": "e80ccaae",
   "metadata": {},
   "outputs": [
    {
     "name": "stdout",
     "output_type": "stream",
     "text": [
      "Booking a flight from Paris to Tokyo in Business class with a Vegetarian meal.\n"
     ]
    }
   ],
   "source": [
    "# Override default keyword arguments\n",
    "book_flight(departure=\"Paris\", destination=\"Tokyo\", seat_class=\"Business\", meal_pref=\"Vegetarian\")\n",
    "# Output: Booking a flight from Paris to Tokyo in Business class with a Vegetarian meal."
   ]
  },
  {
   "cell_type": "markdown",
   "id": "f1f43b56",
   "metadata": {},
   "source": [
    "In this example, `seat_class` and `meal_pref` have default values. If these arguments are not provided, the function uses the defaults. If provided, the custom values are used instead."
   ]
  },
  {
   "cell_type": "markdown",
   "id": "d5e86e95",
   "metadata": {},
   "source": [
    "### Rules for Keyword Arguments:\n",
    "\n",
    "1. **Order**:\n",
    "   - Positional arguments must come before keyword arguments. For example:\n",
    "   ```python\n",
    "   func(1, b=2)  # Valid\n",
    "   # func(a=1, 2)  # Invalid\n",
    "   ```\n",
    "\n",
    "2. **All Positional Arguments Must Be Supplied**:\n",
    "   - If a function has positional parameters that don’t have default values, you must provide values for them.\n",
    "\n",
    "3. **Multiple Keyword Arguments**:\n",
    "   - A function can accept multiple keyword arguments, making it flexible in terms of what data is passed.\n",
    "\n",
    "4. **Mixing with Positional Arguments**:\n",
    "   - You can mix positional and keyword arguments, but you must place positional arguments before keyword arguments in a function call.\n",
    "\n",
    "### Conclusion:\n",
    "\n",
    "Keyword arguments in Python allow for more flexible and readable function calls. They enable optional parameters, improve clarity by explicitly associating values with parameter names, and allow arguments to be passed in any order. The use of default values with keyword arguments further enhances the flexibility of Python functions, making them easier to use and maintain."
   ]
  },
  {
   "cell_type": "code",
   "execution_count": null,
   "id": "8d224673",
   "metadata": {},
   "outputs": [],
   "source": []
  },
  {
   "cell_type": "code",
   "execution_count": null,
   "id": "43619035-9335-47cb-9ad1-7b331108c0d9",
   "metadata": {},
   "outputs": [],
   "source": []
  },
  {
   "cell_type": "code",
   "execution_count": null,
   "id": "d7472d91-439b-423d-96a2-c869402a01c0",
   "metadata": {},
   "outputs": [],
   "source": []
  },
  {
   "cell_type": "markdown",
   "id": "872a99fb-0372-48a4-945b-eb581165100d",
   "metadata": {},
   "source": [
    "\n",
    "---\n",
    "\n",
    "### 1. **Greet a User**\n",
    "Write a function that greets a user by their first and last name using keyword arguments.\n",
    "\n",
    "#### Example:\n",
    "```python\n",
    "def greet_user(first_name, last_name):\n",
    "    print(f\"Hello, {first_name} {last_name}!\")\n",
    "\n",
    "# Usage:\n",
    "greet_user(first_name=\"John\", last_name=\"Doe\")  # Output: Hello, John Doe!\n",
    "```\n",
    "\n",
    "---\n",
    "\n",
    "### 2. **Calculate the Area of a Triangle**\n",
    "Write a function that calculates the area of a triangle using keyword arguments for the base and height.\n",
    "\n",
    "#### Example:\n",
    "```python\n",
    "def triangle_area(base, height):\n",
    "    return 0.5 * base * height\n",
    "\n",
    "# Usage:\n",
    "print(triangle_area(base=10, height=5))  # Output: 25.0\n",
    "```\n",
    "\n",
    "---\n",
    "\n",
    "### 3. **Print User Details**\n",
    "Write a function that prints a user's name, age, and city using keyword arguments.\n",
    "\n",
    "#### Example:\n",
    "```python\n",
    "def user_details(name, age, city):\n",
    "    print(f\"Name: {name}, Age: {age}, City: {city}\")\n",
    "\n",
    "# Usage:\n",
    "user_details(name=\"Alice\", age=25, city=\"New York\")\n",
    "# Output: Name: Alice, Age: 25, City: New York\n",
    "```\n",
    "\n",
    "---\n",
    "\n",
    "### 4. **Calculate the Final Price**\n",
    "Write a function to calculate the final price of an item after applying a discount. Use keyword arguments for price and discount percentage.\n",
    "\n",
    "#### Example:\n",
    "```python\n",
    "def final_price(price, discount):\n",
    "    return price - (price * discount / 100)\n",
    "\n",
    "# Usage:\n",
    "print(final_price(price=100, discount=10))  # Output: 90.0\n",
    "```\n",
    "\n",
    "---\n",
    "\n",
    "### 5. **Simple Interest Calculator**\n",
    "Write a function to calculate simple interest using keyword arguments for principal, rate, and time.\n",
    "\n",
    "#### Example:\n",
    "```python\n",
    "def simple_interest(principal, rate, time):\n",
    "    return (principal * rate * time) / 100\n",
    "\n",
    "# Usage:\n",
    "print(simple_interest(principal=1000, rate=5, time=2))  # Output: 100.0\n",
    "```\n",
    "\n",
    "---\n"
   ]
  },
  {
   "cell_type": "code",
   "execution_count": null,
   "id": "fd42e4eb-4ea7-4660-a53d-1f4788a2c5ba",
   "metadata": {},
   "outputs": [],
   "source": []
  },
  {
   "cell_type": "code",
   "execution_count": null,
   "id": "08a454d2-61f1-4ede-aa6b-68e73a13b1fb",
   "metadata": {},
   "outputs": [],
   "source": []
  },
  {
   "cell_type": "markdown",
   "id": "000585a3",
   "metadata": {},
   "source": [
    "In Python, **arbitrary arguments** allow you to pass a variable number of arguments to a function. This is useful when you don't know how many arguments will be passed or want to create a flexible function. There are two types of arbitrary arguments: `*args` and `**kwargs`."
   ]
  },
  {
   "cell_type": "markdown",
   "id": "e5dc5dcc",
   "metadata": {},
   "source": [
    "### 1. **`*args`: Arbitrary Positional Arguments**\n",
    "\n",
    "The `*args` syntax is used to pass a variable number of positional arguments to a function. When `*args` is used, the function can accept any number of positional arguments, and they are captured as a tuple.\n",
    "\n",
    "#### Syntax:\n",
    "\n",
    "```python\n",
    "def function_name(*args):\n",
    "    # Function body\n",
    "    pass\n",
    "```"
   ]
  },
  {
   "cell_type": "markdown",
   "id": "63f1714a",
   "metadata": {},
   "source": [
    "- The asterisk (`*`) before `args` indicates that any additional positional arguments passed to the function will be stored in the tuple `args`.\n",
    "- You can use any name in place of `args`, but by convention, `args` is used."
   ]
  },
  {
   "cell_type": "markdown",
   "id": "ecb94b11",
   "metadata": {},
   "source": [
    "#### Example:"
   ]
  },
  {
   "cell_type": "code",
   "execution_count": 7,
   "id": "889d614e-2ab4-475b-acb0-136e2a694e00",
   "metadata": {},
   "outputs": [],
   "source": [
    "def func20(*num):\n",
    "    z = num[0]+num[1]+num[2]\n",
    "    print(z)"
   ]
  },
  {
   "cell_type": "code",
   "execution_count": 13,
   "id": "ac95e322-1039-4941-9858-523c9898de64",
   "metadata": {},
   "outputs": [
    {
     "name": "stdout",
     "output_type": "stream",
     "text": [
      "60\n"
     ]
    }
   ],
   "source": [
    "func20(10,20,30,40)"
   ]
  },
  {
   "cell_type": "code",
   "execution_count": 14,
   "id": "e2b48c54-77d6-4991-a663-d4e28844d462",
   "metadata": {},
   "outputs": [
    {
     "name": "stdout",
     "output_type": "stream",
     "text": [
      "hello world my \n"
     ]
    }
   ],
   "source": [
    "func20(\"hello \",\"world \",\"my \",40)"
   ]
  },
  {
   "cell_type": "code",
   "execution_count": 2,
   "id": "8d833fe1-1831-489b-aca0-c90719f612c5",
   "metadata": {},
   "outputs": [],
   "source": [
    "a = (10,20,30,40)"
   ]
  },
  {
   "cell_type": "code",
   "execution_count": 3,
   "id": "e304da9b-ccf3-48d5-9617-ce878fc052f8",
   "metadata": {},
   "outputs": [
    {
     "data": {
      "text/plain": [
       "30"
      ]
     },
     "execution_count": 3,
     "metadata": {},
     "output_type": "execute_result"
    }
   ],
   "source": [
    "a[0]+a[1]\n"
   ]
  },
  {
   "cell_type": "code",
   "execution_count": null,
   "id": "fd1667da-e72d-4b65-8247-d9ce02713509",
   "metadata": {},
   "outputs": [],
   "source": []
  },
  {
   "cell_type": "code",
   "execution_count": null,
   "id": "9ef6081d-f686-4b21-a585-cdbdb0b0ae75",
   "metadata": {},
   "outputs": [],
   "source": []
  },
  {
   "cell_type": "code",
   "execution_count": null,
   "id": "b8a42b42-6d78-40ea-aefb-13edd88c99d7",
   "metadata": {},
   "outputs": [],
   "source": []
  },
  {
   "cell_type": "code",
   "execution_count": 129,
   "id": "a2d1143d",
   "metadata": {},
   "outputs": [
    {
     "name": "stdout",
     "output_type": "stream",
     "text": [
      "30\n"
     ]
    }
   ],
   "source": [
    "def func10(*num):\n",
    "    z = num[0]+num[1]\n",
    "    print(z)\n",
    "func10(10,20,30,40,50,60,70) "
   ]
  },
  {
   "cell_type": "code",
   "execution_count": 130,
   "id": "b969a6a4",
   "metadata": {},
   "outputs": [
    {
     "name": "stdout",
     "output_type": "stream",
     "text": [
      "50\n"
     ]
    }
   ],
   "source": [
    "func10(20,30)"
   ]
  },
  {
   "cell_type": "code",
   "execution_count": null,
   "id": "824d49d8",
   "metadata": {},
   "outputs": [],
   "source": []
  },
  {
   "cell_type": "code",
   "execution_count": null,
   "id": "17fdec63",
   "metadata": {},
   "outputs": [],
   "source": [
    "#Example 2\n",
    "def add(*num):\n",
    "\tz = num[0]+num[1]+num[2]         #the argument can be accessed using the index number\n",
    "    \n",
    "\tprint(\"Addition:\", z)\n",
    "\t\n",
    "add(5, 2, 4)"
   ]
  },
  {
   "cell_type": "code",
   "execution_count": 23,
   "id": "a29a2a24-554f-4345-9df8-1338e2c2e58d",
   "metadata": {},
   "outputs": [],
   "source": [
    "def add_numbers(*a):\n",
    "    total = sum(a)\n",
    "    print(type(a))\n",
    "    print(a[0])\n",
    "    print(a[1])\n",
    "    print(a[2])\n",
    "    "
   ]
  },
  {
   "cell_type": "code",
   "execution_count": 24,
   "id": "bc842ee5-e465-4060-9415-17882178691b",
   "metadata": {},
   "outputs": [
    {
     "name": "stdout",
     "output_type": "stream",
     "text": [
      "<class 'tuple'>\n",
      "1\n",
      "2\n",
      "3\n"
     ]
    }
   ],
   "source": [
    "# Call the function with a variable number of arguments\n",
    "add_numbers(1, 2, 3)  # Output: 6"
   ]
  },
  {
   "cell_type": "code",
   "execution_count": 31,
   "id": "cc0a2399",
   "metadata": {},
   "outputs": [
    {
     "name": "stdout",
     "output_type": "stream",
     "text": [
      "100\n"
     ]
    }
   ],
   "source": [
    "print(add_numbers(10, 20, 30, 40))  # Output: 100"
   ]
  },
  {
   "cell_type": "markdown",
   "id": "abe14e2d",
   "metadata": {},
   "source": [
    "In this example:\n",
    "- The function `add_numbers` can accept any number of arguments.\n",
    "- All the arguments are collected in the tuple `args`.\n",
    "- The `sum` function is used to add all the values in `args`."
   ]
  },
  {
   "cell_type": "markdown",
   "id": "30a32d65",
   "metadata": {},
   "source": [
    "#### Characteristics of `*args`:\n",
    "\n",
    "- **Arbitrary number of arguments**: The function can accept any number of arguments, from zero to an infinite number.\n",
    "- **Captured as a tuple**: All positional arguments are stored in a tuple, so you can iterate over them or access them by index."
   ]
  },
  {
   "cell_type": "code",
   "execution_count": null,
   "id": "50aad3c4-27f9-4718-9a22-d8d65bcd6ceb",
   "metadata": {},
   "outputs": [],
   "source": []
  },
  {
   "cell_type": "code",
   "execution_count": null,
   "id": "7ad17026-0ff7-47d7-9ee8-16bc0df2736e",
   "metadata": {},
   "outputs": [],
   "source": []
  },
  {
   "cell_type": "markdown",
   "id": "0cfef6e8-b6ab-4250-9a21-771af7cb9f0f",
   "metadata": {},
   "source": [
    "---\n",
    "\n",
    "### 1. **Sum of Numbers**\n",
    "Write a function that takes any number of arguments using `*args` and returns their sum.\n",
    "\n",
    "#### Example:\n",
    "```python\n",
    "def sum_numbers(*args):\n",
    "    return sum(args)\n",
    "\n",
    "# Usage:\n",
    "print(sum_numbers(1, 2, 3))  # Output: 6\n",
    "print(sum_numbers(10, 20, 30, 40))  # Output: 100\n",
    "```\n",
    "\n",
    "---\n",
    "\n",
    "### 2. **Find the Maximum Value**\n",
    "Write a function that takes any number of arguments using `*args` and returns the largest value.\n",
    "\n",
    "#### Example:\n",
    "```python\n",
    "def find_max(*args):\n",
    "    return max(args)\n",
    "\n",
    "# Usage:\n",
    "print(find_max(3, 7, 1, 9, 2))  # Output: 9\n",
    "```\n",
    "\n",
    "---\n",
    "\n",
    "### 3. **Concatenate Strings**\n",
    "Write a function that takes any number of strings using `*args` and returns their concatenation."
   ]
  },
  {
   "cell_type": "code",
   "execution_count": 25,
   "id": "2c1c10de-4e55-49f0-b285-9bbf39314471",
   "metadata": {},
   "outputs": [
    {
     "data": {
      "text/plain": [
       "'Hello world !'"
      ]
     },
     "execution_count": 25,
     "metadata": {},
     "output_type": "execute_result"
    }
   ],
   "source": [
    "def concatenate_strings(*args):\n",
    "    return \" \".join(args)\n",
    "\n",
    "# Usage:\n",
    "concatenate_strings(\"Hello\", \"world\", \"!\")  # Output: Hello world !"
   ]
  },
  {
   "cell_type": "code",
   "execution_count": null,
   "id": "e4e1eab1-7e0b-468b-9796-b0cae2382676",
   "metadata": {},
   "outputs": [],
   "source": []
  },
  {
   "cell_type": "code",
   "execution_count": null,
   "id": "d45f7a82-52be-41bd-8d8b-d30c7979efbb",
   "metadata": {},
   "outputs": [],
   "source": []
  },
  {
   "cell_type": "markdown",
   "id": "0bd14a33-6faf-4cf5-8770-57ac1fc170cb",
   "metadata": {},
   "source": [
    "#### Example:\n",
    "```python\n",
    "def concatenate_strings(*args):\n",
    "    return \" \".join(args)\n",
    "\n",
    "# Usage:\n",
    "print(concatenate_strings(\"Hello\", \"world\", \"!\"))  # Output: Hello world !\n",
    "```\n",
    "\n",
    "---\n",
    "\n",
    "### 4. **Product of Numbers**\n",
    "Write a function that takes any number of arguments using `*args` and returns their product."
   ]
  },
  {
   "cell_type": "markdown",
   "id": "8dde8be3-f283-4fae-91e7-ad52c58ecc9d",
   "metadata": {},
   "source": [
    "#### Example:\n",
    "```python\n",
    "def product_of_numbers(*args):\n",
    "    product = 1\n",
    "    for num in args:\n",
    "        product *= num\n",
    "    return product\n",
    "\n",
    "# Usage:\n",
    "print(product_of_numbers(1, 2, 3, 4))  # Output: 24\n",
    "```\n",
    "\n",
    "---\n",
    "\n",
    "### 5. **Count the Number of Arguments**\n",
    "Write a function that takes any number of arguments using `*args` and returns the count of arguments passed.\n",
    "\n",
    "#### Example:\n",
    "```python\n",
    "def count_arguments(*args):\n",
    "    return len(args)\n",
    "\n",
    "# Usage:\n",
    "print(count_arguments(1, 2, 3))  # Output: 3\n",
    "print(count_arguments(\"apple\", \"banana\", \"cherry\", \"date\"))  # Output: 4\n",
    "```\n",
    "\n",
    "---"
   ]
  },
  {
   "cell_type": "code",
   "execution_count": null,
   "id": "076afdf7-af1e-48cc-b177-9a2cc9a900f0",
   "metadata": {},
   "outputs": [],
   "source": []
  },
  {
   "cell_type": "markdown",
   "id": "c74d429d-82e8-4e03-95e3-ab69cbb1db22",
   "metadata": {},
   "source": [
    "Here are **5 simple exercises** to practice using `*args` in Python:\n",
    "\n",
    "---\n",
    "\n",
    "### 1. **Sum of Numbers**\n",
    "Write a function that takes any number of arguments using `*args` and returns their sum.\n",
    "\n",
    "#### Example:\n",
    "```python\n",
    "def sum_numbers(*args):\n",
    "    return sum(args)\n",
    "\n",
    "# Usage:\n",
    "print(sum_numbers(1, 2, 3))  # Output: 6\n",
    "print(sum_numbers(10, 20, 30, 40))  # Output: 100\n",
    "```\n",
    "\n",
    "---\n",
    "\n",
    "### 2. **Find the Maximum Value**\n",
    "Write a function that takes any number of arguments using `*args` and returns the largest value.\n",
    "\n",
    "#### Example:\n",
    "```python\n",
    "def find_max(*args):\n",
    "    return max(args)\n",
    "\n",
    "# Usage:\n",
    "print(find_max(3, 7, 1, 9, 2))  # Output: 9\n",
    "```\n",
    "\n",
    "---\n",
    "\n",
    "### 3. **Concatenate Strings**\n",
    "Write a function that takes any number of strings using `*args` and returns their concatenation.\n",
    "\n",
    "#### Example:\n",
    "```python\n",
    "def concatenate_strings(*args):\n",
    "    return \" \".join(args)\n",
    "\n",
    "# Usage:\n",
    "print(concatenate_strings(\"Hello\", \"world\", \"!\"))  # Output: Hello world !\n",
    "```\n",
    "\n",
    "---\n",
    "\n",
    "### 4. **Product of Numbers**\n",
    "Write a function that takes any number of arguments using `*args` and returns their product."
   ]
  },
  {
   "cell_type": "code",
   "execution_count": null,
   "id": "3909774a-f50c-493d-acb1-6b03b1be55c2",
   "metadata": {},
   "outputs": [],
   "source": []
  },
  {
   "cell_type": "code",
   "execution_count": null,
   "id": "577cb56e-6169-458e-a431-135c0e3681bb",
   "metadata": {},
   "outputs": [],
   "source": []
  },
  {
   "cell_type": "code",
   "execution_count": null,
   "id": "5061b349-66a2-4bbe-a2e0-73bae8b4fa58",
   "metadata": {},
   "outputs": [],
   "source": []
  },
  {
   "cell_type": "markdown",
   "id": "de2ed937-318f-4ba4-9084-c4bd3b55319f",
   "metadata": {},
   "source": [
    "#### Example:\n",
    "```python\n",
    "def product_of_numbers(*args):\n",
    "    product = 1\n",
    "    for num in args:\n",
    "        product *= num\n",
    "    return product\n",
    "\n",
    "# Usage:\n",
    "print(product_of_numbers(1, 2, 3, 4))  # Output: 24\n",
    "```\n",
    "\n",
    "---\n",
    "\n",
    "### 5. **Count the Number of Arguments**\n",
    "Write a function that takes any number of arguments using `*args` and returns the count of arguments passed."
   ]
  },
  {
   "cell_type": "code",
   "execution_count": null,
   "id": "89abcdea-1b0f-4a6c-84c5-e14fe1424cd3",
   "metadata": {},
   "outputs": [],
   "source": []
  },
  {
   "cell_type": "code",
   "execution_count": null,
   "id": "0d9578d7-4447-494c-8366-4b727cc32cbc",
   "metadata": {},
   "outputs": [],
   "source": []
  },
  {
   "cell_type": "markdown",
   "id": "8f8e497f-37ba-458d-8fda-48e2cc79c326",
   "metadata": {},
   "source": [
    "#### Example:\n",
    "```python\n",
    "def count_arguments(*args):\n",
    "    return len(args)\n",
    "\n",
    "# Usage:\n",
    "print(count_arguments(1, 2, 3))  # Output: 3\n",
    "print(count_arguments(\"apple\", \"banana\", \"cherry\", \"date\"))  # Output: 4\n",
    "```\n",
    "\n",
    "---\n",
    "\n",
    "These exercises are designed to help learners understand how to use `*args` to handle variable-length positional arguments in Python. Let me know if you need more examples or detailed explanations!"
   ]
  },
  {
   "cell_type": "code",
   "execution_count": null,
   "id": "4c249fdc-f70e-49c5-b81b-c1ea13b4956c",
   "metadata": {},
   "outputs": [],
   "source": []
  },
  {
   "cell_type": "code",
   "execution_count": null,
   "id": "b065497a-619e-45d1-b8c3-be4c7366d407",
   "metadata": {},
   "outputs": [],
   "source": []
  },
  {
   "cell_type": "code",
   "execution_count": null,
   "id": "3c72e9a0-6721-451d-8578-cb8546c0fce6",
   "metadata": {},
   "outputs": [],
   "source": []
  },
  {
   "cell_type": "code",
   "execution_count": null,
   "id": "a0f1449b-c0a0-49f9-b323-bdedc150b71a",
   "metadata": {},
   "outputs": [],
   "source": []
  },
  {
   "cell_type": "markdown",
   "id": "c17246e5",
   "metadata": {},
   "source": [
    "### 2. **`**kwargs`: Arbitrary Keyword Arguments**\n",
    "\n",
    "The `**kwargs` syntax is used to pass a variable number of keyword arguments to a function. When `**kwargs` is used, the function can accept any number of keyword arguments, and they are captured as a dictionary."
   ]
  },
  {
   "cell_type": "markdown",
   "id": "545c35df",
   "metadata": {},
   "source": [
    "#### Syntax:\n",
    "\n",
    "```python\n",
    "def function_name(**kwargs):\n",
    "    # Function body\n",
    "    pass\n",
    "```"
   ]
  },
  {
   "cell_type": "markdown",
   "id": "c01e1f14",
   "metadata": {},
   "source": [
    "- The double asterisk (`**`) before `kwargs` indicates that any additional keyword arguments passed to the function will be stored in the dictionary `kwargs`.\n",
    "- Like `args`, you can use any name in place of `kwargs`, but by convention, `kwargs` is used."
   ]
  },
  {
   "cell_type": "markdown",
   "id": "461f1be1",
   "metadata": {},
   "source": [
    "#### Example:"
   ]
  },
  {
   "cell_type": "code",
   "execution_count": null,
   "id": "324677b8-602d-41f2-a250-e712c1d9150d",
   "metadata": {},
   "outputs": [],
   "source": []
  },
  {
   "cell_type": "code",
   "execution_count": 32,
   "id": "3d11a21f-f0bb-44b5-bb11-589d039b1688",
   "metadata": {},
   "outputs": [],
   "source": [
    "def func(**a):\n",
    "    print(type(a))\n",
    "    for i,j in a.items():\n",
    "        print(f\"this is a key {i} this is a value {j}\")\n",
    "\n"
   ]
  },
  {
   "cell_type": "code",
   "execution_count": 33,
   "id": "a0c5cbd3-6e3a-4b6b-b56b-1dcfd0329bc3",
   "metadata": {},
   "outputs": [
    {
     "name": "stdout",
     "output_type": "stream",
     "text": [
      "<class 'dict'>\n",
      "this is a key name this is a value Alice\n",
      "this is a key age this is a value 25\n"
     ]
    }
   ],
   "source": [
    "func(name = \"Alice\",age= 25)"
   ]
  },
  {
   "cell_type": "code",
   "execution_count": null,
   "id": "769a8e48-4c67-440c-9c19-984415a2e5ad",
   "metadata": {},
   "outputs": [],
   "source": []
  },
  {
   "cell_type": "code",
   "execution_count": null,
   "id": "8ef8b27a-35e0-4501-a126-72993b1406d0",
   "metadata": {},
   "outputs": [],
   "source": [
    "func(a=30,b= \"raj\")"
   ]
  },
  {
   "cell_type": "code",
   "execution_count": 32,
   "id": "7719b355",
   "metadata": {},
   "outputs": [
    {
     "name": "stdout",
     "output_type": "stream",
     "text": [
      "name: Alice\n",
      "age: 25\n",
      "city: New York\n"
     ]
    }
   ],
   "source": [
    "def print_person_info(**kwargs):\n",
    "    for key, value in kwargs.items():\n",
    "        print(f\"{key}: {value}\")\n",
    "\n",
    "# Call the function with variable keyword arguments\n",
    "print_person_info(name=\"Alice\", age=25, city=\"New York\")\n"
   ]
  },
  {
   "cell_type": "markdown",
   "id": "fa0ab880",
   "metadata": {},
   "source": [
    "In this example:\n",
    "- The function `print_person_info` accepts any number of keyword arguments.\n",
    "- The keyword arguments are collected in the dictionary `kwargs`.\n",
    "- The function iterates through the dictionary and prints each key-value pair."
   ]
  },
  {
   "cell_type": "markdown",
   "id": "53bc2875",
   "metadata": {},
   "source": [
    "#### Characteristics of `**kwargs`:\n",
    "\n",
    "- **Arbitrary number of keyword arguments**: The function can accept any number of keyword arguments.\n",
    "- **Captured as a dictionary**: All keyword arguments are stored in a dictionary, so you can iterate through the keys and values."
   ]
  },
  {
   "cell_type": "markdown",
   "id": "4cfc1304",
   "metadata": {},
   "source": [
    "### Combining `*args` and `**kwargs`:\n",
    "\n",
    "You can use both `*args` and `**kwargs` in the same function to handle both positional and keyword arguments."
   ]
  },
  {
   "cell_type": "markdown",
   "id": "2762b30a",
   "metadata": {},
   "source": [
    "#### Example:"
   ]
  },
  {
   "cell_type": "code",
   "execution_count": 131,
   "id": "5aff29df",
   "metadata": {},
   "outputs": [
    {
     "name": "stdout",
     "output_type": "stream",
     "text": [
      "Addition: 60\n"
     ]
    }
   ],
   "source": [
    "def func11(**num):\n",
    "    z = num[\"a\"] +num[\"b\"]+num[\"c\"]\n",
    "    print(z)\n",
    "    \n",
    "    \n",
    "add(a = 10,b= 20,c = 30)"
   ]
  },
  {
   "cell_type": "code",
   "execution_count": null,
   "id": "d28e9a98",
   "metadata": {},
   "outputs": [],
   "source": []
  },
  {
   "cell_type": "code",
   "execution_count": null,
   "id": "09bb0d6a",
   "metadata": {},
   "outputs": [],
   "source": [
    "def func10(*num):\n",
    "    z = num[0]+num[1]\n",
    "    print(z)\n",
    "func10(10,20,30,40,50,60,70) "
   ]
  },
  {
   "cell_type": "code",
   "execution_count": null,
   "id": "111d8892",
   "metadata": {},
   "outputs": [],
   "source": []
  },
  {
   "cell_type": "code",
   "execution_count": null,
   "id": "af58f312-3fda-4429-a770-3a0527cd31f4",
   "metadata": {},
   "outputs": [],
   "source": []
  },
  {
   "cell_type": "code",
   "execution_count": null,
   "id": "86990054-6e2b-4957-814d-4b139e236a33",
   "metadata": {},
   "outputs": [],
   "source": []
  },
  {
   "cell_type": "code",
   "execution_count": null,
   "id": "5f6904d9",
   "metadata": {},
   "outputs": [],
   "source": []
  },
  {
   "cell_type": "code",
   "execution_count": null,
   "id": "9aecc911",
   "metadata": {},
   "outputs": [],
   "source": []
  },
  {
   "cell_type": "code",
   "execution_count": 10,
   "id": "d474a267",
   "metadata": {},
   "outputs": [
    {
     "name": "stdout",
     "output_type": "stream",
     "text": [
      "Addition: 11\n"
     ]
    }
   ],
   "source": [
    "#Keyword Variable Length Arguments\n",
    "#Example 1\n",
    "def add(**num):               \n",
    "\tz = num['a']+num['b']+num['c']      #you can give any name instead of a,b,c\n",
    "\tprint(\"Addition:\", z)\n",
    "\t\n",
    "add(a=5, b=2, c=4)"
   ]
  },
  {
   "cell_type": "code",
   "execution_count": null,
   "id": "67a04cc1",
   "metadata": {},
   "outputs": [],
   "source": []
  },
  {
   "cell_type": "code",
   "execution_count": 34,
   "id": "e741055d-5ec7-4bee-96fe-afbf72c3d183",
   "metadata": {},
   "outputs": [],
   "source": [
    "num = {\"a\":5,\"b\":2,\"c\":4}"
   ]
  },
  {
   "cell_type": "code",
   "execution_count": 35,
   "id": "889d037b-71cf-448f-9691-d7a909abbbd7",
   "metadata": {},
   "outputs": [
    {
     "data": {
      "text/plain": [
       "5"
      ]
     },
     "execution_count": 35,
     "metadata": {},
     "output_type": "execute_result"
    }
   ],
   "source": [
    "num[\"a\"]"
   ]
  },
  {
   "cell_type": "code",
   "execution_count": null,
   "id": "91acd400-d27f-48cb-8e14-b285f4bda75e",
   "metadata": {},
   "outputs": [],
   "source": []
  },
  {
   "cell_type": "code",
   "execution_count": 36,
   "id": "07952a07",
   "metadata": {},
   "outputs": [
    {
     "name": "stdout",
     "output_type": "stream",
     "text": [
      "Positional arguments: (1,)\n",
      "Keyword arguments: {'name': 'hello'}\n"
     ]
    }
   ],
   "source": [
    "def func12 (*args,**kwargs):\n",
    "    print(\"Positional arguments:\", args)\n",
    "    print(\"Keyword arguments:\", kwargs)\n",
    "func12(1,name = \"hello\")\n"
   ]
  },
  {
   "cell_type": "code",
   "execution_count": null,
   "id": "e2910a4c",
   "metadata": {},
   "outputs": [],
   "source": []
  },
  {
   "cell_type": "code",
   "execution_count": 132,
   "id": "92b8d632",
   "metadata": {},
   "outputs": [
    {
     "name": "stdout",
     "output_type": "stream",
     "text": [
      "Positional arguments: (1, 2, 3)\n",
      "Keyword arguments: {'name': 'Alice', 'age': 25, 'city': 'New York'}\n"
     ]
    }
   ],
   "source": [
    "def display_info(*args, **kwargs):\n",
    "    print(\"Positional arguments:\", args)\n",
    "    print(\"Keyword arguments:\", kwargs)\n",
    "\n",
    "# Call the function with both positional and keyword arguments\n",
    "display_info(1, 2, 3, name=\"Alice\", age=25, city=\"New York\")\n"
   ]
  },
  {
   "cell_type": "markdown",
   "id": "f6a1c1e6",
   "metadata": {},
   "source": [
    "In this example:\n",
    "- The `args` tuple stores positional arguments `(1, 2, 3)`.\n",
    "- The `kwargs` dictionary stores keyword arguments `{'name': 'Alice', 'age': 25, 'city': 'New York'}`."
   ]
  },
  {
   "cell_type": "markdown",
   "id": "819c6401",
   "metadata": {},
   "source": [
    "### Order of Arguments:"
   ]
  },
  {
   "cell_type": "markdown",
   "id": "5900f631",
   "metadata": {},
   "source": [
    "When combining positional arguments, `*args`, and `**kwargs`, the order in which you define them in the function signature matters:\n",
    "1. Positional arguments\n",
    "2. `*args`\n",
    "3. Keyword arguments\n",
    "4. `**kwargs`"
   ]
  },
  {
   "cell_type": "markdown",
   "id": "76dcfd6b",
   "metadata": {},
   "source": [
    "#### Correct Order:\n",
    "```python\n",
    "def my_function(positional_arg, *args, keyword_arg=None, **kwargs):\n",
    "    pass\n",
    "```"
   ]
  },
  {
   "cell_type": "markdown",
   "id": "6bd673eb",
   "metadata": {},
   "source": [
    "- Positional arguments are passed first, followed by any number of arbitrary positional arguments (`*args`).\n",
    "- After that, you can have default keyword arguments, followed by arbitrary keyword arguments (`**kwargs`)."
   ]
  },
  {
   "cell_type": "markdown",
   "id": "3002e600",
   "metadata": {},
   "source": [
    "### Advantages of `*args` and `**kwargs`:\n",
    "\n",
    "1. **Flexibility**:\n",
    "   - These mechanisms allow you to write functions that can accept any number of arguments, making them very flexible.\n",
    "   \n",
    "2. **Reduce Code Repetition**:\n",
    "   - Instead of writing multiple function signatures for different numbers of arguments, you can use `*args` or `**kwargs` to handle various cases in a single function.\n",
    "\n",
    "3. **Clear and Readable Code**:\n",
    "   - When used properly, they can make code more concise and easier to maintain."
   ]
  },
  {
   "cell_type": "markdown",
   "id": "5f265694",
   "metadata": {},
   "source": [
    "### Conclusion:\n",
    "\n",
    "- `*args` is used to pass a variable number of **positional arguments** to a function, which are stored as a tuple.\n",
    "- `**kwargs` is used to pass a variable number of **keyword arguments**, which are stored as a dictionary.\n",
    "- These features make Python functions more versatile, allowing them to handle an arbitrary number of arguments while keeping the function signatures clean and readable.\n",
    "\n",
    "By using `*args` and `**kwargs`, you can make your functions highly adaptable and reusable in various contexts."
   ]
  },
  {
   "cell_type": "code",
   "execution_count": null,
   "id": "af2ab376",
   "metadata": {},
   "outputs": [],
   "source": []
  },
  {
   "cell_type": "code",
   "execution_count": null,
   "id": "c6296faf",
   "metadata": {},
   "outputs": [],
   "source": []
  },
  {
   "cell_type": "markdown",
   "id": "0b4aaf15-acaf-43ba-9a3d-4b1eadb1c640",
   "metadata": {},
   "source": [
    "\n",
    "---\n",
    "\n",
    "### 1. **Print User Details**\n",
    "Write a function that accepts user details as keyword arguments using `**kwargs` and prints them in a formatted way.\n",
    "\n",
    "#### Example:\n",
    "```python\n",
    "def user_details(**kwargs):\n",
    "    for key, value in kwargs.items():\n",
    "        print(f\"{key}: {value}\")\n",
    "\n",
    "# Usage:\n",
    "user_details(name=\"Alice\", age=25, city=\"New York\")\n",
    "# Output:\n",
    "# name: Alice\n",
    "# age: 25\n",
    "# city: New York\n",
    "```\n",
    "\n",
    "---\n",
    "\n",
    "### 2. **Greet Multiple Users**\n",
    "Write a function that accepts names as keyword arguments and prints personalized greetings for each.\n",
    "\n",
    "#### Example:\n",
    "```python\n",
    "def greet_users(**kwargs):\n",
    "    for name, greeting in kwargs.items():\n",
    "        print(f\"{greeting}, {name}!\")\n",
    "\n",
    "# Usage:\n",
    "greet_users(Alice=\"Hello\", Bob=\"Hi\", Charlie=\"Greetings\")\n",
    "# Output:\n",
    "# Hello, Alice!\n",
    "# Hi, Bob!\n",
    "# Greetings, Charlie!\n",
    "```\n",
    "\n",
    "---\n",
    "\n",
    "### 3. **Build a Profile**\n",
    "Write a function that accepts user information as keyword arguments and returns a dictionary containing the profile.\n",
    "\n",
    "#### Example:\n",
    "```python\n",
    "def build_profile(**kwargs):\n",
    "    return kwargs\n",
    "\n",
    "# Usage:\n",
    "profile = build_profile(name=\"John\", age=30, profession=\"Engineer\")\n",
    "print(profile)\n",
    "# Output: {'name': 'John', 'age': 30, 'profession': 'Engineer'}\n",
    "```\n",
    "\n",
    "---\n",
    "\n",
    "### 4. **Check for a Specific Key**\n",
    "Write a function that checks if a specific key exists in the keyword arguments passed to the function.\n",
    "\n",
    "#### Example:\n",
    "```python\n",
    "def check_key(key, **kwargs):\n",
    "    return key in kwargs\n",
    "\n",
    "# Usage:\n",
    "print(check_key(\"age\", name=\"Sarah\", age=28))  # Output: True\n",
    "print(check_key(\"city\", name=\"Sarah\", age=28))  # Output: False\n",
    "```\n",
    "\n",
    "---\n",
    "\n",
    "### 5. **Calculate Total Price**\n",
    "Write a function that accepts product names as keyword arguments with their prices and calculates the total price.\n",
    "\n",
    "#### Example:\n",
    "```python\n",
    "def calculate_total(**fruit):\n",
    "    total = sum(fruit.values())\n",
    "    return total\n",
    "\n",
    "# Usage:\n",
    "total_price = calculate_total(apples=3.5, bananas=2.0, oranges=4.0)\n",
    "print(f\"Total Price: {total_price}\")\n",
    "# Output: Total Price: 9.5\n",
    "```\n",
    "\n",
    "---\n",
    "\n"
   ]
  },
  {
   "cell_type": "code",
   "execution_count": 37,
   "id": "5cfc3651-5000-4255-af6d-5328c417eeda",
   "metadata": {},
   "outputs": [],
   "source": [
    "d = {\"a\":1,\"b \":2}"
   ]
  },
  {
   "cell_type": "code",
   "execution_count": 38,
   "id": "2eb457dc-d505-49a8-9b46-244e5915590f",
   "metadata": {},
   "outputs": [
    {
     "data": {
      "text/plain": [
       "dict_values([1, 2])"
      ]
     },
     "execution_count": 38,
     "metadata": {},
     "output_type": "execute_result"
    }
   ],
   "source": [
    "d.values()"
   ]
  },
  {
   "cell_type": "code",
   "execution_count": 40,
   "id": "3020f779",
   "metadata": {},
   "outputs": [
    {
     "data": {
      "text/plain": [
       "3"
      ]
     },
     "execution_count": 40,
     "metadata": {},
     "output_type": "execute_result"
    }
   ],
   "source": [
    "sum(d.values())"
   ]
  },
  {
   "cell_type": "markdown",
   "id": "e6a1d0a1",
   "metadata": {},
   "source": [
    "In Jupyter Notebook, you can access the documentation of a function in a few simple ways. Here's how you can do it:\n",
    "\n",
    "### 1. **Using `help()` function**"
   ]
  },
  {
   "cell_type": "markdown",
   "id": "fdf84bb8",
   "metadata": {},
   "source": [
    "You can use Python's built-in `help()` function to access the documentation of any function. It displays the function's docstring, which typically contains a description of the function, its parameters, and return value."
   ]
  },
  {
   "cell_type": "markdown",
   "id": "67573da2",
   "metadata": {},
   "source": [
    "#### Example:"
   ]
  },
  {
   "cell_type": "code",
   "execution_count": 137,
   "id": "555cc2e5",
   "metadata": {},
   "outputs": [
    {
     "name": "stdout",
     "output_type": "stream",
     "text": [
      "Help on class type in module builtins:\n",
      "\n",
      "class type(object)\n",
      " |  type(object) -> the object's type\n",
      " |  type(name, bases, dict, **kwds) -> a new type\n",
      " |  \n",
      " |  Methods defined here:\n",
      " |  \n",
      " |  __call__(self, /, *args, **kwargs)\n",
      " |      Call self as a function.\n",
      " |  \n",
      " |  __delattr__(self, name, /)\n",
      " |      Implement delattr(self, name).\n",
      " |  \n",
      " |  __dir__(self, /)\n",
      " |      Specialized __dir__ implementation for types.\n",
      " |  \n",
      " |  __getattribute__(self, name, /)\n",
      " |      Return getattr(self, name).\n",
      " |  \n",
      " |  __init__(self, /, *args, **kwargs)\n",
      " |      Initialize self.  See help(type(self)) for accurate signature.\n",
      " |  \n",
      " |  __instancecheck__(self, instance, /)\n",
      " |      Check if an object is an instance.\n",
      " |  \n",
      " |  __or__(self, value, /)\n",
      " |      Return self|value.\n",
      " |  \n",
      " |  __repr__(self, /)\n",
      " |      Return repr(self).\n",
      " |  \n",
      " |  __ror__(self, value, /)\n",
      " |      Return value|self.\n",
      " |  \n",
      " |  __setattr__(self, name, value, /)\n",
      " |      Implement setattr(self, name, value).\n",
      " |  \n",
      " |  __sizeof__(self, /)\n",
      " |      Return memory consumption of the type object.\n",
      " |  \n",
      " |  __subclasscheck__(self, subclass, /)\n",
      " |      Check if a class is a subclass.\n",
      " |  \n",
      " |  __subclasses__(self, /)\n",
      " |      Return a list of immediate subclasses.\n",
      " |  \n",
      " |  mro(self, /)\n",
      " |      Return a type's method resolution order.\n",
      " |  \n",
      " |  ----------------------------------------------------------------------\n",
      " |  Class methods defined here:\n",
      " |  \n",
      " |  __prepare__(...)\n",
      " |      __prepare__() -> dict\n",
      " |      used to create the namespace for the class statement\n",
      " |  \n",
      " |  ----------------------------------------------------------------------\n",
      " |  Static methods defined here:\n",
      " |  \n",
      " |  __new__(*args, **kwargs)\n",
      " |      Create and return a new object.  See help(type) for accurate signature.\n",
      " |  \n",
      " |  ----------------------------------------------------------------------\n",
      " |  Data descriptors defined here:\n",
      " |  \n",
      " |  __abstractmethods__\n",
      " |  \n",
      " |  __annotations__\n",
      " |  \n",
      " |  __dict__\n",
      " |  \n",
      " |  __text_signature__\n",
      " |  \n",
      " |  ----------------------------------------------------------------------\n",
      " |  Data and other attributes defined here:\n",
      " |  \n",
      " |  __base__ = <class 'object'>\n",
      " |      The base class of the class hierarchy.\n",
      " |      \n",
      " |      When called, it accepts no arguments and returns a new featureless\n",
      " |      instance that has no instance attributes and cannot be given any.\n",
      " |  \n",
      " |  \n",
      " |  __bases__ = (<class 'object'>,)\n",
      " |  \n",
      " |  __basicsize__ = 904\n",
      " |  \n",
      " |  __dictoffset__ = 264\n",
      " |  \n",
      " |  __flags__ = 2148031744\n",
      " |  \n",
      " |  __itemsize__ = 40\n",
      " |  \n",
      " |  __mro__ = (<class 'type'>, <class 'object'>)\n",
      " |  \n",
      " |  __weakrefoffset__ = 368\n",
      "\n"
     ]
    }
   ],
   "source": [
    "help(type)"
   ]
  },
  {
   "cell_type": "code",
   "execution_count": 135,
   "id": "10c9d8df",
   "metadata": {},
   "outputs": [],
   "source": [
    "a = [1,2,3,5]"
   ]
  },
  {
   "cell_type": "code",
   "execution_count": 136,
   "id": "e46d9678",
   "metadata": {},
   "outputs": [
    {
     "data": {
      "text/plain": [
       "4"
      ]
     },
     "execution_count": 136,
     "metadata": {},
     "output_type": "execute_result"
    }
   ],
   "source": [
    "len(a)"
   ]
  },
  {
   "cell_type": "code",
   "execution_count": null,
   "id": "c16911af",
   "metadata": {},
   "outputs": [],
   "source": []
  },
  {
   "cell_type": "code",
   "execution_count": 30,
   "id": "780f9bee",
   "metadata": {},
   "outputs": [
    {
     "name": "stdout",
     "output_type": "stream",
     "text": [
      "Help on built-in function print in module builtins:\n",
      "\n",
      "print(*args, sep=' ', end='\\n', file=None, flush=False)\n",
      "    Prints the values to a stream, or to sys.stdout by default.\n",
      "    \n",
      "    sep\n",
      "      string inserted between values, default a space.\n",
      "    end\n",
      "      string appended after the last value, default a newline.\n",
      "    file\n",
      "      a file-like object (stream); defaults to the current sys.stdout.\n",
      "    flush\n",
      "      whether to forcibly flush the stream.\n",
      "\n"
     ]
    }
   ],
   "source": [
    "help(print)\n"
   ]
  },
  {
   "cell_type": "code",
   "execution_count": null,
   "id": "77e396b5",
   "metadata": {},
   "outputs": [],
   "source": [
    "print()"
   ]
  },
  {
   "cell_type": "code",
   "execution_count": null,
   "id": "63dfd21d",
   "metadata": {},
   "outputs": [],
   "source": []
  },
  {
   "cell_type": "markdown",
   "id": "b1f78bcb",
   "metadata": {},
   "source": [
    "This will display the documentation for Python's `print()` function."
   ]
  },
  {
   "cell_type": "markdown",
   "id": "b8ecb853",
   "metadata": {},
   "source": [
    "### 2. **Using `?` before or after the function name**\n",
    "\n",
    "You can also place a `?` before or after the function name to get a quick pop-up of the function's documentation in Jupyter Notebook."
   ]
  },
  {
   "cell_type": "markdown",
   "id": "fa119fa5",
   "metadata": {},
   "source": [
    "#### Example:"
   ]
  },
  {
   "cell_type": "code",
   "execution_count": 138,
   "id": "779d2b97",
   "metadata": {},
   "outputs": [],
   "source": [
    "print?\n"
   ]
  },
  {
   "cell_type": "markdown",
   "id": "2b8dc457",
   "metadata": {},
   "source": [
    "This will show the documentation of the `print()` function in a pop-up window."
   ]
  },
  {
   "cell_type": "markdown",
   "id": "fe145fcf",
   "metadata": {},
   "source": [
    "### 3. **Using `Shift + Tab`**\n",
    "\n",
    "While typing the function name in a Jupyter Notebook cell, you can press `Shift + Tab` to see the function’s documentation. Pressing `Shift + Tab` multiple times (up to four times) can show more detailed information."
   ]
  },
  {
   "cell_type": "markdown",
   "id": "b4df1fb4",
   "metadata": {},
   "source": [
    "#### Steps:\n",
    "1. Start typing the function name (e.g., `print`).\n",
    "2. Place your cursor inside the parentheses or just after the function name.\n",
    "3. Press `Shift + Tab`."
   ]
  },
  {
   "cell_type": "markdown",
   "id": "06ed63d6",
   "metadata": {},
   "source": [
    "This will display a small documentation pop-up with the function's details."
   ]
  },
  {
   "cell_type": "code",
   "execution_count": null,
   "id": "57638c7d",
   "metadata": {},
   "outputs": [],
   "source": [
    "print()"
   ]
  },
  {
   "cell_type": "code",
   "execution_count": null,
   "id": "fa164ca3",
   "metadata": {},
   "outputs": [],
   "source": [
    "print()"
   ]
  },
  {
   "cell_type": "markdown",
   "id": "886d400e",
   "metadata": {},
   "source": [
    "In Python, variables inside functions are crucial for maintaining scope and controlling how data is used and passed around. Here’s a breakdown of how variables work in functions:"
   ]
  },
  {
   "cell_type": "markdown",
   "id": "ab7d90bf",
   "metadata": {},
   "source": [
    "### Types of Variables in Functions:\n",
    "1. **Local Variables**:\n",
    "   - Variables that are declared inside a function and can only be accessed within that function.\n",
    "   - They exist only while the function is being executed and are destroyed once the function ends."
   ]
  },
  {
   "cell_type": "markdown",
   "id": "974a788d",
   "metadata": {},
   "source": [
    "   #### Example:\n",
    "   "
   ]
  },
  {
   "cell_type": "code",
   "execution_count": 41,
   "id": "ac6fe25e",
   "metadata": {},
   "outputs": [
    {
     "name": "stdout",
     "output_type": "stream",
     "text": [
      "40\n"
     ]
    }
   ],
   "source": [
    "def func13():\n",
    "    abc = 10\n",
    "    bca = 30\n",
    "    cba = abc + bca\n",
    "    print(cba)\n",
    "func13()"
   ]
  },
  {
   "cell_type": "code",
   "execution_count": 42,
   "id": "4c3919da",
   "metadata": {},
   "outputs": [
    {
     "ename": "NameError",
     "evalue": "name 'abc' is not defined",
     "output_type": "error",
     "traceback": [
      "\u001b[1;31m---------------------------------------------------------------------------\u001b[0m",
      "\u001b[1;31mNameError\u001b[0m                                 Traceback (most recent call last)",
      "Cell \u001b[1;32mIn[42], line 1\u001b[0m\n\u001b[1;32m----> 1\u001b[0m abc\n",
      "\u001b[1;31mNameError\u001b[0m: name 'abc' is not defined"
     ]
    }
   ],
   "source": [
    "abc"
   ]
  },
  {
   "cell_type": "code",
   "execution_count": null,
   "id": "5b701913",
   "metadata": {},
   "outputs": [],
   "source": []
  },
  {
   "cell_type": "code",
   "execution_count": null,
   "id": "4474b161",
   "metadata": {},
   "outputs": [],
   "source": []
  },
  {
   "cell_type": "code",
   "execution_count": 145,
   "id": "36ba9d82",
   "metadata": {},
   "outputs": [
    {
     "name": "stdout",
     "output_type": "stream",
     "text": [
      "Hello\n"
     ]
    }
   ],
   "source": [
    "def greet():\n",
    "    message = \"Hello\"  # Local variable\n",
    "    print(message)\n",
    "\n",
    "greet()  # Outputs: Hello\n"
   ]
  },
  {
   "cell_type": "code",
   "execution_count": 146,
   "id": "d8578bcc",
   "metadata": {},
   "outputs": [
    {
     "ename": "NameError",
     "evalue": "name 'message' is not defined",
     "output_type": "error",
     "traceback": [
      "\u001b[1;31m---------------------------------------------------------------------------\u001b[0m",
      "\u001b[1;31mNameError\u001b[0m                                 Traceback (most recent call last)",
      "Cell \u001b[1;32mIn[146], line 1\u001b[0m\n\u001b[1;32m----> 1\u001b[0m message\n",
      "\u001b[1;31mNameError\u001b[0m: name 'message' is not defined"
     ]
    }
   ],
   "source": [
    "message"
   ]
  },
  {
   "cell_type": "markdown",
   "id": "088dee48",
   "metadata": {},
   "source": [
    "2. **Global Variables**:\n",
    "   - Variables declared outside a function and can be accessed both inside and outside any function.\n",
    "   - Global variables are accessible throughout the program."
   ]
  },
  {
   "cell_type": "markdown",
   "id": "9edcd9cb",
   "metadata": {},
   "source": [
    "   #### Example:\n",
    "   "
   ]
  },
  {
   "cell_type": "code",
   "execution_count": 147,
   "id": "2803dcb5",
   "metadata": {},
   "outputs": [
    {
     "name": "stdout",
     "output_type": "stream",
     "text": [
      "30\n"
     ]
    }
   ],
   "source": [
    "eja = 20\n",
    "def func14():\n",
    "    i = eja + 10\n",
    "    print(i)\n",
    "func14()"
   ]
  },
  {
   "cell_type": "code",
   "execution_count": 148,
   "id": "f7f03885",
   "metadata": {},
   "outputs": [
    {
     "data": {
      "text/plain": [
       "20"
      ]
     },
     "execution_count": 148,
     "metadata": {},
     "output_type": "execute_result"
    }
   ],
   "source": [
    "eja"
   ]
  },
  {
   "cell_type": "code",
   "execution_count": 150,
   "id": "8a96278a",
   "metadata": {},
   "outputs": [
    {
     "name": "stdout",
     "output_type": "stream",
     "text": [
      "Hello\n"
     ]
    }
   ],
   "source": [
    "greeting = \"Hello\"  # Global variable\n",
    "\n",
    "def greet():\n",
    "    print(greeting)  # Accessing the global variable inside the function\n",
    "\n",
    "greet()  # Outputs: Hello\n"
   ]
  },
  {
   "cell_type": "code",
   "execution_count": 151,
   "id": "bc454ed9",
   "metadata": {},
   "outputs": [
    {
     "data": {
      "text/plain": [
       "'Hello'"
      ]
     },
     "execution_count": 151,
     "metadata": {},
     "output_type": "execute_result"
    }
   ],
   "source": [
    "greeting"
   ]
  },
  {
   "cell_type": "markdown",
   "id": "eeb5ce19",
   "metadata": {},
   "source": [
    "3. **Global Keyword**:\n",
    "   - You can modify a global variable inside a function by using the `global` keyword.\n",
    "   "
   ]
  },
  {
   "cell_type": "code",
   "execution_count": 43,
   "id": "91410b72",
   "metadata": {},
   "outputs": [],
   "source": [
    "counter = 0\n",
    "\n",
    "def increament ():\n",
    "    global counter\n",
    "    counter +=1\n",
    "increament()"
   ]
  },
  {
   "cell_type": "code",
   "execution_count": 44,
   "id": "4a93414e",
   "metadata": {},
   "outputs": [
    {
     "data": {
      "text/plain": [
       "1"
      ]
     },
     "execution_count": 44,
     "metadata": {},
     "output_type": "execute_result"
    }
   ],
   "source": [
    "counter"
   ]
  },
  {
   "cell_type": "markdown",
   "id": "d39843fe",
   "metadata": {},
   "source": [
    "   #### Example:\n",
    "   "
   ]
  },
  {
   "cell_type": "code",
   "execution_count": 14,
   "id": "5a87ae62",
   "metadata": {},
   "outputs": [
    {
     "name": "stdout",
     "output_type": "stream",
     "text": [
      "1\n"
     ]
    }
   ],
   "source": [
    "counter = 0  # Global variable\n",
    "\n",
    "def increment():\n",
    "    global counter  # Using the global variable\n",
    "    counter += 1\n",
    "\n",
    "increment()\n",
    "print(counter)  # Outputs: 1\n"
   ]
  },
  {
   "cell_type": "markdown",
   "id": "50495b31",
   "metadata": {},
   "source": [
    "### Scope of Variables:\n",
    "- **Local Scope**: Variables declared inside the function.\n",
    "- **Global Scope**: Variables declared outside any function, available globally.\n",
    "- **Nonlocal Scope**: Variables used in nested functions, accessible to inner functions but not globally."
   ]
  },
  {
   "cell_type": "code",
   "execution_count": null,
   "id": "46c9bb69",
   "metadata": {},
   "outputs": [],
   "source": []
  },
  {
   "cell_type": "code",
   "execution_count": null,
   "id": "66f9ae00",
   "metadata": {},
   "outputs": [],
   "source": []
  },
  {
   "cell_type": "code",
   "execution_count": null,
   "id": "bbb11f8f",
   "metadata": {},
   "outputs": [],
   "source": []
  },
  {
   "cell_type": "markdown",
   "id": "d393723a",
   "metadata": {},
   "source": [
    "## Nested Function"
   ]
  },
  {
   "cell_type": "markdown",
   "id": "f6e217c0",
   "metadata": {},
   "source": [
    "A **nested function** is a function defined inside another function. The inner function can access variables and parameters of the outer function, creating an enclosed environment known as a \"closure.\" Nested functions are useful for encapsulating functionality and creating more modular code."
   ]
  },
  {
   "cell_type": "markdown",
   "id": "b4a7ca4d",
   "metadata": {},
   "source": [
    "### Syntax of a Nested Function"
   ]
  },
  {
   "cell_type": "code",
   "execution_count": 154,
   "id": "ef9c4831",
   "metadata": {},
   "outputs": [
    {
     "name": "stdout",
     "output_type": "stream",
     "text": [
      "first\n",
      "hello\n"
     ]
    }
   ],
   "source": [
    "def func12():\n",
    "    print(\"first\")\n",
    "    def func13():\n",
    "        print(\"hello\")\n",
    "    func13()\n",
    "func12()\n",
    "        "
   ]
  },
  {
   "cell_type": "code",
   "execution_count": 155,
   "id": "b2cfbbf5",
   "metadata": {},
   "outputs": [
    {
     "name": "stdout",
     "output_type": "stream",
     "text": [
      "first\n"
     ]
    }
   ],
   "source": [
    "def func12():\n",
    "    print(\"first\")\n",
    "func12()\n"
   ]
  },
  {
   "cell_type": "code",
   "execution_count": 156,
   "id": "779c2d64",
   "metadata": {},
   "outputs": [
    {
     "name": "stdout",
     "output_type": "stream",
     "text": [
      "my name is raj\n",
      "hello world\n"
     ]
    }
   ],
   "source": [
    "def outer():\n",
    "    def inner():\n",
    "        print(\"hello world\")\n",
    "    print(\"my name is raj\")\n",
    "    inner()\n",
    "    \n",
    "outer()"
   ]
  },
  {
   "cell_type": "code",
   "execution_count": null,
   "id": "8e4cfe00",
   "metadata": {},
   "outputs": [],
   "source": []
  },
  {
   "cell_type": "code",
   "execution_count": null,
   "id": "851914c7",
   "metadata": {},
   "outputs": [],
   "source": []
  },
  {
   "cell_type": "code",
   "execution_count": null,
   "id": "861d99ff",
   "metadata": {},
   "outputs": [],
   "source": []
  },
  {
   "cell_type": "code",
   "execution_count": null,
   "id": "29a10b89",
   "metadata": {},
   "outputs": [],
   "source": []
  },
  {
   "cell_type": "code",
   "execution_count": 46,
   "id": "f88754e6",
   "metadata": {},
   "outputs": [
    {
     "name": "stdout",
     "output_type": "stream",
     "text": [
      "Function 2\n",
      "Function 1\n",
      "hello\n"
     ]
    }
   ],
   "source": [
    "#Nested Function\n",
    "# Example 1\n",
    "def disp(): \n",
    "    \n",
    "\tdef show():                         #5\n",
    "\t\tprint(\"Function 1\")         #6\n",
    "\tprint(\"Function 2\")              #3\n",
    "\tshow()                              #4\n",
    "disp() \n",
    "\n",
    "\n",
    "\n",
    "#executio number  1\n",
    "print(\"hello\")\n",
    "           "
   ]
  },
  {
   "cell_type": "code",
   "execution_count": null,
   "id": "a6b48a1c",
   "metadata": {},
   "outputs": [],
   "source": []
  },
  {
   "cell_type": "code",
   "execution_count": null,
   "id": "7242b573",
   "metadata": {},
   "outputs": [],
   "source": []
  },
  {
   "cell_type": "code",
   "execution_count": 35,
   "id": "dc1d7f3c",
   "metadata": {},
   "outputs": [
    {
     "name": "stdout",
     "output_type": "stream",
     "text": [
      "Inner function accessing: Outer\n"
     ]
    }
   ],
   "source": [
    "def outer_function():\n",
    "    # Outer function code\n",
    "    outer_variable = \"Outer\"\n",
    "\n",
    "    def inner_function():\n",
    "        # Inner function code\n",
    "        print(\"Inner function accessing:\", outer_variable)\n",
    "\n",
    "    # Calling the inner function inside the outer function\n",
    "    inner_function()\n",
    "\n",
    "# Calling the outer function\n",
    "outer_function()\n"
   ]
  },
  {
   "cell_type": "markdown",
   "id": "4650fd66",
   "metadata": {},
   "source": [
    "### Characteristics of Nested Functions:\n",
    "1. **Encapsulation**: The inner function is only accessible within the outer function.\n",
    "2. **Access to Outer Variables**: The inner function can access variables defined in the outer function's scope.\n",
    "3. **Closure**: A nested function remembers the environment (variables, state) in which it was created even if the outer function finishes execution.\n",
    "4. **Useful for Structuring Code**: You can structure complex code by breaking it down into smaller, more manageable pieces."
   ]
  },
  {
   "cell_type": "markdown",
   "id": "39d79693",
   "metadata": {},
   "source": [
    "### Key Points:\n",
    "- The inner function has access to variables in the outer function's scope.\n",
    "- The inner function cannot be called from outside the outer function unless explicitly returned.\n",
    "- Nested functions are useful for closures and factory functions."
   ]
  },
  {
   "cell_type": "code",
   "execution_count": 14,
   "id": "fc7604f7",
   "metadata": {},
   "outputs": [
    {
     "name": "stdout",
     "output_type": "stream",
     "text": [
      "Function 1\n",
      "Function 2\n",
      "out of the function1\n",
      "Out of the function2\n"
     ]
    }
   ],
   "source": [
    "#Nested Function\n",
    "# Example 1\n",
    "def disp():                   #2\n",
    "    def show():                         #5\n",
    "        print(\"Function 2\")         #6\n",
    "    print(\"Function 1\")              #3\n",
    "    show()                              #4   \n",
    "    print(\"out of the function1\")        #7\n",
    "disp()                   #executio number  1\n",
    "print(\"Out of the function2\")           #8"
   ]
  },
  {
   "cell_type": "code",
   "execution_count": 17,
   "id": "c63bcb8c",
   "metadata": {},
   "outputs": [
    {
     "name": "stdout",
     "output_type": "stream",
     "text": [
      "Show Function This is arguement\n"
     ]
    }
   ],
   "source": [
    "\n",
    "# Example 3 With Return Statement and Parameter\n",
    "def disp(st):                        #this is parameter\n",
    "\tdef show():\n",
    "\t\treturn \"Show Function \"\n",
    "\tresult = show() + st \n",
    "\treturn result\n",
    "print(disp(\"This is arguement\"))              #execution remains same"
   ]
  },
  {
   "cell_type": "code",
   "execution_count": null,
   "id": "4ebaafd1",
   "metadata": {},
   "outputs": [],
   "source": []
  },
  {
   "cell_type": "code",
   "execution_count": null,
   "id": "992f930d",
   "metadata": {},
   "outputs": [],
   "source": []
  },
  {
   "cell_type": "markdown",
   "id": "939c30f1",
   "metadata": {},
   "source": [
    "In Python, functions can be deleted using the `del` keyword. When a function is deleted, it is removed from the current namespace and can no longer be called.\n",
    "\n",
    "### Deleting a Function\n",
    "The `del` keyword is used to delete an object, and functions are objects in Python. Once a function is deleted, trying to call it will result in a `NameError` because the function no longer exists in the current scope."
   ]
  },
  {
   "cell_type": "markdown",
   "id": "098943b3",
   "metadata": {},
   "source": [
    "### Syntax:"
   ]
  },
  {
   "cell_type": "code",
   "execution_count": 157,
   "id": "9df8ca6f",
   "metadata": {},
   "outputs": [
    {
     "name": "stdout",
     "output_type": "stream",
     "text": [
      "Hello, World!\n"
     ]
    }
   ],
   "source": [
    "def my_function():\n",
    "    print(\"Hello, World!\")\n",
    "\n",
    "# Calling the function\n",
    "my_function()"
   ]
  },
  {
   "cell_type": "code",
   "execution_count": 158,
   "id": "788cc0db",
   "metadata": {},
   "outputs": [],
   "source": [
    "# Deleting the function\n",
    "del my_function"
   ]
  },
  {
   "cell_type": "code",
   "execution_count": 159,
   "id": "f658a5f9",
   "metadata": {},
   "outputs": [
    {
     "ename": "NameError",
     "evalue": "name 'my_function' is not defined",
     "output_type": "error",
     "traceback": [
      "\u001b[1;31m---------------------------------------------------------------------------\u001b[0m",
      "\u001b[1;31mNameError\u001b[0m                                 Traceback (most recent call last)",
      "Cell \u001b[1;32mIn[159], line 2\u001b[0m\n\u001b[0;32m      1\u001b[0m \u001b[38;5;66;03m# Trying to call the function after deletion\u001b[39;00m\n\u001b[1;32m----> 2\u001b[0m my_function()\n",
      "\u001b[1;31mNameError\u001b[0m: name 'my_function' is not defined"
     ]
    }
   ],
   "source": [
    "# Trying to call the function after deletion\n",
    "my_function()  # This will raise a NameError"
   ]
  },
  {
   "cell_type": "markdown",
   "id": "795daeb5",
   "metadata": {},
   "source": [
    "### Example:"
   ]
  },
  {
   "cell_type": "code",
   "execution_count": 160,
   "id": "65f25412",
   "metadata": {},
   "outputs": [
    {
     "name": "stdout",
     "output_type": "stream",
     "text": [
      "Hello!\n"
     ]
    }
   ],
   "source": [
    "def greet():\n",
    "    print(\"Hello!\")\n",
    "\n",
    "# Calling the function\n",
    "greet()  # Output: Hello!"
   ]
  },
  {
   "cell_type": "code",
   "execution_count": 161,
   "id": "636a5b33",
   "metadata": {},
   "outputs": [],
   "source": [
    "# Deleting the function\n",
    "del greet"
   ]
  },
  {
   "cell_type": "code",
   "execution_count": 162,
   "id": "0de5843e",
   "metadata": {},
   "outputs": [
    {
     "ename": "NameError",
     "evalue": "name 'greet' is not defined",
     "output_type": "error",
     "traceback": [
      "\u001b[1;31m---------------------------------------------------------------------------\u001b[0m",
      "\u001b[1;31mNameError\u001b[0m                                 Traceback (most recent call last)",
      "Cell \u001b[1;32mIn[162], line 3\u001b[0m\n\u001b[0;32m      1\u001b[0m \u001b[38;5;66;03m# Attempting to call the function after deletion\u001b[39;00m\n\u001b[0;32m      2\u001b[0m \u001b[38;5;66;03m# This will raise an error because 'greet' no longer exists\u001b[39;00m\n\u001b[1;32m----> 3\u001b[0m greet()\n",
      "\u001b[1;31mNameError\u001b[0m: name 'greet' is not defined"
     ]
    }
   ],
   "source": [
    "# Attempting to call the function after deletion\n",
    "# This will raise an error because 'greet' no longer exists\n",
    "greet()  # NameError: name 'greet' is not defined"
   ]
  },
  {
   "cell_type": "code",
   "execution_count": 163,
   "id": "42c07fc3",
   "metadata": {},
   "outputs": [
    {
     "ename": "NameError",
     "evalue": "name 'greet' is not defined",
     "output_type": "error",
     "traceback": [
      "\u001b[1;31m---------------------------------------------------------------------------\u001b[0m",
      "\u001b[1;31mNameError\u001b[0m                                 Traceback (most recent call last)",
      "Cell \u001b[1;32mIn[163], line 1\u001b[0m\n\u001b[1;32m----> 1\u001b[0m greet()\n",
      "\u001b[1;31mNameError\u001b[0m: name 'greet' is not defined"
     ]
    }
   ],
   "source": [
    "greet()"
   ]
  },
  {
   "cell_type": "code",
   "execution_count": null,
   "id": "501f3dd1",
   "metadata": {},
   "outputs": [],
   "source": []
  },
  {
   "cell_type": "markdown",
   "id": "cf256a4f",
   "metadata": {},
   "source": [
    "### Important Notes:\n",
    "- The `del` statement only removes the reference to the function in the current scope. If there are other references to the function (e.g., in another variable or as part of an object), the function might still be accessible through those references.\n",
    "- Once a function is deleted, it cannot be called unless it is redefined or restored through some means (e.g., re-importing it from a module)."
   ]
  },
  {
   "cell_type": "code",
   "execution_count": 164,
   "id": "0a13f2ee",
   "metadata": {},
   "outputs": [],
   "source": [
    "def func():\n",
    "    \"klfasdf\"\n",
    "func()"
   ]
  },
  {
   "cell_type": "code",
   "execution_count": null,
   "id": "63ec6270",
   "metadata": {},
   "outputs": [],
   "source": []
  },
  {
   "cell_type": "markdown",
   "id": "990e8080",
   "metadata": {},
   "source": [
    "### Lambda Function in Python\n",
    "\n",
    "A **lambda function** in Python is a small, anonymous function defined using the `lambda` keyword. It can take any number of arguments, but can only have one expression. The result of this expression is automatically returned without the need for a `return` statement. Lambda functions are useful for short, simple operations where defining a full function might be unnecessary."
   ]
  },
  {
   "cell_type": "markdown",
   "id": "9ebf3bb3",
   "metadata": {},
   "source": [
    "### Syntax of Lambda Function:"
   ]
  },
  {
   "cell_type": "markdown",
   "id": "94595937",
   "metadata": {},
   "source": [
    "```python\n",
    "lambda arguments: expression\n",
    "```"
   ]
  },
  {
   "cell_type": "markdown",
   "id": "40d6a04b",
   "metadata": {},
   "source": [
    "- `lambda` is the keyword to define the function.\n",
    "- `arguments` are the input parameters (just like regular functions).\n",
    "- `expression` is the computation or operation to perform on the arguments, and it is automatically returned."
   ]
  },
  {
   "cell_type": "markdown",
   "id": "55a98a25",
   "metadata": {},
   "source": [
    "### Example of a Lambda Function:"
   ]
  },
  {
   "cell_type": "code",
   "execution_count": 167,
   "id": "7621cef0",
   "metadata": {},
   "outputs": [],
   "source": [
    "def func1 (a):\n",
    "    b = a+10\n",
    "    return b"
   ]
  },
  {
   "cell_type": "code",
   "execution_count": 168,
   "id": "38a56849",
   "metadata": {},
   "outputs": [],
   "source": [
    "ab = func1(20)"
   ]
  },
  {
   "cell_type": "code",
   "execution_count": 169,
   "id": "78c256eb",
   "metadata": {},
   "outputs": [
    {
     "data": {
      "text/plain": [
       "30"
      ]
     },
     "execution_count": 169,
     "metadata": {},
     "output_type": "execute_result"
    }
   ],
   "source": [
    "ab"
   ]
  },
  {
   "cell_type": "code",
   "execution_count": 176,
   "id": "a14746cf",
   "metadata": {},
   "outputs": [],
   "source": [
    "ba = lambda a,b,c : a+b+c"
   ]
  },
  {
   "cell_type": "code",
   "execution_count": 177,
   "id": "8e621c1b",
   "metadata": {},
   "outputs": [
    {
     "data": {
      "text/plain": [
       "90"
      ]
     },
     "execution_count": 177,
     "metadata": {},
     "output_type": "execute_result"
    }
   ],
   "source": [
    "ba(20,30,40)"
   ]
  },
  {
   "cell_type": "code",
   "execution_count": 174,
   "id": "266b32a1",
   "metadata": {},
   "outputs": [],
   "source": [
    "a = lambda c : c*10"
   ]
  },
  {
   "cell_type": "code",
   "execution_count": 175,
   "id": "0b1886e5",
   "metadata": {},
   "outputs": [
    {
     "data": {
      "text/plain": [
       "20"
      ]
     },
     "execution_count": 175,
     "metadata": {},
     "output_type": "execute_result"
    }
   ],
   "source": [
    "a(2)"
   ]
  },
  {
   "cell_type": "code",
   "execution_count": null,
   "id": "bcd2f210",
   "metadata": {},
   "outputs": [],
   "source": []
  },
  {
   "cell_type": "code",
   "execution_count": 44,
   "id": "32256d0d",
   "metadata": {},
   "outputs": [
    {
     "name": "stdout",
     "output_type": "stream",
     "text": [
      "15\n"
     ]
    }
   ],
   "source": [
    "# A lambda function that adds 10 to the input\n",
    "add_10 = lambda x: x + 10\n",
    "print(add_10(5))  # Output: 15\n"
   ]
  },
  {
   "cell_type": "markdown",
   "id": "6a32fe73",
   "metadata": {},
   "source": [
    "In this example:\n",
    "- `x` is the argument.\n",
    "- `x + 10` is the expression that is evaluated and returned.\n",
    "- The function `add_10` adds 10 to the input."
   ]
  },
  {
   "cell_type": "markdown",
   "id": "00506f48",
   "metadata": {},
   "source": [
    "### Differences Between Lambda Functions and Regular Functions:\n",
    "- **Anonymous**: Lambda functions do not have a name (unless you assign them to a variable).\n",
    "- **Single Expression**: They are limited to a single expression (they can't contain multiple statements or complex logic).\n",
    "- **Return Statement**: Lambda functions automatically return the result of their expression (no explicit `return` statement is required)."
   ]
  },
  {
   "cell_type": "markdown",
   "id": "4c49fff8",
   "metadata": {},
   "source": [
    "### Example 2: Lambda Function with Multiple Arguments"
   ]
  },
  {
   "cell_type": "code",
   "execution_count": 45,
   "id": "7e4c5a2f",
   "metadata": {},
   "outputs": [
    {
     "name": "stdout",
     "output_type": "stream",
     "text": [
      "12\n"
     ]
    }
   ],
   "source": [
    "# A lambda function that multiplies two numbers\n",
    "multiply = lambda a, b: a * b\n",
    "print(multiply(3, 4))  # Output: 12\n"
   ]
  },
  {
   "cell_type": "markdown",
   "id": "56e708de",
   "metadata": {},
   "source": [
    "### Lambda Functions with Map, Filter, and Reduce\n",
    "Lambda functions are commonly used with higher-order functions such as `map()`, `filter()`, and `reduce()`."
   ]
  },
  {
   "cell_type": "markdown",
   "id": "d7377323",
   "metadata": {},
   "source": [
    "#### Using `map()` with Lambda:"
   ]
  },
  {
   "cell_type": "markdown",
   "id": "c9a8f6ec",
   "metadata": {},
   "source": [
    "`map()` applies a function to all items in an iterable (like a list)."
   ]
  },
  {
   "cell_type": "code",
   "execution_count": 46,
   "id": "84db2042",
   "metadata": {},
   "outputs": [
    {
     "name": "stdout",
     "output_type": "stream",
     "text": [
      "[2, 4, 6, 8, 10]\n"
     ]
    }
   ],
   "source": [
    "# Multiply each element in the list by 2\n",
    "numbers = [1, 2, 3, 4, 5]\n",
    "doubled = list(map(lambda x: x * 2, numbers))\n",
    "print(doubled)  # Output: [2, 4, 6, 8, 10]\n"
   ]
  },
  {
   "cell_type": "markdown",
   "id": "b8b6f49e",
   "metadata": {},
   "source": [
    "#### Using `filter()` with Lambda:"
   ]
  },
  {
   "cell_type": "markdown",
   "id": "d5a6a14a",
   "metadata": {},
   "source": [
    "`filter()` filters elements in an iterable based on a condition."
   ]
  },
  {
   "cell_type": "code",
   "execution_count": 47,
   "id": "24125093",
   "metadata": {},
   "outputs": [
    {
     "name": "stdout",
     "output_type": "stream",
     "text": [
      "[2, 4]\n"
     ]
    }
   ],
   "source": [
    "# Filter out only even numbers from the list\n",
    "numbers = [1, 2, 3, 4, 5]\n",
    "evens = list(filter(lambda x: x % 2 == 0, numbers))\n",
    "print(evens)  # Output: [2, 4]\n"
   ]
  },
  {
   "cell_type": "markdown",
   "id": "7c1a0e05",
   "metadata": {},
   "source": [
    "#### Using `reduce()` with Lambda (from `functools`):"
   ]
  },
  {
   "cell_type": "markdown",
   "id": "de19b0a7",
   "metadata": {},
   "source": [
    "`reduce()` reduces an iterable to a single value by applying a function cumulatively to its items."
   ]
  },
  {
   "cell_type": "code",
   "execution_count": 48,
   "id": "00a1dc86",
   "metadata": {},
   "outputs": [
    {
     "name": "stdout",
     "output_type": "stream",
     "text": [
      "15\n"
     ]
    }
   ],
   "source": [
    "from functools import reduce\n",
    "\n",
    "# Sum all numbers in the list\n",
    "numbers = [1, 2, 3, 4, 5]\n",
    "total = reduce(lambda x, y: x + y, numbers)\n",
    "print(total)  # Output: 15\n"
   ]
  },
  {
   "cell_type": "markdown",
   "id": "6f5a5ac6",
   "metadata": {},
   "source": [
    "### Why Use Lambda Functions?\n",
    "- **Compact Code**: They allow you to write concise and readable code for small functions.\n",
    "- **Temporary Use**: When you need a function only for a short period, like for a single line of logic (e.g., sorting, filtering).\n",
    "- **Useful with Functional Programming**: Lambda functions fit well with functional programming techniques, especially when used with higher-order functions like `map()`, `filter()`, and `reduce()`."
   ]
  },
  {
   "cell_type": "markdown",
   "id": "9356d393",
   "metadata": {},
   "source": [
    "### Limitations of Lambda Functions:\n",
    "- **Single Expression**: You can't include more than one statement in a lambda function, which can limit their complexity.\n",
    "- **Readability**: Overuse of lambda functions can sometimes make code less readable, especially if the logic inside the lambda is complex.\n",
    "\n",
    "Lambda functions are a powerful tool in Python but should be used judiciously for short, simple functions."
   ]
  },
  {
   "cell_type": "code",
   "execution_count": null,
   "id": "4fd322bb",
   "metadata": {},
   "outputs": [],
   "source": []
  },
  {
   "cell_type": "code",
   "execution_count": null,
   "id": "241c1a8c",
   "metadata": {},
   "outputs": [],
   "source": []
  },
  {
   "cell_type": "code",
   "execution_count": null,
   "id": "09caa5ef",
   "metadata": {},
   "outputs": [],
   "source": []
  },
  {
   "cell_type": "markdown",
   "id": "8f91f33b",
   "metadata": {},
   "source": [
    "### Higher-Order Functions in Python\n",
    "\n",
    "A **higher-order function** is a function that either takes one or more functions as arguments, returns a function, or both. This concept is central to functional programming and allows for more abstract, reusable, and modular code.\n",
    "\n",
    "### Characteristics of Higher-Order Functions:\n",
    "1. **Takes a function as an argument**: A higher-order function can accept other functions as input.\n",
    "2. **Returns a function as output**: A higher-order function can return a new function as its result.\n",
    "3. **Can do both**: It can take a function as input and also return a function as output.\n",
    "\n",
    "### Common Higher-Order Functions in Python:\n",
    "Some commonly used higher-order functions in Python are:\n",
    "- `map()`\n",
    "- `filter()`\n",
    "- `reduce()`\n",
    "- `sorted()`\n",
    "- `any()`\n",
    "- `all()`"
   ]
  },
  {
   "cell_type": "code",
   "execution_count": null,
   "id": "226ebbbf",
   "metadata": {},
   "outputs": [],
   "source": []
  },
  {
   "cell_type": "code",
   "execution_count": null,
   "id": "70178a2c",
   "metadata": {},
   "outputs": [],
   "source": []
  },
  {
   "cell_type": "markdown",
   "id": "705e36f1",
   "metadata": {},
   "source": [
    "### `map()` Function in Python\n",
    "\n",
    "The `map()` function in Python is a built-in higher-order function that allows you to apply a given function to all items of an iterable (like a list, tuple, etc.) and return an iterator (or in Python 3.x, a `map` object). The key feature of `map()` is that it allows you to transform and process elements of an iterable without using a loop, making the code cleaner and more Pythonic."
   ]
  },
  {
   "cell_type": "markdown",
   "id": "4dde6a82",
   "metadata": {},
   "source": [
    "### **Syntax**\n",
    "```python\n",
    "map(function, iterable)\n",
    "```\n",
    "- **function**: A function that will be applied to each item of the iterable.\n",
    "- **iterable**: An iterable (e.g., list, tuple, set) whose elements will be passed to the function."
   ]
  },
  {
   "cell_type": "markdown",
   "id": "767a1688",
   "metadata": {},
   "source": [
    "### **Characteristics of `map()`**\n",
    "1. **Higher-order function**: It takes a function as an argument and applies it to every item in an iterable.\n",
    "2. **Returns a map object**: In Python 3.x, `map()` returns an iterator (map object), which can be converted to a list or tuple.\n",
    "3. **Single or multiple iterables**: `map()` can accept more than one iterable. In this case, the function is applied to corresponding elements from all the iterables."
   ]
  },
  {
   "cell_type": "markdown",
   "id": "0f02eb90",
   "metadata": {},
   "source": [
    "### **Examples**"
   ]
  },
  {
   "cell_type": "markdown",
   "id": "fac0c214",
   "metadata": {},
   "source": [
    "#### 1. **Basic Example with a Single Iterable**"
   ]
  },
  {
   "cell_type": "code",
   "execution_count": 184,
   "id": "047eb0cf",
   "metadata": {},
   "outputs": [
    {
     "data": {
      "text/plain": [
       "[3, 4, 5, 6, 7]"
      ]
     },
     "execution_count": 184,
     "metadata": {},
     "output_type": "execute_result"
    }
   ],
   "source": [
    "numbers = [1, 2, 3, 4, 5]\n",
    "list(map(lambda a :a+2,numbers))\n",
    "\n",
    "\n"
   ]
  },
  {
   "cell_type": "code",
   "execution_count": null,
   "id": "10164b4b",
   "metadata": {},
   "outputs": [],
   "source": []
  },
  {
   "cell_type": "code",
   "execution_count": 54,
   "id": "0abb19e3",
   "metadata": {},
   "outputs": [
    {
     "name": "stdout",
     "output_type": "stream",
     "text": [
      "[1, 4, 9, 16, 25]\n"
     ]
    }
   ],
   "source": [
    "\n",
    "# Example: Convert a list of numbers to their squares\n",
    "numbers = [1, 2, 3, 4, 5]\n",
    "squares = list(map(lambda x: x ** 2, numbers))\n",
    "print(squares)  # Output: [1, 4, 9, 16, 25]\n"
   ]
  },
  {
   "cell_type": "markdown",
   "id": "9aa8dcdb",
   "metadata": {},
   "source": [
    "In this example, the `lambda` function is used to square each element of the `numbers` list."
   ]
  },
  {
   "cell_type": "markdown",
   "id": "41b5787e",
   "metadata": {},
   "source": [
    "#### 2. **Using `map()` with a Named Function**"
   ]
  },
  {
   "cell_type": "markdown",
   "id": "dad78bd8",
   "metadata": {},
   "source": [
    "Instead of using a `lambda`, you can define a separate function and pass it to `map()`."
   ]
  },
  {
   "cell_type": "code",
   "execution_count": null,
   "id": "594c320d",
   "metadata": {},
   "outputs": [],
   "source": []
  },
  {
   "cell_type": "code",
   "execution_count": 188,
   "id": "36bfca68",
   "metadata": {},
   "outputs": [],
   "source": [
    "def square(x):\n",
    "    return x ** 2\n"
   ]
  },
  {
   "cell_type": "code",
   "execution_count": 189,
   "id": "0612a4f6",
   "metadata": {},
   "outputs": [],
   "source": [
    "num = [1,2,3,4,5]"
   ]
  },
  {
   "cell_type": "code",
   "execution_count": 190,
   "id": "1b88b839",
   "metadata": {},
   "outputs": [
    {
     "data": {
      "text/plain": [
       "[1, 4, 9, 16, 25]"
      ]
     },
     "execution_count": 190,
     "metadata": {},
     "output_type": "execute_result"
    }
   ],
   "source": [
    "list(map(square,num))"
   ]
  },
  {
   "cell_type": "code",
   "execution_count": 191,
   "id": "4d19ccb4",
   "metadata": {},
   "outputs": [],
   "source": [
    "num2 = (1,5,4,8)"
   ]
  },
  {
   "cell_type": "code",
   "execution_count": 194,
   "id": "0cc049d1",
   "metadata": {},
   "outputs": [
    {
     "data": {
      "text/plain": [
       "(1, 25, 16, 64)"
      ]
     },
     "execution_count": 194,
     "metadata": {},
     "output_type": "execute_result"
    }
   ],
   "source": [
    "tuple(map(square,num2))"
   ]
  },
  {
   "cell_type": "code",
   "execution_count": null,
   "id": "1e441d92",
   "metadata": {},
   "outputs": [],
   "source": []
  },
  {
   "cell_type": "code",
   "execution_count": 55,
   "id": "30544eb5",
   "metadata": {},
   "outputs": [
    {
     "name": "stdout",
     "output_type": "stream",
     "text": [
      "[1, 4, 9, 16, 25]\n"
     ]
    }
   ],
   "source": [
    "# Example: Use a named function with map\n",
    "def square(x):\n",
    "    return x ** 2\n",
    "\n",
    "numbers = [1, 2, 3, 4, 5]\n",
    "squares = list(map(square, numbers))\n",
    "print(squares)  # Output: [1, 4, 9, 16, 25]\n"
   ]
  },
  {
   "cell_type": "markdown",
   "id": "e1f7d146",
   "metadata": {},
   "source": [
    "#### 3. **Example with Multiple Iterables**\n",
    "\n",
    "If `map()` is given more than one iterable, the function passed must accept the same number of arguments as there are iterables."
   ]
  },
  {
   "cell_type": "code",
   "execution_count": 56,
   "id": "7db3cc95",
   "metadata": {},
   "outputs": [
    {
     "name": "stdout",
     "output_type": "stream",
     "text": [
      "[5, 7, 9]\n"
     ]
    }
   ],
   "source": [
    "# Example: Adding corresponding elements of two lists\n",
    "numbers1 = [1, 2, 3]\n",
    "numbers2 = [4, 5, 6]\n",
    "sum_result = list(map(lambda x, y: x + y, numbers1, numbers2))\n",
    "print(sum_result)  # Output: [5, 7, 9]\n"
   ]
  },
  {
   "cell_type": "markdown",
   "id": "72dc4b28",
   "metadata": {},
   "source": [
    "In this case, the `lambda` function takes two arguments (`x` and `y`), which correspond to elements from `numbers1` and `numbers2`, respectively."
   ]
  },
  {
   "cell_type": "markdown",
   "id": "aa08343b",
   "metadata": {},
   "source": [
    "#### 4. **Using `map()` with a Tuple**"
   ]
  },
  {
   "cell_type": "code",
   "execution_count": 57,
   "id": "8824d2bc",
   "metadata": {},
   "outputs": [
    {
     "name": "stdout",
     "output_type": "stream",
     "text": [
      "(-1, -2, -3, -4)\n"
     ]
    }
   ],
   "source": [
    "# Example: Convert a tuple of numbers to their negatives\n",
    "numbers_tuple = (1, 2, 3, 4)\n",
    "negatives = tuple(map(lambda x: -x, numbers_tuple))\n",
    "print(negatives)  # Output: (-1, -2, -3, -4)\n"
   ]
  },
  {
   "cell_type": "markdown",
   "id": "caed4cd4",
   "metadata": {},
   "source": [
    "You can also apply `map()` to other iterable types, like tuples, and return a new tuple."
   ]
  },
  {
   "cell_type": "markdown",
   "id": "a96f7f73",
   "metadata": {},
   "source": [
    "#### 5. **Using `map()` with a String**"
   ]
  },
  {
   "cell_type": "markdown",
   "id": "16e1f5c3",
   "metadata": {},
   "source": [
    "You can apply `map()` to strings by treating each character as an individual element in the iterable."
   ]
  },
  {
   "cell_type": "code",
   "execution_count": 2,
   "id": "49bfeae7",
   "metadata": {},
   "outputs": [
    {
     "name": "stdout",
     "output_type": "stream",
     "text": [
      "['H', 'E', 'L', 'L', 'O']\n"
     ]
    }
   ],
   "source": [
    "# Example: Convert each character in a string to uppercase\n",
    "text = \"hello\"\n",
    "uppercase_text = list(map(str.upper, text))\n",
    "print(uppercase_text)  # Output: ['H', 'E', 'L', 'L', 'O']\n"
   ]
  },
  {
   "cell_type": "markdown",
   "id": "dfc2fb5b",
   "metadata": {},
   "source": [
    "Here, the `str.upper` method is applied to each character in the string."
   ]
  },
  {
   "cell_type": "markdown",
   "id": "1e650665",
   "metadata": {},
   "source": [
    "### **Advanced Examples**"
   ]
  },
  {
   "cell_type": "markdown",
   "id": "798fb5e3",
   "metadata": {},
   "source": [
    "#### 6. **Filtering Using `map()` and `filter()`**"
   ]
  },
  {
   "cell_type": "markdown",
   "id": "bb7c2443",
   "metadata": {},
   "source": [
    "While `filter()` is more appropriate for filtering tasks, you can combine it with `map()` for specific purposes."
   ]
  },
  {
   "cell_type": "code",
   "execution_count": 59,
   "id": "4fea41ed",
   "metadata": {},
   "outputs": [
    {
     "name": "stdout",
     "output_type": "stream",
     "text": [
      "[None, 4, None, 8, None]\n"
     ]
    }
   ],
   "source": [
    "# Example: Double even numbers and ignore odd numbers\n",
    "numbers = [1, 2, 3, 4, 5]\n",
    "doubled_evens = list(map(lambda x: x * 2 if x % 2 == 0 else None, numbers))\n",
    "print(doubled_evens)  # Output: [None, 4, None, 8, None]\n"
   ]
  },
  {
   "cell_type": "markdown",
   "id": "39432305",
   "metadata": {},
   "source": [
    "Here, only even numbers are doubled, and odd numbers return `None`."
   ]
  },
  {
   "cell_type": "markdown",
   "id": "b1d18cde",
   "metadata": {},
   "source": [
    "#### 7. **Using Multiple Iterables of Different Lengths**\n",
    "\n",
    "If iterables of different lengths are passed to `map()`, the shortest iterable determines the length of the resulting `map` object."
   ]
  },
  {
   "cell_type": "code",
   "execution_count": 60,
   "id": "be2d4623",
   "metadata": {},
   "outputs": [
    {
     "name": "stdout",
     "output_type": "stream",
     "text": [
      "[5, 7]\n"
     ]
    }
   ],
   "source": [
    "# Example: Adding elements of two lists of different lengths\n",
    "numbers1 = [1, 2, 3]\n",
    "numbers2 = [4, 5]\n",
    "sum_result = list(map(lambda x, y: x + y, numbers1, numbers2))\n",
    "print(sum_result)  # Output: [5, 7]\n"
   ]
  },
  {
   "cell_type": "markdown",
   "id": "851318cb",
   "metadata": {},
   "source": [
    "Since `numbers2` is shorter, the `map()` function stops when the shortest iterable is exhausted."
   ]
  },
  {
   "cell_type": "markdown",
   "id": "d9851864",
   "metadata": {},
   "source": [
    "### **Why Use `map()`?**\n",
    "- **Cleaner code**: It allows you to avoid writing explicit loops for element-wise operations.\n",
    "- **Efficiency**: `map()` returns an iterator, which can be more memory efficient than constructing a full list immediately, especially for large datasets.\n",
    "- **Functional Programming**: `map()` supports a more functional programming style, which can lead to more declarative code."
   ]
  },
  {
   "cell_type": "markdown",
   "id": "91873fc4",
   "metadata": {},
   "source": [
    "### **Common Use Cases**\n",
    "1. **Data transformation**: Modify or convert elements in a list, tuple, or set.\n",
    "2. **String manipulation**: Apply a string method like `str.upper()` to all elements.\n",
    "3. **Mathematical operations**: Apply a mathematical operation to each item in a list of numbers.\n",
    "4. **Working with multiple iterables**: Perform operations on multiple lists, tuples, or other iterables in parallel."
   ]
  },
  {
   "cell_type": "markdown",
   "id": "f288de61",
   "metadata": {},
   "source": [
    "### **Limitations of `map()`**\n",
    "- **Not for complex logic**: `map()` is best for simple element-wise transformations. For complex logic or conditions, a `for` loop or list comprehension may be more appropriate.\n",
    "- **Readability**: Overusing `map()` with complex functions (especially `lambda` functions) can make the code harder to understand compared to using list comprehensions or loops."
   ]
  },
  {
   "cell_type": "markdown",
   "id": "23939d62",
   "metadata": {},
   "source": [
    "### Conclusion\n",
    "The `map()` function is a powerful tool for applying simple transformations to all elements in an iterable. It encourages clean, readable, and efficient code, especially in scenarios where loops might otherwise be necessary. When combined with other functional programming tools like `filter()` and `reduce()`, it becomes a key part of writing concise and Pythonic code."
   ]
  },
  {
   "cell_type": "code",
   "execution_count": null,
   "id": "42c44669",
   "metadata": {},
   "outputs": [],
   "source": []
  },
  {
   "cell_type": "markdown",
   "id": "77ebb370",
   "metadata": {},
   "source": [
    "1. **Without `list()`**:\n",
    "   The `map()` function returns a `map` object (an iterator). If you want to see the results or process them further, you'd need to iterate over the object."
   ]
  },
  {
   "cell_type": "code",
   "execution_count": 61,
   "id": "e46c736d",
   "metadata": {},
   "outputs": [
    {
     "name": "stdout",
     "output_type": "stream",
     "text": [
      "<map object at 0x0000029F495BE920>\n"
     ]
    }
   ],
   "source": [
    "numbers1 = [1, 2, 3]\n",
    "numbers2 = [4, 5, 6]\n",
    "sum_result = map(lambda x, y: x + y, numbers1, numbers2)\n",
    "\n",
    "# sum_result is a map object (iterator), and you can't directly see the result\n",
    "print(sum_result)  # Output: <map object at 0x...>\n"
   ]
  },
  {
   "cell_type": "markdown",
   "id": "bc5cc63a",
   "metadata": {},
   "source": [
    "To access the values, you'd need to convert the `map` object into a list, tuple, or another iterable."
   ]
  },
  {
   "cell_type": "markdown",
   "id": "6a7dd558",
   "metadata": {},
   "source": [
    "2. **With `list()`**:\n",
    "   By wrapping `map()` with `list()`, you force the evaluation of the iterator and convert the result into a list immediately."
   ]
  },
  {
   "cell_type": "code",
   "execution_count": 62,
   "id": "a73d82e0",
   "metadata": {},
   "outputs": [
    {
     "name": "stdout",
     "output_type": "stream",
     "text": [
      "[5, 7, 9]\n"
     ]
    }
   ],
   "source": [
    "numbers1 = [1, 2, 3]\n",
    "numbers2 = [4, 5, 6]\n",
    "sum_result = list(map(lambda x, y: x + y, numbers1, numbers2))\n",
    "\n",
    "# Now, sum_result contains a list with the summed values\n",
    "print(sum_result)  # Output: [5, 7, 9]\n"
   ]
  },
  {
   "cell_type": "markdown",
   "id": "02dda8b6",
   "metadata": {},
   "source": [
    "### Why use `list()`:\n",
    "- **Immediate evaluation**: It forces the `map` iterator to compute all the values and returns a list containing the results.\n",
    "- **Access the results directly**: If you plan to work with the mapped results, like printing or using them elsewhere, converting to a list is a common approach.\n",
    "  \n",
    "If you only plan to iterate over the results (like in a loop), keeping it as an iterator can be more memory-efficient, but for most cases, converting it to a list is typical practice."
   ]
  },
  {
   "cell_type": "code",
   "execution_count": null,
   "id": "9db586e9",
   "metadata": {},
   "outputs": [],
   "source": []
  },
  {
   "cell_type": "code",
   "execution_count": null,
   "id": "b83edff8",
   "metadata": {},
   "outputs": [],
   "source": []
  },
  {
   "cell_type": "markdown",
   "id": "536654fc",
   "metadata": {},
   "source": [
    "The `filter()` function in Python is used to filter elements from an iterable (such as lists, tuples, etc.) based on a function that returns either `True` or `False`. The function is applied to each element in the iterable, and only those elements for which the function returns `True` are included in the final result."
   ]
  },
  {
   "cell_type": "markdown",
   "id": "2af6edc7",
   "metadata": {},
   "source": [
    "### Syntax:\n",
    "```python\n",
    "filter(function, iterable)\n",
    "```\n",
    "\n",
    "- **`function`**: A function that tests each element of the iterable and returns `True` or `False`.\n",
    "- **`iterable`**: An iterable (e.g., a list, tuple) that is to be filtered.\n",
    "\n",
    "The `filter()` function returns an iterator, which means it doesn't evaluate the result immediately but generates it lazily as you iterate over it."
   ]
  },
  {
   "cell_type": "markdown",
   "id": "699565fd",
   "metadata": {},
   "source": [
    "### Example:"
   ]
  },
  {
   "cell_type": "markdown",
   "id": "5831ca6f",
   "metadata": {},
   "source": [
    "Suppose you want to filter out the even numbers from a list:"
   ]
  },
  {
   "cell_type": "code",
   "execution_count": 197,
   "id": "8c41724f",
   "metadata": {},
   "outputs": [],
   "source": [
    "numbers = [1, 2, 3, 4, 5, 6, 7, 8, 9, 10]"
   ]
  },
  {
   "cell_type": "code",
   "execution_count": 198,
   "id": "53e6e198",
   "metadata": {},
   "outputs": [],
   "source": [
    "def even(n):\n",
    "    return n%2 == 0"
   ]
  },
  {
   "cell_type": "code",
   "execution_count": 200,
   "id": "b75e3ea6",
   "metadata": {},
   "outputs": [
    {
     "data": {
      "text/plain": [
       "[2, 4, 6, 8, 10]"
      ]
     },
     "execution_count": 200,
     "metadata": {},
     "output_type": "execute_result"
    }
   ],
   "source": [
    "list(filter(even,numbers))"
   ]
  },
  {
   "cell_type": "code",
   "execution_count": null,
   "id": "20e14ea0",
   "metadata": {},
   "outputs": [],
   "source": []
  },
  {
   "cell_type": "code",
   "execution_count": null,
   "id": "129d5f56",
   "metadata": {},
   "outputs": [],
   "source": []
  },
  {
   "cell_type": "code",
   "execution_count": null,
   "id": "a7810a43",
   "metadata": {},
   "outputs": [],
   "source": []
  },
  {
   "cell_type": "code",
   "execution_count": 17,
   "id": "ac850d43",
   "metadata": {},
   "outputs": [],
   "source": [
    "numbers = [1, 2, 3, 4, 5, 6, 7, 8, 9, 10]\n",
    "\n",
    "# Function to check if a number is even\n",
    "def is_even(n):\n",
    "    return n % 2 == 0\n",
    "\n",
    "# Applying filter to keep only even numbers\n",
    "even_numbers = filter(is_even, numbers)"
   ]
  },
  {
   "cell_type": "code",
   "execution_count": 20,
   "id": "f018ba63",
   "metadata": {},
   "outputs": [
    {
     "data": {
      "text/plain": [
       "[2, 4, 6, 8, 10]"
      ]
     },
     "execution_count": 20,
     "metadata": {},
     "output_type": "execute_result"
    }
   ],
   "source": [
    "list(even_numbers)"
   ]
  },
  {
   "cell_type": "code",
   "execution_count": 63,
   "id": "e9792540",
   "metadata": {},
   "outputs": [
    {
     "name": "stdout",
     "output_type": "stream",
     "text": [
      "[2, 4, 6, 8, 10]\n"
     ]
    }
   ],
   "source": [
    "# Convert the filter object to a list to view the result\n",
    "even_numbers_list = list(even_numbers)\n",
    "print(even_numbers_list)  # Output: [2, 4, 6, 8, 10]"
   ]
  },
  {
   "cell_type": "markdown",
   "id": "a10b0f62",
   "metadata": {},
   "source": [
    "### Using `filter()` with a `lambda` function:\n",
    "You can also use a `lambda` function for concise filtering. For instance, filtering the odd numbers:"
   ]
  },
  {
   "cell_type": "code",
   "execution_count": 64,
   "id": "22791258",
   "metadata": {},
   "outputs": [
    {
     "name": "stdout",
     "output_type": "stream",
     "text": [
      "[1, 3, 5, 7, 9]\n"
     ]
    }
   ],
   "source": [
    "numbers = [1, 2, 3, 4, 5, 6, 7, 8, 9, 10]\n",
    "\n",
    "# Using lambda to filter odd numbers\n",
    "odd_numbers = list(filter(lambda n: n % 2 != 0, numbers))\n",
    "\n",
    "print(odd_numbers)  # Output: [1, 3, 5, 7, 9]\n"
   ]
  },
  {
   "cell_type": "markdown",
   "id": "a47926dd",
   "metadata": {},
   "source": [
    "### Explanation:\n",
    "1. **`lambda n: n % 2 != 0`**: This is a small anonymous function that returns `True` if the number is odd (i.e., the remainder of the number when divided by 2 is not 0), otherwise it returns `False`.\n",
    "2. **`filter()`**: It applies the function to each item in the list `numbers` and keeps only the ones where the function returns `True`.\n",
    "3. **`list()`**: The result of `filter()` is an iterator, so we convert it into a list to view the filtered numbers."
   ]
  },
  {
   "cell_type": "markdown",
   "id": "629fc779",
   "metadata": {},
   "source": [
    "### Use cases of `filter()`:\n",
    "- **Filtering based on conditions**: Extracting elements from a dataset that meet certain criteria.\n",
    "- **Filtering strings**: Finding strings of a particular length, filtering out empty strings, etc."
   ]
  },
  {
   "cell_type": "markdown",
   "id": "6a9c29f9",
   "metadata": {},
   "source": [
    "### Important Notes:\n",
    "- Like `map()`, `filter()` returns an iterator. You need to convert it to a list (or another iterable type) to use or view the results immediately.\n",
    "- If all elements of the iterable fail the filtering condition, `filter()` will return an empty iterator."
   ]
  },
  {
   "cell_type": "code",
   "execution_count": null,
   "id": "bd9d5e81",
   "metadata": {},
   "outputs": [],
   "source": []
  },
  {
   "cell_type": "markdown",
   "id": "d06f56d6",
   "metadata": {},
   "source": [
    "The key differences between `map()` and `filter()` in Python lie in their functionality and the way they process iterable objects. Here's a breakdown:\n",
    "\n",
    "### 1. **Purpose**\n",
    "\n",
    "- **`map()`**: Transforms each element in an iterable by applying a specified function. It applies the function to all elements and returns the transformed values.\n",
    "  - **Use case**: When you want to modify or apply a function to every item in an iterable.\n",
    "  - **Example**: Multiplying each element in a list by 2."
   ]
  },
  {
   "cell_type": "code",
   "execution_count": 6,
   "id": "d415a1fb",
   "metadata": {},
   "outputs": [
    {
     "name": "stdout",
     "output_type": "stream",
     "text": [
      "[2, 4, 6, 8]\n"
     ]
    }
   ],
   "source": [
    "  numbers = [1, 2, 3, 4]\n",
    "  result = map(lambda x: x * 2, numbers)\n",
    "  print(list(result))  # Output: [2, 4, 6, 8]\n"
   ]
  },
  {
   "cell_type": "markdown",
   "id": "88c19ea2",
   "metadata": {},
   "source": [
    "- **`filter()`**: Filters elements in an iterable based on whether they satisfy a condition defined by a function (returns `True` or `False`). It returns only those elements for which the function evaluates to `True`.\n",
    "  - **Use case**: When you want to extract elements that meet a specific condition.\n",
    "  - **Example**: Filtering out odd numbers from a list."
   ]
  },
  {
   "cell_type": "code",
   "execution_count": 7,
   "id": "6656e6c2",
   "metadata": {},
   "outputs": [
    {
     "name": "stdout",
     "output_type": "stream",
     "text": [
      "[2, 4]\n"
     ]
    }
   ],
   "source": [
    "  numbers = [1, 2, 3, 4]\n",
    "  result = filter(lambda x: x % 2 == 0, numbers)\n",
    "  print(list(result))  # Output: [2, 4]\n"
   ]
  },
  {
   "cell_type": "markdown",
   "id": "721a023e",
   "metadata": {},
   "source": [
    "### 2. **Return Type**\n",
    "\n",
    "- **`map()`**: Returns a transformed iterable (each element is modified by the function).\n",
    "- **`filter()`**: Returns a filtered iterable (only elements that satisfy the condition are returned)."
   ]
  },
  {
   "cell_type": "markdown",
   "id": "c9c56a07",
   "metadata": {},
   "source": [
    "### 3. **Function Output**\n",
    "\n",
    "- **`map()`**: The function applied to `map()` can return any type of result, and every element in the original iterable is transformed, regardless of the return value.\n",
    "- **`filter()`**: The function used with `filter()` must return a boolean value (`True` or `False`), and only elements that return `True` are included in the final output."
   ]
  },
  {
   "cell_type": "markdown",
   "id": "944fd818",
   "metadata": {},
   "source": [
    "### 4. **Size of Output**\n",
    "\n",
    "- **`map()`**: The length of the output is the same as the input since it applies the function to every element.\n",
    "- **`filter()`**: The length of the output is less than or equal to the input, as it filters out elements that do not meet the condition."
   ]
  },
  {
   "cell_type": "markdown",
   "id": "9b62e8e2",
   "metadata": {},
   "source": [
    "### 5. **Behavior with Empty Iterables**\n",
    "\n",
    "- **`map()`**: With an empty iterable, it returns an empty iterable.\n",
    "- **`filter()`**: Similarly, with an empty iterable, it returns an empty iterable."
   ]
  },
  {
   "cell_type": "markdown",
   "id": "b11a8a73",
   "metadata": {},
   "source": [
    "### 6. **When to Use**\n",
    "\n",
    "- **Use `map()`**: When you need to transform or perform operations on all elements of an iterable.\n",
    "- **Use `filter()`**: When you need to select a subset of elements from an iterable based on a condition."
   ]
  },
  {
   "cell_type": "markdown",
   "id": "c5c3bd96",
   "metadata": {},
   "source": [
    "### Example Comparison:"
   ]
  },
  {
   "cell_type": "code",
   "execution_count": 8,
   "id": "cc49ad6f",
   "metadata": {},
   "outputs": [
    {
     "name": "stdout",
     "output_type": "stream",
     "text": [
      "[1, 4, 9, 16, 25]\n",
      "[2, 4]\n"
     ]
    }
   ],
   "source": [
    "numbers = [1, 2, 3, 4, 5]\n",
    "\n",
    "# Using map to square each number\n",
    "squared_numbers = map(lambda x: x**2, numbers)\n",
    "print(list(squared_numbers))  # Output: [1, 4, 9, 16, 25]\n",
    "\n",
    "# Using filter to extract even numbers\n",
    "even_numbers = filter(lambda x: x % 2 == 0, numbers)\n",
    "print(list(even_numbers))  # Output: [2, 4]\n"
   ]
  },
  {
   "cell_type": "markdown",
   "id": "b5086fc2",
   "metadata": {},
   "source": [
    "In summary:\n",
    "- **`map()`** applies a transformation to all elements.\n",
    "- **`filter()`** extracts elements based on a condition."
   ]
  },
  {
   "cell_type": "code",
   "execution_count": 9,
   "id": "e87811f0",
   "metadata": {},
   "outputs": [
    {
     "name": "stdout",
     "output_type": "stream",
     "text": [
      "[False, True, False, True]\n"
     ]
    }
   ],
   "source": [
    "numbers = [1, 2, 3, 4]\n",
    "result = map(lambda x: x % 2 == 0, numbers)\n",
    "print(list(result))  # Output: [2, 4]\n"
   ]
  },
  {
   "cell_type": "code",
   "execution_count": null,
   "id": "d84f8494",
   "metadata": {},
   "outputs": [],
   "source": []
  },
  {
   "cell_type": "code",
   "execution_count": null,
   "id": "a7bbddaf",
   "metadata": {},
   "outputs": [],
   "source": []
  },
  {
   "cell_type": "markdown",
   "id": "8bc959ee",
   "metadata": {},
   "source": [
    "The `reduce()` function in Python is used to apply a function cumulatively to the elements of an iterable, reducing the iterable to a single value. This function is a part of the `functools` module, so you need to import it before using it.\n",
    "\n",
    "### Syntax:\n",
    "```python\n",
    "from functools import reduce\n",
    "reduce(function, iterable[, initializer])\n",
    "```"
   ]
  },
  {
   "cell_type": "markdown",
   "id": "8d442675",
   "metadata": {},
   "source": [
    "- **`function`**: A function that takes two arguments and returns a single value.\n",
    "- **`iterable`**: The iterable (e.g., list, tuple) whose elements are to be cumulatively processed.\n",
    "- **`initializer`**: Optional. If provided, it is placed before the items of the iterable and serves as a default starting value.\n",
    "\n",
    "### How it works:\n",
    "1. The `reduce()` function applies the `function` to the first two elements of the iterable.\n",
    "2. The result of this operation is then used with the next element.\n",
    "3. This process continues until the entire iterable is reduced to a single cumulative result."
   ]
  },
  {
   "cell_type": "markdown",
   "id": "68e3e802",
   "metadata": {},
   "source": [
    "### Example 1: Summing all elements in a list"
   ]
  },
  {
   "cell_type": "code",
   "execution_count": null,
   "id": "d68d4993",
   "metadata": {},
   "outputs": [],
   "source": []
  },
  {
   "cell_type": "code",
   "execution_count": 204,
   "id": "57255013",
   "metadata": {},
   "outputs": [],
   "source": [
    "from functools import reduce"
   ]
  },
  {
   "cell_type": "code",
   "execution_count": 205,
   "id": "9d2287b3",
   "metadata": {},
   "outputs": [],
   "source": [
    "# List of numbers\n",
    "numbers = [1, 2, 3, 4, 5]"
   ]
  },
  {
   "cell_type": "code",
   "execution_count": 211,
   "id": "b2d8a773",
   "metadata": {},
   "outputs": [],
   "source": [
    "# Function to add two numbers\n",
    "def add(x, y):\n",
    "    return x * y"
   ]
  },
  {
   "cell_type": "code",
   "execution_count": 212,
   "id": "fb0b04db",
   "metadata": {},
   "outputs": [
    {
     "data": {
      "text/plain": [
       "120"
      ]
     },
     "execution_count": 212,
     "metadata": {},
     "output_type": "execute_result"
    }
   ],
   "source": [
    "reduce(add,numbers)"
   ]
  },
  {
   "cell_type": "code",
   "execution_count": null,
   "id": "42448830",
   "metadata": {},
   "outputs": [],
   "source": []
  },
  {
   "cell_type": "code",
   "execution_count": 65,
   "id": "0e021046",
   "metadata": {},
   "outputs": [
    {
     "name": "stdout",
     "output_type": "stream",
     "text": [
      "15\n"
     ]
    }
   ],
   "source": [
    "# Reduce to sum all elements in the list\n",
    "total_sum = reduce(add, numbers)\n",
    "\n",
    "print(total_sum)  # Output: 15"
   ]
  },
  {
   "cell_type": "code",
   "execution_count": null,
   "id": "02d336a3",
   "metadata": {},
   "outputs": [],
   "source": []
  },
  {
   "cell_type": "markdown",
   "id": "32716992",
   "metadata": {},
   "source": [
    "\n",
    "\n",
    "### Code:\n",
    "\n",
    "```python\n",
    "from functools import reduce\n",
    "\n",
    "# List of numbers\n",
    "numbers = [1, 2, 3, 4, 5]\n",
    "\n",
    "# Function to add two numbers\n",
    "def add(x, y):\n",
    "    return x + y\n",
    "\n",
    "# Reduce to sum all elements in the list\n",
    "total_sum = reduce(add, numbers)\n",
    "\n",
    "print(total_sum)  # Output: 15\n",
    "```\n",
    "\n",
    "### Step-by-Step Explanation:\n",
    "\n",
    "1. **Importing `reduce()`**:\n",
    "   - The `reduce()` function is part of the `functools` module, so you need to import it to use it.\n",
    "   - `reduce()` is used to apply a function cumulatively to the items of an iterable (like a list), reducing it to a single value.\n",
    "\n",
    "2. **List of numbers**:\n",
    "   - You have a list `numbers = [1, 2, 3, 4, 5]`.\n",
    "\n",
    "3. **Defining the `add` function**:\n",
    "   - The `add()` function takes two arguments, `x` and `y`, and returns their sum.\n",
    "   ```python\n",
    "   def add(x, y):\n",
    "       return x + y\n",
    "   ```\n",
    "\n",
    "4. **Using `reduce()`**:\n",
    "   - The `reduce()` function takes two arguments:\n",
    "     1. **A function (`add`)**: This function takes two inputs and returns a single output (in this case, it adds two numbers).\n",
    "     2. **An iterable (`numbers`)**: This is the list of numbers that will be reduced to a single value.\n",
    "   - `reduce()` applies the `add()` function to the first two elements of the list (`1 + 2 = 3`), then applies it to the result and the next element (`3 + 3 = 6`), and so on, until all elements are processed.\n",
    "\n",
    "   Here's how the operation works step by step:\n",
    "   - First, it adds the first two elements: `1 + 2 = 3`.\n",
    "   - Then, it adds the result (3) to the third element: `3 + 3 = 6`.\n",
    "   - Next, it adds the result (6) to the fourth element: `6 + 4 = 10`.\n",
    "   - Finally, it adds the result (10) to the fifth element: `10 + 5 = 15`.\n",
    "\n",
    "5. **Result**:\n",
    "   - After processing all the elements, `reduce()` returns the total sum, which is `15`, and it's stored in the variable `total_sum`.\n",
    "\n",
    "6. **Printing the result**:\n",
    "   - Finally, the code prints the total sum: `15`.\n",
    "\n",
    "### Output:\n",
    "```python\n",
    "15\n",
    "```\n",
    "\n",
    "### Key Points about `reduce()`:\n",
    "- **Function**: It applies the function cumulatively to the elements of the iterable.\n",
    "- **Working**: It works by reducing a sequence of elements to a single value.\n",
    "- **Use case**: Ideal for tasks like summing a list, multiplying elements, or combining values in a certain way.\n",
    "\n",
    "In this example, `reduce()` is used to sum all the elements of the list, but it can be applied to any operation where you need to reduce multiple elements into one result (e.g., multiplying all elements, finding the maximum, etc.)."
   ]
  },
  {
   "cell_type": "markdown",
   "id": "6f21d7d5",
   "metadata": {},
   "source": [
    "### Example 2: Using `lambda` with `reduce()` to multiply all elements"
   ]
  },
  {
   "cell_type": "code",
   "execution_count": 66,
   "id": "744f70b1",
   "metadata": {},
   "outputs": [
    {
     "name": "stdout",
     "output_type": "stream",
     "text": [
      "120\n"
     ]
    }
   ],
   "source": [
    "from functools import reduce\n",
    "\n",
    "# List of numbers\n",
    "numbers = [1, 2, 3, 4, 5]\n",
    "\n",
    "# Using lambda function to multiply elements\n",
    "product = reduce(lambda x, y: x * y, numbers)\n",
    "\n",
    "print(product)  # Output: 120\n"
   ]
  },
  {
   "cell_type": "markdown",
   "id": "e86c4749",
   "metadata": {},
   "source": [
    "### Explanation:"
   ]
  },
  {
   "cell_type": "markdown",
   "id": "fe38891c",
   "metadata": {},
   "source": [
    "1. **`lambda x, y: x * y`**: This lambda function multiplies two numbers.\n",
    "2. **`reduce()`**: It applies this function cumulatively to the list of numbers. It starts with the first two elements, multiplies them, then multiplies the result with the next element, and so on.\n",
    "3. **Output**: The result is the cumulative product of all elements in the list."
   ]
  },
  {
   "cell_type": "markdown",
   "id": "00adff8c",
   "metadata": {},
   "source": [
    "### Example 3: Using an `initializer`"
   ]
  },
  {
   "cell_type": "markdown",
   "id": "613714fd",
   "metadata": {},
   "source": [
    "If you provide an `initializer`, it will be used as the starting value for the reduction process."
   ]
  },
  {
   "cell_type": "code",
   "execution_count": 67,
   "id": "a33ff4c1",
   "metadata": {},
   "outputs": [
    {
     "name": "stdout",
     "output_type": "stream",
     "text": [
      "25\n"
     ]
    }
   ],
   "source": [
    "from functools import reduce\n",
    "\n",
    "# List of numbers\n",
    "numbers = [1, 2, 3, 4, 5]\n",
    "\n",
    "# Reduce to sum all elements with an initializer of 10\n",
    "total_sum = reduce(lambda x, y: x + y, numbers, 10)\n",
    "\n",
    "print(total_sum)  # Output: 25\n"
   ]
  },
  {
   "cell_type": "markdown",
   "id": "fec4d58b",
   "metadata": {},
   "source": [
    "In this case, the `reduce()` function starts with the value `10` and then adds it to the first element of the list, continuing the reduction as before."
   ]
  },
  {
   "cell_type": "markdown",
   "id": "06d33398",
   "metadata": {},
   "source": [
    "### Use cases of `reduce()`:\n",
    "- **Aggregating values**: Such as summing or multiplying elements in a list.\n",
    "- **Combining data**: Such as concatenating strings or merging dictionaries.\n",
    "- **Custom reductions**: Implementing any cumulative operation where the final result depends on processing multiple elements step-by-step."
   ]
  },
  {
   "cell_type": "markdown",
   "id": "f0ad589f",
   "metadata": {},
   "source": [
    "### Important Notes:\n",
    "- The `reduce()` function is generally used when you need to perform cumulative operations that cannot be easily done with other built-in functions like `sum()` or `max()`.\n",
    "- In Python 3, `reduce()` is no longer a built-in function, and it must be imported from the `functools` module."
   ]
  },
  {
   "cell_type": "code",
   "execution_count": null,
   "id": "25584ffc",
   "metadata": {},
   "outputs": [],
   "source": []
  },
  {
   "cell_type": "code",
   "execution_count": null,
   "id": "6f50f4cd",
   "metadata": {},
   "outputs": [],
   "source": []
  },
  {
   "cell_type": "markdown",
   "id": "56d181c3",
   "metadata": {},
   "source": [
    "### Advantages of Function "
   ]
  },
  {
   "cell_type": "markdown",
   "id": "c026ea4b",
   "metadata": {},
   "source": [
    "Functions provide numerous advantages in programming, as they enhance code organization, reusability, and clarity. Here are some key advantages of functions:\n",
    "\n",
    "### 1. **Code Reusability**\n",
    "   - Functions allow you to define code once and reuse it multiple times, reducing redundancy. This saves effort and ensures consistency throughout your program.\n",
    "   - Example: A function to calculate the area of a rectangle can be reused every time you need to perform the calculation, instead of rewriting the logic each time.\n",
    "\n",
    "### 2. **Modular Code Structure**\n",
    "   - Functions break down complex problems into smaller, more manageable pieces. This modular structure helps in maintaining and debugging the code.\n",
    "   - Example: Instead of writing a long script for a whole program, different parts of the logic can be encapsulated in separate functions for clarity.\n",
    "\n",
    "### 3. **Improved Readability and Maintainability**\n",
    "   - Well-named functions make the code more readable by abstracting details. Instead of focusing on how something is done, functions allow you to focus on what is being done.\n",
    "   - Example: Using a function named `calculate_salary()` is much clearer than reading a block of code that performs salary calculations.\n",
    "\n",
    "### 4. **Abstraction**\n",
    "   - Functions abstract the implementation details from the rest of the code. This means you can work with the function without knowing the exact steps it takes internally.\n",
    "   - Example: You can call `sort()` without needing to understand the sorting algorithm that works behind the scenes.\n",
    "\n",
    "### 5. **Easier Debugging**\n",
    "   - Functions isolate specific operations in code. This modularization makes it easier to test and debug individual components without affecting the entire codebase.\n",
    "   - Example: If there is a bug in a program, it is easier to find and fix the issue by testing each function independently.\n",
    "\n",
    "### 6. **Reduces Code Duplication**\n",
    "   - By using functions, you eliminate code duplication. If you need to change the logic, you only need to modify the function once, and all calls to that function will use the updated logic.\n",
    "   - Example: If a tax rate calculation changes, you update the function handling the tax logic instead of finding and changing the logic in multiple places.\n",
    "\n",
    "### 7. **Encapsulation and Data Hiding**\n",
    "   - Functions can help encapsulate specific functionality, hiding the implementation details from other parts of the program. This also allows for better control over variables and data.\n",
    "   - Example: A function might take certain arguments, perform calculations, and return the result without exposing intermediate variables or steps.\n",
    "\n",
    "### 8. **Facilitates Collaboration**\n",
    "   - Functions allow multiple developers to work on different parts of the code independently. By defining clear interfaces (i.e., function signatures), teams can divide tasks and later integrate them.\n",
    "   - Example: One team member can work on user authentication while another works on data processing functions.\n",
    "\n",
    "### 9. **Memory Efficiency**\n",
    "   - Functions help in optimizing memory usage by avoiding redundant variables and computations across the code. Memory allocated to function variables is freed when the function completes.\n",
    "   - Example: Temporary variables used in a function are discarded after the function is executed, keeping memory usage lower.\n",
    "\n",
    "### 10. **Testability**\n",
    "   - Functions can be easily tested in isolation from the rest of the program. Unit tests can be written to ensure that each function behaves as expected.\n",
    "   - Example: You can write test cases to ensure that a `calculate_discount()` function works correctly for various inputs.\n",
    "\n",
    "### 11. **Scalability**\n",
    "   - Functions make it easier to scale the application by separating logic into reusable blocks. If the program grows, you can add more functions without drastically affecting existing ones.\n",
    "   - Example: A simple program can be expanded with additional functions without altering the structure of the core functionality.\n",
    "\n",
    "In summary, functions help to create cleaner, more efficient, and maintainable code. They support reuse, abstraction, and division of work, making them an essential tool for effective programming."
   ]
  },
  {
   "cell_type": "code",
   "execution_count": null,
   "id": "a4a70e4f",
   "metadata": {},
   "outputs": [],
   "source": []
  }
 ],
 "metadata": {
  "kernelspec": {
   "display_name": "Python 3 (ipykernel)",
   "language": "python",
   "name": "python3"
  },
  "language_info": {
   "codemirror_mode": {
    "name": "ipython",
    "version": 3
   },
   "file_extension": ".py",
   "mimetype": "text/x-python",
   "name": "python",
   "nbconvert_exporter": "python",
   "pygments_lexer": "ipython3",
   "version": "3.12.7"
  }
 },
 "nbformat": 4,
 "nbformat_minor": 5
}
