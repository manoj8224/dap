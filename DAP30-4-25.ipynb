{
 "cells": [
  {
   "cell_type": "code",
   "execution_count": 30,
   "id": "d4a99835-138d-4d10-acce-1848d9e71d3b",
   "metadata": {},
   "outputs": [
    {
     "name": "stdout",
     "output_type": "stream",
     "text": [
      "Strong password \n"
     ]
    }
   ],
   "source": [
    "password_strength=8\n",
    "if password_strength<8:\n",
    "    print(\"weak password\")\n",
    "elif password_strength>=8:\n",
    "    print(\"Strong password \")\n",
    "else:\n",
    "    print(\"invalid statement \")"
   ]
  },
  {
   "cell_type": "code",
   "execution_count": null,
   "id": "0898de11-d90a-4a85-aea4-c3e47338310f",
   "metadata": {},
   "outputs": [],
   "source": []
  },
  {
   "cell_type": "code",
   "execution_count": 32,
   "id": "9b27b690-eb83-4044-ad2b-01ac5ff53cae",
   "metadata": {},
   "outputs": [
    {
     "name": "stdout",
     "output_type": "stream",
     "text": [
      "1\n",
      "2\n",
      "3\n",
      "4\n",
      "5\n",
      "6\n"
     ]
    }
   ],
   "source": [
    "a=[1,2,3,4,5,6]\n",
    "for i in a:\n",
    "    print (i)"
   ]
  },
  {
   "cell_type": "code",
   "execution_count": 34,
   "id": "6e6b97d0-e835-4bc5-b4aa-7dcb23f18729",
   "metadata": {},
   "outputs": [
    {
     "name": "stdout",
     "output_type": "stream",
     "text": [
      "apple\n",
      "banana\n",
      "orange\n",
      "grapes\n"
     ]
    }
   ],
   "source": [
    "fruits=['apple','banana','orange','grapes']\n",
    "for i in fruits:\n",
    "    print(i)"
   ]
  },
  {
   "cell_type": "code",
   "execution_count": 35,
   "id": "4d021da8-b625-453f-9949-ce8a86fb3b03",
   "metadata": {},
   "outputs": [
    {
     "name": "stdout",
     "output_type": "stream",
     "text": [
      "h\n",
      "e\n",
      "l\n",
      "l\n",
      "o\n"
     ]
    }
   ],
   "source": [
    "word=\"hello\"\n",
    "for i in word:\n",
    "    print(i)"
   ]
  },
  {
   "cell_type": "code",
   "execution_count": 38,
   "id": "ccca6258-3f5c-4395-9fd7-dd6f0fdfc61d",
   "metadata": {},
   "outputs": [
    {
     "name": "stdout",
     "output_type": "stream",
     "text": [
      "0\n",
      "3\n",
      "6\n",
      "9\n"
     ]
    }
   ],
   "source": [
    "for i in range(0,10,3):\n",
    "    print(i)"
   ]
  },
  {
   "cell_type": "code",
   "execution_count": 39,
   "id": "7de5c7bc-156b-460e-b5a3-bffe0e9a56ee",
   "metadata": {},
   "outputs": [
    {
     "name": "stdout",
     "output_type": "stream",
     "text": [
      "loop is finished:\n"
     ]
    }
   ],
   "source": [
    "a=[]\n",
    "for i in a:\n",
    "    print(i)\n",
    "else:\n",
    "    print(\"loop is finished:\")"
   ]
  },
  {
   "cell_type": "code",
   "execution_count": 41,
   "id": "f39617ce-9a58-4ddf-8f1b-32bb22bba88b",
   "metadata": {},
   "outputs": [
    {
     "name": "stdout",
     "output_type": "stream",
     "text": [
      "i=0,j=0\n",
      "i=0,j=1\n",
      "i=1,j=0\n",
      "i=1,j=1\n",
      "i=2,j=0\n",
      "i=2,j=1\n"
     ]
    }
   ],
   "source": [
    "for i in range(3):\n",
    "    for j in range(2):\n",
    "        print(f\"i={i},j={j}\")"
   ]
  },
  {
   "cell_type": "code",
   "execution_count": 42,
   "id": "83b5a6fa-8c0c-49dd-bbf0-99b11c894e6b",
   "metadata": {},
   "outputs": [
    {
     "name": "stdout",
     "output_type": "stream",
     "text": [
      "0 0\n",
      "0 1\n",
      "1 0\n",
      "1 1\n",
      "2 0\n",
      "2 1\n"
     ]
    }
   ],
   "source": [
    "for i in range(3):\n",
    "    for j in range(2):\n",
    "        print(i,j)"
   ]
  },
  {
   "cell_type": "code",
   "execution_count": 43,
   "id": "1f9813c9-e4ae-435c-84f1-6960159688b5",
   "metadata": {},
   "outputs": [
    {
     "name": "stdout",
     "output_type": "stream",
     "text": [
      "0\n",
      "this will be 1st\n",
      "this will be 2nd\n",
      "this will be 3rd\n",
      "1\n",
      "this will be 1st\n",
      "this will be 2nd\n",
      "this will be 3rd\n",
      "2\n",
      "this will be 1st\n",
      "this will be 2nd\n",
      "this will be 3rd\n"
     ]
    }
   ],
   "source": [
    "for i in range(3):\n",
    "    print(i)\n",
    "    print(\"this will be 1st\")\n",
    "    print(\"this will be 2nd\")\n",
    "    print(\"this will be 3rd\")\n",
    "    "
   ]
  },
  {
   "cell_type": "code",
   "execution_count": 44,
   "id": "75943e41-ea0c-44bb-b8f6-9fe895f29162",
   "metadata": {},
   "outputs": [
    {
     "name": "stdout",
     "output_type": "stream",
     "text": [
      "0 = h\n",
      "1 = e\n",
      "2 = l\n",
      "3 = l\n",
      "4 = o\n"
     ]
    }
   ],
   "source": [
    "st=\"hello\"\n",
    "n=len(st)\n",
    "for i in range(n):\n",
    "    print(i,\"=\",st[i])"
   ]
  },
  {
   "cell_type": "code",
   "execution_count": 45,
   "id": "2598ebba-ff85-48ca-b776-5b0a752fd9e1",
   "metadata": {},
   "outputs": [
    {
     "name": "stdout",
     "output_type": "stream",
     "text": [
      "0\n",
      "1\n",
      "2\n",
      "3\n",
      "4\n"
     ]
    }
   ],
   "source": [
    "for i in range(10):\n",
    "    if i == 5:\n",
    "        break\n",
    "    print(i)"
   ]
  },
  {
   "cell_type": "code",
   "execution_count": 46,
   "id": "93d160d3-d8ae-4a08-953b-03015a2eebf1",
   "metadata": {},
   "outputs": [
    {
     "name": "stdout",
     "output_type": "stream",
     "text": [
      "0\n",
      "1\n",
      "3\n",
      "4\n"
     ]
    }
   ],
   "source": [
    "for i in range(5):\n",
    "    if i ==2:\n",
    "        continue\n",
    "    print(i)"
   ]
  },
  {
   "cell_type": "code",
   "execution_count": 49,
   "id": "6cb78d7d-a5da-4fef-9e2f-8d8efda65959",
   "metadata": {},
   "outputs": [
    {
     "name": "stdout",
     "output_type": "stream",
     "text": [
      "0\n",
      "1\n",
      "2\n",
      "3\n",
      "4\n"
     ]
    }
   ],
   "source": [
    "for i in range(5):\n",
    "    if i == 2:\n",
    "        pass\n",
    "    print(i)"
   ]
  },
  {
   "cell_type": "code",
   "execution_count": 50,
   "id": "796ae882-a4ea-4259-8d64-bfad3caaeb76",
   "metadata": {},
   "outputs": [],
   "source": [
    "# Question: You are writing a program that searches for a specific number in a list of integers. \n",
    "# As soon as the number is found, the search should stop, and a message should be printed indicating that the number was found. \n",
    "# How would you implement this\n"
   ]
  },
  {
   "cell_type": "code",
   "execution_count": 61,
   "id": "96184d3a-afdf-4ebd-8b15-91add15bee60",
   "metadata": {},
   "outputs": [
    {
     "name": "stdin",
     "output_type": "stream",
     "text": [
      "enter the number to be searched from 1 to 9: 5\n"
     ]
    },
    {
     "name": "stdout",
     "output_type": "stream",
     "text": [
      "the element is found 5\n"
     ]
    }
   ],
   "source": [
    "arr=[1,2,3,4,5,6,7,8,9]\n",
    "ele=int(input(\"enter the number to be searched from 1 to 9:\"))\n",
    "for i in arr:\n",
    "    if i==ele:\n",
    "        print(\"the element is found\",i);\n",
    "        break"
   ]
  },
  {
   "cell_type": "code",
   "execution_count": null,
   "id": "105199b2-03c7-41e1-8c9b-97d318c3fb65",
   "metadata": {},
   "outputs": [],
   "source": []
  }
 ],
 "metadata": {
  "kernelspec": {
   "display_name": "Python 3 (ipykernel)",
   "language": "python",
   "name": "python3"
  },
  "language_info": {
   "codemirror_mode": {
    "name": "ipython",
    "version": 3
   },
   "file_extension": ".py",
   "mimetype": "text/x-python",
   "name": "python",
   "nbconvert_exporter": "python",
   "pygments_lexer": "ipython3",
   "version": "3.12.7"
  }
 },
 "nbformat": 4,
 "nbformat_minor": 5
}
